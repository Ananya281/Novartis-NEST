{
 "cells": [
  {
   "cell_type": "markdown",
   "id": "06a83e35-3200-4320-bd9b-cb16a0f39871",
   "metadata": {
    "id": "06a83e35-3200-4320-bd9b-cb16a0f39871"
   },
   "source": [
    "# Data Preprocessing and Cleaning\n",
    "---\n",
    "##### This notebook demonstrates data preprocessing steps for a large-scale dataset, including:\n",
    "\n",
    "<div align=\"center\">\n",
    "    <img src=\"HEADER_1.jpeg\" alt=\"Image Description\" width=\"2500\">\n",
    "</div>\n",
    "\n",
    "---\n",
    "##### The aim is to ensure data quality and integrity for accurate analysis."
   ]
  },
  {
   "cell_type": "markdown",
   "id": "9078102d-a1e4-44e9-b9f4-b10c7e728b12",
   "metadata": {
    "id": "9078102d-a1e4-44e9-b9f4-b10c7e728b12"
   },
   "source": [
    "### **Importing Libraries and Loading the Dataset**\n",
    "- **Libraries**: `pandas`\n",
    "- **Dataset**: `usecase_3_.csv`, `drop_withdrawals.txt`, `eligibilities.txt`, `facilities.txt`, `reported_events.txt`\n"
   ]
  },
  {
   "cell_type": "code",
   "execution_count": 1,
   "id": "2f4ed231-e26a-445f-904c-665041470d96",
   "metadata": {
    "executionInfo": {
     "elapsed": 2,
     "status": "ok",
     "timestamp": 1737737331647,
     "user": {
      "displayName": "Medhansh Jain",
      "userId": "15789660724571206766"
     },
     "user_tz": -330
    },
    "id": "2f4ed231-e26a-445f-904c-665041470d96"
   },
   "outputs": [],
   "source": [
    "# Import necessary libraries\n",
    "import pandas as pd"
   ]
  },
  {
   "cell_type": "code",
   "execution_count": 3,
   "id": "8b755143-8f6f-47d0-9930-836dca6cb2ff",
   "metadata": {
    "executionInfo": {
     "elapsed": 17141,
     "status": "ok",
     "timestamp": 1737737348787,
     "user": {
      "displayName": "Medhansh Jain",
      "userId": "15789660724571206766"
     },
     "user_tz": -330
    },
    "id": "8b755143-8f6f-47d0-9930-836dca6cb2ff"
   },
   "outputs": [],
   "source": [
    "# Load dataset\n",
    "df=pd.read_csv('usecase_3_.csv')"
   ]
  },
  {
   "cell_type": "code",
   "execution_count": 4,
   "id": "8dbd7ac9-19e3-4786-94f0-f265dd60aef5",
   "metadata": {
    "colab": {
     "base_uri": "https://localhost:8080/",
     "height": 707
    },
    "executionInfo": {
     "elapsed": 4,
     "status": "ok",
     "timestamp": 1737737348787,
     "user": {
      "displayName": "Medhansh Jain",
      "userId": "15789660724571206766"
     },
     "user_tz": -330
    },
    "id": "8dbd7ac9-19e3-4786-94f0-f265dd60aef5",
    "outputId": "5c48a05a-af46-426d-d831-174fa350654e",
    "scrolled": true
   },
   "outputs": [
    {
     "data": {
      "text/html": [
       "<div>\n",
       "<style scoped>\n",
       "    .dataframe tbody tr th:only-of-type {\n",
       "        vertical-align: middle;\n",
       "    }\n",
       "\n",
       "    .dataframe tbody tr th {\n",
       "        vertical-align: top;\n",
       "    }\n",
       "\n",
       "    .dataframe thead th {\n",
       "        text-align: right;\n",
       "    }\n",
       "</style>\n",
       "<table border=\"1\" class=\"dataframe\">\n",
       "  <thead>\n",
       "    <tr style=\"text-align: right;\">\n",
       "      <th></th>\n",
       "      <th>Unnamed: 0.1</th>\n",
       "      <th>Unnamed: 0</th>\n",
       "      <th>NCT Number</th>\n",
       "      <th>Study Title</th>\n",
       "      <th>Study URL</th>\n",
       "      <th>Acronym</th>\n",
       "      <th>Study Status</th>\n",
       "      <th>Brief Summary</th>\n",
       "      <th>Study Results</th>\n",
       "      <th>Conditions</th>\n",
       "      <th>...</th>\n",
       "      <th>Study Design</th>\n",
       "      <th>Other IDs</th>\n",
       "      <th>Start Date</th>\n",
       "      <th>Primary Completion Date</th>\n",
       "      <th>Completion Date</th>\n",
       "      <th>First Posted</th>\n",
       "      <th>Results First Posted</th>\n",
       "      <th>Last Update Posted</th>\n",
       "      <th>Locations</th>\n",
       "      <th>Study Documents</th>\n",
       "    </tr>\n",
       "  </thead>\n",
       "  <tbody>\n",
       "    <tr>\n",
       "      <th>0</th>\n",
       "      <td>75209</td>\n",
       "      <td>118014</td>\n",
       "      <td>NCT00559130</td>\n",
       "      <td>Efficacy Study of CytoSorb Hemoperfusion Devic...</td>\n",
       "      <td>https://clinicaltrials.gov/study/NCT00559130</td>\n",
       "      <td>NaN</td>\n",
       "      <td>COMPLETED</td>\n",
       "      <td>The hypothesis of this study is use of CytoSor...</td>\n",
       "      <td>NO</td>\n",
       "      <td>Acute Respiratory Distress Syndrome|Acute Lung...</td>\n",
       "      <td>...</td>\n",
       "      <td>Allocation: RANDOMIZED|Intervention Model: PAR...</td>\n",
       "      <td>2007-01</td>\n",
       "      <td>2007-11</td>\n",
       "      <td>2011-04</td>\n",
       "      <td>2011-06</td>\n",
       "      <td>2007-11-16</td>\n",
       "      <td>NaN</td>\n",
       "      <td>2011-06-07</td>\n",
       "      <td>Aachen, Germany|Berlin, Germany|Bonn, Germany|...</td>\n",
       "      <td>NaN</td>\n",
       "    </tr>\n",
       "    <tr>\n",
       "      <th>1</th>\n",
       "      <td>6356</td>\n",
       "      <td>9987</td>\n",
       "      <td>NCT00937664</td>\n",
       "      <td>Safety and Tolerability Study of AZD7762 in Co...</td>\n",
       "      <td>https://clinicaltrials.gov/study/NCT00937664</td>\n",
       "      <td>NaN</td>\n",
       "      <td>TERMINATED</td>\n",
       "      <td>The primary purpose of this study is to find o...</td>\n",
       "      <td>NO</td>\n",
       "      <td>Cancer|Solid Tumors|Advanced Solid Malignancies</td>\n",
       "      <td>...</td>\n",
       "      <td>Allocation: NON_RANDOMIZED|Intervention Model:...</td>\n",
       "      <td>D1040C00008</td>\n",
       "      <td>2009-07</td>\n",
       "      <td>2011-02</td>\n",
       "      <td>2011-02</td>\n",
       "      <td>2009-07-13</td>\n",
       "      <td>NaN</td>\n",
       "      <td>2011-02-07</td>\n",
       "      <td>Research Site, Minami-ku, Fukuoka, Japan</td>\n",
       "      <td>NaN</td>\n",
       "    </tr>\n",
       "    <tr>\n",
       "      <th>2</th>\n",
       "      <td>143427</td>\n",
       "      <td>226012</td>\n",
       "      <td>NCT00441597</td>\n",
       "      <td>Does Atorvastatin Reduce Ischemia-Reperfusion ...</td>\n",
       "      <td>https://clinicaltrials.gov/study/NCT00441597</td>\n",
       "      <td>NaN</td>\n",
       "      <td>COMPLETED</td>\n",
       "      <td>To study the impact of 3 day exposure to atorv...</td>\n",
       "      <td>NO</td>\n",
       "      <td>Ischemia Reperfusion Injury|Cardiovascular Dis...</td>\n",
       "      <td>...</td>\n",
       "      <td>Allocation: RANDOMIZED|Intervention Model: CRO...</td>\n",
       "      <td>atorv01</td>\n",
       "      <td>2007-02</td>\n",
       "      <td>2009-02</td>\n",
       "      <td>2009-03</td>\n",
       "      <td>2007-03-01</td>\n",
       "      <td>NaN</td>\n",
       "      <td>2009-03-17</td>\n",
       "      <td>Radboud University Nijmegen Medical Centre, Ni...</td>\n",
       "      <td>NaN</td>\n",
       "    </tr>\n",
       "    <tr>\n",
       "      <th>3</th>\n",
       "      <td>138885</td>\n",
       "      <td>218952</td>\n",
       "      <td>NCT03296228</td>\n",
       "      <td>Comparison of Dynamic Radiographs in Determini...</td>\n",
       "      <td>https://clinicaltrials.gov/study/NCT03296228</td>\n",
       "      <td>NaN</td>\n",
       "      <td>COMPLETED</td>\n",
       "      <td>The purpose of this study is to identify the f...</td>\n",
       "      <td>NO</td>\n",
       "      <td>Adolescent Idiopathic Scoliosis</td>\n",
       "      <td>...</td>\n",
       "      <td>Observational Model: |Time Perspective: p</td>\n",
       "      <td>UW 16-208</td>\n",
       "      <td>2016-05-01</td>\n",
       "      <td>2018-05-01</td>\n",
       "      <td>2018-12-31</td>\n",
       "      <td>2017-09-28</td>\n",
       "      <td>NaN</td>\n",
       "      <td>2020-05-06</td>\n",
       "      <td>Duchess of Kent Children's Hospital, Hong Kong...</td>\n",
       "      <td>NaN</td>\n",
       "    </tr>\n",
       "    <tr>\n",
       "      <th>4</th>\n",
       "      <td>9769</td>\n",
       "      <td>15382</td>\n",
       "      <td>NCT00421603</td>\n",
       "      <td>A Placebo-Controlled Study of Mixed Amphetamin...</td>\n",
       "      <td>https://clinicaltrials.gov/study/NCT00421603</td>\n",
       "      <td>TACT</td>\n",
       "      <td>COMPLETED</td>\n",
       "      <td>The proposed protocol is a double-blind, place...</td>\n",
       "      <td>YES</td>\n",
       "      <td>Cocaine Dependence</td>\n",
       "      <td>...</td>\n",
       "      <td>Allocation: RANDOMIZED|Intervention Model: PAR...</td>\n",
       "      <td>#5368|R01DA022217</td>\n",
       "      <td>2007-02</td>\n",
       "      <td>2010-05</td>\n",
       "      <td>2010-05</td>\n",
       "      <td>2007-01-12</td>\n",
       "      <td>2013-02-28</td>\n",
       "      <td>2019-04-24</td>\n",
       "      <td>STARS, New York, New York, 10032, United States</td>\n",
       "      <td>NaN</td>\n",
       "    </tr>\n",
       "  </tbody>\n",
       "</table>\n",
       "<p>5 rows × 32 columns</p>\n",
       "</div>"
      ],
      "text/plain": [
       "   Unnamed: 0.1  Unnamed: 0   NCT Number  \\\n",
       "0         75209      118014  NCT00559130   \n",
       "1          6356        9987  NCT00937664   \n",
       "2        143427      226012  NCT00441597   \n",
       "3        138885      218952  NCT03296228   \n",
       "4          9769       15382  NCT00421603   \n",
       "\n",
       "                                         Study Title  \\\n",
       "0  Efficacy Study of CytoSorb Hemoperfusion Devic...   \n",
       "1  Safety and Tolerability Study of AZD7762 in Co...   \n",
       "2  Does Atorvastatin Reduce Ischemia-Reperfusion ...   \n",
       "3  Comparison of Dynamic Radiographs in Determini...   \n",
       "4  A Placebo-Controlled Study of Mixed Amphetamin...   \n",
       "\n",
       "                                      Study URL Acronym Study Status  \\\n",
       "0  https://clinicaltrials.gov/study/NCT00559130     NaN    COMPLETED   \n",
       "1  https://clinicaltrials.gov/study/NCT00937664     NaN   TERMINATED   \n",
       "2  https://clinicaltrials.gov/study/NCT00441597     NaN    COMPLETED   \n",
       "3  https://clinicaltrials.gov/study/NCT03296228     NaN    COMPLETED   \n",
       "4  https://clinicaltrials.gov/study/NCT00421603    TACT    COMPLETED   \n",
       "\n",
       "                                       Brief Summary Study Results  \\\n",
       "0  The hypothesis of this study is use of CytoSor...            NO   \n",
       "1  The primary purpose of this study is to find o...            NO   \n",
       "2  To study the impact of 3 day exposure to atorv...            NO   \n",
       "3  The purpose of this study is to identify the f...            NO   \n",
       "4  The proposed protocol is a double-blind, place...           YES   \n",
       "\n",
       "                                          Conditions  ...  \\\n",
       "0  Acute Respiratory Distress Syndrome|Acute Lung...  ...   \n",
       "1    Cancer|Solid Tumors|Advanced Solid Malignancies  ...   \n",
       "2  Ischemia Reperfusion Injury|Cardiovascular Dis...  ...   \n",
       "3                    Adolescent Idiopathic Scoliosis  ...   \n",
       "4                                 Cocaine Dependence  ...   \n",
       "\n",
       "                                        Study Design          Other IDs  \\\n",
       "0  Allocation: RANDOMIZED|Intervention Model: PAR...            2007-01   \n",
       "1  Allocation: NON_RANDOMIZED|Intervention Model:...        D1040C00008   \n",
       "2  Allocation: RANDOMIZED|Intervention Model: CRO...            atorv01   \n",
       "3          Observational Model: |Time Perspective: p          UW 16-208   \n",
       "4  Allocation: RANDOMIZED|Intervention Model: PAR...  #5368|R01DA022217   \n",
       "\n",
       "   Start Date Primary Completion Date Completion Date First Posted  \\\n",
       "0     2007-11                 2011-04         2011-06   2007-11-16   \n",
       "1     2009-07                 2011-02         2011-02   2009-07-13   \n",
       "2     2007-02                 2009-02         2009-03   2007-03-01   \n",
       "3  2016-05-01              2018-05-01      2018-12-31   2017-09-28   \n",
       "4     2007-02                 2010-05         2010-05   2007-01-12   \n",
       "\n",
       "  Results First Posted Last Update Posted  \\\n",
       "0                  NaN         2011-06-07   \n",
       "1                  NaN         2011-02-07   \n",
       "2                  NaN         2009-03-17   \n",
       "3                  NaN         2020-05-06   \n",
       "4           2013-02-28         2019-04-24   \n",
       "\n",
       "                                           Locations  Study Documents  \n",
       "0  Aachen, Germany|Berlin, Germany|Bonn, Germany|...              NaN  \n",
       "1           Research Site, Minami-ku, Fukuoka, Japan              NaN  \n",
       "2  Radboud University Nijmegen Medical Centre, Ni...              NaN  \n",
       "3  Duchess of Kent Children's Hospital, Hong Kong...              NaN  \n",
       "4    STARS, New York, New York, 10032, United States              NaN  \n",
       "\n",
       "[5 rows x 32 columns]"
      ]
     },
     "execution_count": 4,
     "metadata": {},
     "output_type": "execute_result"
    }
   ],
   "source": [
    "df.head()"
   ]
  },
  {
   "cell_type": "code",
   "execution_count": 7,
   "id": "9d0e34e5-23ac-480b-9a10-27e7df972e96",
   "metadata": {
    "colab": {
     "base_uri": "https://localhost:8080/"
    },
    "executionInfo": {
     "elapsed": 408,
     "status": "ok",
     "timestamp": 1737737349192,
     "user": {
      "displayName": "Medhansh Jain",
      "userId": "15789660724571206766"
     },
     "user_tz": -330
    },
    "id": "9d0e34e5-23ac-480b-9a10-27e7df972e96",
    "outputId": "6a3220ec-165a-4041-9170-b768750acec6",
    "scrolled": true
   },
   "outputs": [
    {
     "name": "stdout",
     "output_type": "stream",
     "text": [
      "<class 'pandas.core.frame.DataFrame'>\n",
      "RangeIndex: 257577 entries, 0 to 257576\n",
      "Data columns (total 32 columns):\n",
      " #   Column                      Non-Null Count   Dtype  \n",
      "---  ------                      --------------   -----  \n",
      " 0   Unnamed: 0.1                257577 non-null  int64  \n",
      " 1   Unnamed: 0                  257577 non-null  int64  \n",
      " 2   NCT Number                  257577 non-null  object \n",
      " 3   Study Title                 257577 non-null  object \n",
      " 4   Study URL                   257577 non-null  object \n",
      " 5   Acronym                     63991 non-null   object \n",
      " 6   Study Status                257577 non-null  object \n",
      " 7   Brief Summary               257577 non-null  object \n",
      " 8   Study Results               257577 non-null  object \n",
      " 9   Conditions                  257577 non-null  object \n",
      " 10  Interventions               234064 non-null  object \n",
      " 11  Primary Outcome Measures    247086 non-null  object \n",
      " 12  Secondary Outcome Measures  185779 non-null  object \n",
      " 13  Other Outcome Measures      18272 non-null   object \n",
      " 14  Sponsor                     257577 non-null  object \n",
      " 15  Collaborators               83679 non-null   object \n",
      " 16  Sex                         257317 non-null  object \n",
      " 17  Age                         257577 non-null  object \n",
      " 18  Phases                      112765 non-null  object \n",
      " 19  Enrollment                  254205 non-null  float64\n",
      " 20  Funder Type                 257577 non-null  object \n",
      " 21  Study Type                  257577 non-null  object \n",
      " 22  Study Design                257577 non-null  object \n",
      " 23  Other IDs                   257556 non-null  object \n",
      " 24  Start Date                  255245 non-null  object \n",
      " 25  Primary Completion Date     244673 non-null  object \n",
      " 26  Completion Date             249686 non-null  object \n",
      " 27  First Posted                257577 non-null  object \n",
      " 28  Results First Posted        51581 non-null   object \n",
      " 29  Last Update Posted          257577 non-null  object \n",
      " 30  Locations                   233966 non-null  object \n",
      " 31  Study Documents             25155 non-null   object \n",
      "dtypes: float64(1), int64(2), object(29)\n",
      "memory usage: 62.9+ MB\n"
     ]
    }
   ],
   "source": [
    "df.info()"
   ]
  },
  {
   "cell_type": "markdown",
   "id": "c7c37ee7-ff44-4ffa-96fa-6275ee98f532",
   "metadata": {
    "id": "c7c37ee7-ff44-4ffa-96fa-6275ee98f532"
   },
   "source": [
    "# **Data preprocessing**\n",
    "---\n",
    "Data preprocessing is an essential step in any data science, machine learning, or analytics project.\n",
    "Raw data, as collected from various sources, is often incomplete, inconsistent, and may contain errors.\n",
    "Preprocessing transforms this raw data into a clean, consistent, and analyzable format.\n",
    "This step ensures the quality and integrity of data, directly influencing the accuracy and reliability of the results."
   ]
  },
  {
   "cell_type": "markdown",
   "id": "53be6fa2-d4f7-4a68-b70b-d073670576fd",
   "metadata": {
    "id": "53be6fa2-d4f7-4a68-b70b-d073670576fd"
   },
   "source": [
    "### **Why is Data Preprocessing Important?**\n",
    "---\n",
    "**1. Improved Data Quality**: High-quality data is critical for meaningful insights and model performance. Preprocessing addresses errors, outliers, and inconsistencies that may otherwise skew results.\n",
    "\n",
    "**2. Enhanced Model Performance**: Clean and normalized data helps machine learning algorithms converge faster and achieve better predictive accuracy. Unprocessed data often contains noise, missing values, and irrelevant information, making models less effective.\n",
    "\n",
    "**3. Ensures Consistency**: Combining data from multiple sources can lead to discrepancies, such as varying formats, units, or naming conventions. Preprocessing aligns these differences for seamless integration and analysis.\n"
   ]
  },
  {
   "cell_type": "markdown",
   "id": "bdc53948-bf75-47cf-9084-b74cd6408d5e",
   "metadata": {
    "id": "bdc53948-bf75-47cf-9084-b74cd6408d5e"
   },
   "source": [
    "## **Handling Duplicate and Missing Values**\n",
    "---\n",
    "- This step involves cleaning the dataset by removing duplicate rows to prevent redundant data and filling or removing missing values to ensure consistency and integrity in the analysis.\n",
    "- Techniques such as dropping duplicates, imputing missing values with statistical measures, or using forward/backward fill are applied."
   ]
  },
  {
   "cell_type": "code",
   "execution_count": 9,
   "id": "b8af8619-88e2-4b41-a9ab-8273723b3647",
   "metadata": {
    "colab": {
     "base_uri": "https://localhost:8080/",
     "height": 133
    },
    "executionInfo": {
     "elapsed": 3284,
     "status": "ok",
     "timestamp": 1737737352474,
     "user": {
      "displayName": "Medhansh Jain",
      "userId": "15789660724571206766"
     },
     "user_tz": -330
    },
    "id": "b8af8619-88e2-4b41-a9ab-8273723b3647",
    "outputId": "5ef813a7-b2c1-455c-8848-b6aa76260fbc"
   },
   "outputs": [
    {
     "data": {
      "text/html": [
       "<div>\n",
       "<style scoped>\n",
       "    .dataframe tbody tr th:only-of-type {\n",
       "        vertical-align: middle;\n",
       "    }\n",
       "\n",
       "    .dataframe tbody tr th {\n",
       "        vertical-align: top;\n",
       "    }\n",
       "\n",
       "    .dataframe thead th {\n",
       "        text-align: right;\n",
       "    }\n",
       "</style>\n",
       "<table border=\"1\" class=\"dataframe\">\n",
       "  <thead>\n",
       "    <tr style=\"text-align: right;\">\n",
       "      <th></th>\n",
       "      <th>Unnamed: 0.1</th>\n",
       "      <th>Unnamed: 0</th>\n",
       "      <th>NCT Number</th>\n",
       "      <th>Study Title</th>\n",
       "      <th>Study URL</th>\n",
       "      <th>Acronym</th>\n",
       "      <th>Study Status</th>\n",
       "      <th>Brief Summary</th>\n",
       "      <th>Study Results</th>\n",
       "      <th>Conditions</th>\n",
       "      <th>...</th>\n",
       "      <th>Study Design</th>\n",
       "      <th>Other IDs</th>\n",
       "      <th>Start Date</th>\n",
       "      <th>Primary Completion Date</th>\n",
       "      <th>Completion Date</th>\n",
       "      <th>First Posted</th>\n",
       "      <th>Results First Posted</th>\n",
       "      <th>Last Update Posted</th>\n",
       "      <th>Locations</th>\n",
       "      <th>Study Documents</th>\n",
       "    </tr>\n",
       "  </thead>\n",
       "  <tbody>\n",
       "  </tbody>\n",
       "</table>\n",
       "<p>0 rows × 32 columns</p>\n",
       "</div>"
      ],
      "text/plain": [
       "Empty DataFrame\n",
       "Columns: [Unnamed: 0.1, Unnamed: 0, NCT Number, Study Title, Study URL, Acronym, Study Status, Brief Summary, Study Results, Conditions, Interventions, Primary Outcome Measures, Secondary Outcome Measures, Other Outcome Measures, Sponsor, Collaborators, Sex, Age, Phases, Enrollment, Funder Type, Study Type, Study Design, Other IDs, Start Date, Primary Completion Date, Completion Date, First Posted, Results First Posted, Last Update Posted, Locations, Study Documents]\n",
       "Index: []\n",
       "\n",
       "[0 rows x 32 columns]"
      ]
     },
     "execution_count": 9,
     "metadata": {},
     "output_type": "execute_result"
    }
   ],
   "source": [
    "# Identify and handle duplicate rows\n",
    "df[df.duplicated()]"
   ]
  },
  {
   "cell_type": "code",
   "execution_count": 10,
   "id": "eaaee7c9-58e5-4296-8f99-78ee807cf718",
   "metadata": {
    "colab": {
     "base_uri": "https://localhost:8080/",
     "height": 1000
    },
    "executionInfo": {
     "elapsed": 611,
     "status": "ok",
     "timestamp": 1737737353083,
     "user": {
      "displayName": "Medhansh Jain",
      "userId": "15789660724571206766"
     },
     "user_tz": -330
    },
    "id": "eaaee7c9-58e5-4296-8f99-78ee807cf718",
    "outputId": "527983a3-fe17-4e7f-8ebe-f2a84edfa830"
   },
   "outputs": [
    {
     "data": {
      "text/plain": [
       "Unnamed: 0.1                       0\n",
       "Unnamed: 0                         0\n",
       "NCT Number                         0\n",
       "Study Title                        0\n",
       "Study URL                          0\n",
       "Acronym                       193586\n",
       "Study Status                       0\n",
       "Brief Summary                      0\n",
       "Study Results                      0\n",
       "Conditions                         0\n",
       "Interventions                  23513\n",
       "Primary Outcome Measures       10491\n",
       "Secondary Outcome Measures     71798\n",
       "Other Outcome Measures        239305\n",
       "Sponsor                            0\n",
       "Collaborators                 173898\n",
       "Sex                              260\n",
       "Age                                0\n",
       "Phases                        144812\n",
       "Enrollment                      3372\n",
       "Funder Type                        0\n",
       "Study Type                         0\n",
       "Study Design                       0\n",
       "Other IDs                         21\n",
       "Start Date                      2332\n",
       "Primary Completion Date        12904\n",
       "Completion Date                 7891\n",
       "First Posted                       0\n",
       "Results First Posted          205996\n",
       "Last Update Posted                 0\n",
       "Locations                      23611\n",
       "Study Documents               232422\n",
       "dtype: int64"
      ]
     },
     "execution_count": 10,
     "metadata": {},
     "output_type": "execute_result"
    }
   ],
   "source": [
    "# Check for missing values in the dataset\n",
    "df.isnull().sum()"
   ]
  },
  {
   "cell_type": "code",
   "execution_count": 13,
   "id": "291376c0-1661-4d33-b3a6-7a4552038d2d",
   "metadata": {
    "executionInfo": {
     "elapsed": 8,
     "status": "ok",
     "timestamp": 1737737353084,
     "user": {
      "displayName": "Medhansh Jain",
      "userId": "15789660724571206766"
     },
     "user_tz": -330
    },
    "id": "291376c0-1661-4d33-b3a6-7a4552038d2d"
   },
   "outputs": [],
   "source": [
    "# Drop irrelevant columns to streamline the dataset\n",
    "df.drop(['Unnamed: 0.1','Unnamed: 0','Study Title','Study URL','Acronym','Brief Summary','Conditions','Interventions',\n",
    "         'Primary Outcome Measures','Secondary Outcome Measures','Other Outcome Measures','Sponsor','Collaborators','Phases',\n",
    "         'Study Design','Other IDs','Start Date','Primary Completion Date','Completion Date','First Posted','Results First Posted',\n",
    "         'Last Update Posted','Locations','Study Documents'],axis=1,inplace=True)"
   ]
  },
  {
   "cell_type": "code",
   "execution_count": 15,
   "id": "619bfc7c-b58d-4683-9fc3-e2557d333875",
   "metadata": {
    "colab": {
     "base_uri": "https://localhost:8080/",
     "height": 206
    },
    "executionInfo": {
     "elapsed": 7,
     "status": "ok",
     "timestamp": 1737737353084,
     "user": {
      "displayName": "Medhansh Jain",
      "userId": "15789660724571206766"
     },
     "user_tz": -330
    },
    "id": "619bfc7c-b58d-4683-9fc3-e2557d333875",
    "outputId": "ff9743a8-6e1a-4086-9332-11d1e5e1966d",
    "scrolled": true
   },
   "outputs": [
    {
     "data": {
      "text/html": [
       "<div>\n",
       "<style scoped>\n",
       "    .dataframe tbody tr th:only-of-type {\n",
       "        vertical-align: middle;\n",
       "    }\n",
       "\n",
       "    .dataframe tbody tr th {\n",
       "        vertical-align: top;\n",
       "    }\n",
       "\n",
       "    .dataframe thead th {\n",
       "        text-align: right;\n",
       "    }\n",
       "</style>\n",
       "<table border=\"1\" class=\"dataframe\">\n",
       "  <thead>\n",
       "    <tr style=\"text-align: right;\">\n",
       "      <th></th>\n",
       "      <th>NCT Number</th>\n",
       "      <th>Study Status</th>\n",
       "      <th>Study Results</th>\n",
       "      <th>Sex</th>\n",
       "      <th>Age</th>\n",
       "      <th>Enrollment</th>\n",
       "      <th>Funder Type</th>\n",
       "      <th>Study Type</th>\n",
       "    </tr>\n",
       "  </thead>\n",
       "  <tbody>\n",
       "    <tr>\n",
       "      <th>0</th>\n",
       "      <td>NCT00559130</td>\n",
       "      <td>COMPLETED</td>\n",
       "      <td>NO</td>\n",
       "      <td>ALL</td>\n",
       "      <td>ADULT, OLDER_ADULT</td>\n",
       "      <td>100.0</td>\n",
       "      <td>INDUSTRY</td>\n",
       "      <td>INTERVENTIONAL</td>\n",
       "    </tr>\n",
       "    <tr>\n",
       "      <th>1</th>\n",
       "      <td>NCT00937664</td>\n",
       "      <td>TERMINATED</td>\n",
       "      <td>NO</td>\n",
       "      <td>ALL</td>\n",
       "      <td>ADULT, OLDER_ADULT</td>\n",
       "      <td>24.0</td>\n",
       "      <td>INDUSTRY</td>\n",
       "      <td>INTERVENTIONAL</td>\n",
       "    </tr>\n",
       "    <tr>\n",
       "      <th>2</th>\n",
       "      <td>NCT00441597</td>\n",
       "      <td>COMPLETED</td>\n",
       "      <td>NO</td>\n",
       "      <td>MALE</td>\n",
       "      <td>ADULT</td>\n",
       "      <td>30.0</td>\n",
       "      <td>OTHER</td>\n",
       "      <td>INTERVENTIONAL</td>\n",
       "    </tr>\n",
       "    <tr>\n",
       "      <th>3</th>\n",
       "      <td>NCT03296228</td>\n",
       "      <td>COMPLETED</td>\n",
       "      <td>NO</td>\n",
       "      <td>ALL</td>\n",
       "      <td>CHILD, ADULT</td>\n",
       "      <td>134.0</td>\n",
       "      <td>OTHER</td>\n",
       "      <td>OBSERVATIONAL</td>\n",
       "    </tr>\n",
       "    <tr>\n",
       "      <th>4</th>\n",
       "      <td>NCT00421603</td>\n",
       "      <td>COMPLETED</td>\n",
       "      <td>YES</td>\n",
       "      <td>ALL</td>\n",
       "      <td>ADULT</td>\n",
       "      <td>81.0</td>\n",
       "      <td>OTHER</td>\n",
       "      <td>INTERVENTIONAL</td>\n",
       "    </tr>\n",
       "  </tbody>\n",
       "</table>\n",
       "</div>"
      ],
      "text/plain": [
       "    NCT Number Study Status Study Results   Sex                 Age  \\\n",
       "0  NCT00559130    COMPLETED            NO   ALL  ADULT, OLDER_ADULT   \n",
       "1  NCT00937664   TERMINATED            NO   ALL  ADULT, OLDER_ADULT   \n",
       "2  NCT00441597    COMPLETED            NO  MALE               ADULT   \n",
       "3  NCT03296228    COMPLETED            NO   ALL        CHILD, ADULT   \n",
       "4  NCT00421603    COMPLETED           YES   ALL               ADULT   \n",
       "\n",
       "   Enrollment Funder Type      Study Type  \n",
       "0       100.0    INDUSTRY  INTERVENTIONAL  \n",
       "1        24.0    INDUSTRY  INTERVENTIONAL  \n",
       "2        30.0       OTHER  INTERVENTIONAL  \n",
       "3       134.0       OTHER   OBSERVATIONAL  \n",
       "4        81.0       OTHER  INTERVENTIONAL  "
      ]
     },
     "execution_count": 15,
     "metadata": {},
     "output_type": "execute_result"
    }
   ],
   "source": [
    "df.head()"
   ]
  },
  {
   "cell_type": "code",
   "execution_count": 17,
   "id": "927494d1-ff66-4c64-aad2-96c0c8d8a395",
   "metadata": {
    "colab": {
     "base_uri": "https://localhost:8080/",
     "height": 335
    },
    "executionInfo": {
     "elapsed": 7,
     "status": "ok",
     "timestamp": 1737737353084,
     "user": {
      "displayName": "Medhansh Jain",
      "userId": "15789660724571206766"
     },
     "user_tz": -330
    },
    "id": "927494d1-ff66-4c64-aad2-96c0c8d8a395",
    "outputId": "9bb7db33-d271-42ed-9c21-5e46206bc762"
   },
   "outputs": [
    {
     "data": {
      "text/plain": [
       "NCT Number          0\n",
       "Study Status        0\n",
       "Study Results       0\n",
       "Sex               260\n",
       "Age                 0\n",
       "Enrollment       3372\n",
       "Funder Type         0\n",
       "Study Type          0\n",
       "dtype: int64"
      ]
     },
     "execution_count": 17,
     "metadata": {},
     "output_type": "execute_result"
    }
   ],
   "source": [
    "# Check for missing values in the dataset\n",
    "df.isnull().sum()"
   ]
  },
  {
   "cell_type": "code",
   "execution_count": 19,
   "id": "a1d2d9e4-ccb2-4c2f-b51c-f72833705a55",
   "metadata": {
    "executionInfo": {
     "elapsed": 6,
     "status": "ok",
     "timestamp": 1737737353084,
     "user": {
      "displayName": "Medhansh Jain",
      "userId": "15789660724571206766"
     },
     "user_tz": -330
    },
    "id": "a1d2d9e4-ccb2-4c2f-b51c-f72833705a55",
    "scrolled": true
   },
   "outputs": [],
   "source": [
    "# Drop Rows with missing values\n",
    "df.dropna(inplace=True)"
   ]
  },
  {
   "cell_type": "code",
   "execution_count": 21,
   "id": "ccb5e03f-833a-4d8e-a661-ff4f57ef73d1",
   "metadata": {
    "colab": {
     "base_uri": "https://localhost:8080/"
    },
    "executionInfo": {
     "elapsed": 6,
     "status": "ok",
     "timestamp": 1737737353084,
     "user": {
      "displayName": "Medhansh Jain",
      "userId": "15789660724571206766"
     },
     "user_tz": -330
    },
    "id": "ccb5e03f-833a-4d8e-a661-ff4f57ef73d1",
    "outputId": "9a05f3fc-1276-4dd3-beb5-81f423ef5c60"
   },
   "outputs": [
    {
     "data": {
      "text/plain": [
       "(253971, 8)"
      ]
     },
     "execution_count": 21,
     "metadata": {},
     "output_type": "execute_result"
    }
   ],
   "source": [
    "# Display the shape of the dataset to track changes\n",
    "df.shape"
   ]
  },
  {
   "cell_type": "code",
   "execution_count": 23,
   "id": "2fff897d-fdc5-46b1-88f1-5131fbc88b1b",
   "metadata": {
    "executionInfo": {
     "elapsed": 1283,
     "status": "ok",
     "timestamp": 1737737354362,
     "user": {
      "displayName": "Medhansh Jain",
      "userId": "15789660724571206766"
     },
     "user_tz": -330
    },
    "id": "2fff897d-fdc5-46b1-88f1-5131fbc88b1b"
   },
   "outputs": [],
   "source": [
    "# Load dataset drop_withdrawls\n",
    "drop_withdrawals = pd.read_csv('drop_withdrawals.txt', sep='|')"
   ]
  },
  {
   "cell_type": "code",
   "execution_count": 25,
   "id": "0ab3db9f-8173-436f-997d-ef8f330cadbd",
   "metadata": {
    "colab": {
     "base_uri": "https://localhost:8080/",
     "height": 348
    },
    "executionInfo": {
     "elapsed": 5,
     "status": "ok",
     "timestamp": 1737737354362,
     "user": {
      "displayName": "Medhansh Jain",
      "userId": "15789660724571206766"
     },
     "user_tz": -330
    },
    "id": "0ab3db9f-8173-436f-997d-ef8f330cadbd",
    "outputId": "00a4a01f-abc0-4c6c-fde5-bd41faa5c12b",
    "scrolled": true
   },
   "outputs": [
    {
     "data": {
      "text/html": [
       "<div>\n",
       "<style scoped>\n",
       "    .dataframe tbody tr th:only-of-type {\n",
       "        vertical-align: middle;\n",
       "    }\n",
       "\n",
       "    .dataframe tbody tr th {\n",
       "        vertical-align: top;\n",
       "    }\n",
       "\n",
       "    .dataframe thead th {\n",
       "        text-align: right;\n",
       "    }\n",
       "</style>\n",
       "<table border=\"1\" class=\"dataframe\">\n",
       "  <thead>\n",
       "    <tr style=\"text-align: right;\">\n",
       "      <th></th>\n",
       "      <th>id</th>\n",
       "      <th>nct_id</th>\n",
       "      <th>result_group_id</th>\n",
       "      <th>ctgov_group_code</th>\n",
       "      <th>period</th>\n",
       "      <th>reason</th>\n",
       "      <th>count</th>\n",
       "      <th>drop_withdraw_comment</th>\n",
       "      <th>reason_comment</th>\n",
       "      <th>count_units</th>\n",
       "    </tr>\n",
       "  </thead>\n",
       "  <tbody>\n",
       "    <tr>\n",
       "      <th>0</th>\n",
       "      <td>5991139</td>\n",
       "      <td>NCT00827372</td>\n",
       "      <td>9120733</td>\n",
       "      <td>FG000</td>\n",
       "      <td>Overall Study</td>\n",
       "      <td>Adverse Event</td>\n",
       "      <td>5</td>\n",
       "      <td>NaN</td>\n",
       "      <td>NaN</td>\n",
       "      <td>NaN</td>\n",
       "    </tr>\n",
       "    <tr>\n",
       "      <th>1</th>\n",
       "      <td>5991140</td>\n",
       "      <td>NCT00827372</td>\n",
       "      <td>9120733</td>\n",
       "      <td>FG000</td>\n",
       "      <td>Overall Study</td>\n",
       "      <td>Lack of Efficacy</td>\n",
       "      <td>3</td>\n",
       "      <td>NaN</td>\n",
       "      <td>NaN</td>\n",
       "      <td>NaN</td>\n",
       "    </tr>\n",
       "    <tr>\n",
       "      <th>2</th>\n",
       "      <td>5991141</td>\n",
       "      <td>NCT01982760</td>\n",
       "      <td>9120734</td>\n",
       "      <td>FG000</td>\n",
       "      <td>Overall Study</td>\n",
       "      <td>Physician Decision</td>\n",
       "      <td>1</td>\n",
       "      <td>NaN</td>\n",
       "      <td>NaN</td>\n",
       "      <td>NaN</td>\n",
       "    </tr>\n",
       "    <tr>\n",
       "      <th>3</th>\n",
       "      <td>5991142</td>\n",
       "      <td>NCT01982760</td>\n",
       "      <td>9120735</td>\n",
       "      <td>FG001</td>\n",
       "      <td>Overall Study</td>\n",
       "      <td>Physician Decision</td>\n",
       "      <td>0</td>\n",
       "      <td>NaN</td>\n",
       "      <td>NaN</td>\n",
       "      <td>NaN</td>\n",
       "    </tr>\n",
       "    <tr>\n",
       "      <th>4</th>\n",
       "      <td>5991143</td>\n",
       "      <td>NCT01056276</td>\n",
       "      <td>9120736</td>\n",
       "      <td>FG000</td>\n",
       "      <td>Treatment Period-Cycles 1-8</td>\n",
       "      <td>Toxicity</td>\n",
       "      <td>2</td>\n",
       "      <td>NaN</td>\n",
       "      <td>NaN</td>\n",
       "      <td>NaN</td>\n",
       "    </tr>\n",
       "  </tbody>\n",
       "</table>\n",
       "</div>"
      ],
      "text/plain": [
       "        id       nct_id  result_group_id ctgov_group_code  \\\n",
       "0  5991139  NCT00827372          9120733            FG000   \n",
       "1  5991140  NCT00827372          9120733            FG000   \n",
       "2  5991141  NCT01982760          9120734            FG000   \n",
       "3  5991142  NCT01982760          9120735            FG001   \n",
       "4  5991143  NCT01056276          9120736            FG000   \n",
       "\n",
       "                        period              reason  count  \\\n",
       "0                Overall Study       Adverse Event      5   \n",
       "1                Overall Study    Lack of Efficacy      3   \n",
       "2                Overall Study  Physician Decision      1   \n",
       "3                Overall Study  Physician Decision      0   \n",
       "4  Treatment Period-Cycles 1-8            Toxicity      2   \n",
       "\n",
       "   drop_withdraw_comment  reason_comment  count_units  \n",
       "0                    NaN             NaN          NaN  \n",
       "1                    NaN             NaN          NaN  \n",
       "2                    NaN             NaN          NaN  \n",
       "3                    NaN             NaN          NaN  \n",
       "4                    NaN             NaN          NaN  "
      ]
     },
     "execution_count": 25,
     "metadata": {},
     "output_type": "execute_result"
    }
   ],
   "source": [
    "drop_withdrawals.head()"
   ]
  },
  {
   "cell_type": "code",
   "execution_count": 27,
   "id": "8771b765-7703-4dee-8544-9613ff706b34",
   "metadata": {
    "colab": {
     "base_uri": "https://localhost:8080/"
    },
    "executionInfo": {
     "elapsed": 5,
     "status": "ok",
     "timestamp": 1737737354363,
     "user": {
      "displayName": "Medhansh Jain",
      "userId": "15789660724571206766"
     },
     "user_tz": -330
    },
    "id": "8771b765-7703-4dee-8544-9613ff706b34",
    "outputId": "a27a26d1-80f6-46d6-9c93-b38d6c054aa7"
   },
   "outputs": [
    {
     "name": "stdout",
     "output_type": "stream",
     "text": [
      "<class 'pandas.core.frame.DataFrame'>\n",
      "RangeIndex: 487399 entries, 0 to 487398\n",
      "Data columns (total 10 columns):\n",
      " #   Column                 Non-Null Count   Dtype  \n",
      "---  ------                 --------------   -----  \n",
      " 0   id                     487399 non-null  int64  \n",
      " 1   nct_id                 487399 non-null  object \n",
      " 2   result_group_id        487399 non-null  int64  \n",
      " 3   ctgov_group_code       487399 non-null  object \n",
      " 4   period                 487399 non-null  object \n",
      " 5   reason                 487399 non-null  object \n",
      " 6   count                  487399 non-null  int64  \n",
      " 7   drop_withdraw_comment  0 non-null       float64\n",
      " 8   reason_comment         0 non-null       float64\n",
      " 9   count_units            0 non-null       float64\n",
      "dtypes: float64(3), int64(3), object(4)\n",
      "memory usage: 37.2+ MB\n"
     ]
    }
   ],
   "source": [
    "drop_withdrawals.info()"
   ]
  },
  {
   "cell_type": "code",
   "execution_count": 29,
   "id": "1bb542ef-78a2-4f38-ab81-6a4ee5758b6a",
   "metadata": {
    "colab": {
     "base_uri": "https://localhost:8080/"
    },
    "executionInfo": {
     "elapsed": 4,
     "status": "ok",
     "timestamp": 1737737354363,
     "user": {
      "displayName": "Medhansh Jain",
      "userId": "15789660724571206766"
     },
     "user_tz": -330
    },
    "id": "1bb542ef-78a2-4f38-ab81-6a4ee5758b6a",
    "outputId": "1fd27bfd-20df-4da2-854d-237533c23dd4"
   },
   "outputs": [
    {
     "data": {
      "text/plain": [
       "(0, 10)"
      ]
     },
     "execution_count": 29,
     "metadata": {},
     "output_type": "execute_result"
    }
   ],
   "source": [
    "# Identify and handle duplicate rows\n",
    "drop_withdrawals[drop_withdrawals.duplicated()].shape"
   ]
  },
  {
   "cell_type": "code",
   "execution_count": 31,
   "id": "8ae53114-0f32-4c08-9152-53ae4a1f75f8",
   "metadata": {
    "colab": {
     "base_uri": "https://localhost:8080/"
    },
    "executionInfo": {
     "elapsed": 3,
     "status": "ok",
     "timestamp": 1737737354363,
     "user": {
      "displayName": "Medhansh Jain",
      "userId": "15789660724571206766"
     },
     "user_tz": -330
    },
    "id": "8ae53114-0f32-4c08-9152-53ae4a1f75f8",
    "outputId": "ea6dd7f2-6120-4dc9-9dd3-e010ce95ab1a"
   },
   "outputs": [
    {
     "data": {
      "text/plain": [
       "(487399, 10)"
      ]
     },
     "execution_count": 31,
     "metadata": {},
     "output_type": "execute_result"
    }
   ],
   "source": [
    "# Display the shape of the dataset to track changes\n",
    "drop_withdrawals.shape"
   ]
  },
  {
   "cell_type": "code",
   "execution_count": 33,
   "id": "8af484f4-7889-4a1a-970f-66d189b2f773",
   "metadata": {
    "colab": {
     "base_uri": "https://localhost:8080/",
     "height": 398
    },
    "executionInfo": {
     "elapsed": 633,
     "status": "ok",
     "timestamp": 1737737354993,
     "user": {
      "displayName": "Medhansh Jain",
      "userId": "15789660724571206766"
     },
     "user_tz": -330
    },
    "id": "8af484f4-7889-4a1a-970f-66d189b2f773",
    "outputId": "3a58c792-72e2-4c80-ba77-599736e93d00"
   },
   "outputs": [
    {
     "data": {
      "text/plain": [
       "id                            0\n",
       "nct_id                        0\n",
       "result_group_id               0\n",
       "ctgov_group_code              0\n",
       "period                        0\n",
       "reason                        0\n",
       "count                         0\n",
       "drop_withdraw_comment    487399\n",
       "reason_comment           487399\n",
       "count_units              487399\n",
       "dtype: int64"
      ]
     },
     "execution_count": 33,
     "metadata": {},
     "output_type": "execute_result"
    }
   ],
   "source": [
    "# Check for missing values in the dataset\n",
    "drop_withdrawals.isnull().sum()"
   ]
  },
  {
   "cell_type": "code",
   "execution_count": 35,
   "id": "1464d908-7a2b-4c6f-888a-5242009ef0b7",
   "metadata": {
    "executionInfo": {
     "elapsed": 6,
     "status": "ok",
     "timestamp": 1737737354993,
     "user": {
      "displayName": "Medhansh Jain",
      "userId": "15789660724571206766"
     },
     "user_tz": -330
    },
    "id": "1464d908-7a2b-4c6f-888a-5242009ef0b7"
   },
   "outputs": [],
   "source": [
    "# Drop irrelevant columns to streamline the dataset\n",
    "drop_withdrawals.drop(['id','result_group_id','ctgov_group_code','period','reason','drop_withdraw_comment','reason_comment',\n",
    "                       'count_units'],axis=1,inplace=True)"
   ]
  },
  {
   "cell_type": "code",
   "execution_count": 37,
   "id": "680c88f7-dd38-4521-9955-6f1a32cbb5f6",
   "metadata": {
    "colab": {
     "base_uri": "https://localhost:8080/",
     "height": 206
    },
    "executionInfo": {
     "elapsed": 5,
     "status": "ok",
     "timestamp": 1737737354993,
     "user": {
      "displayName": "Medhansh Jain",
      "userId": "15789660724571206766"
     },
     "user_tz": -330
    },
    "id": "680c88f7-dd38-4521-9955-6f1a32cbb5f6",
    "outputId": "17dfaba9-9164-4117-c530-7757b27de3a8"
   },
   "outputs": [
    {
     "data": {
      "text/html": [
       "<div>\n",
       "<style scoped>\n",
       "    .dataframe tbody tr th:only-of-type {\n",
       "        vertical-align: middle;\n",
       "    }\n",
       "\n",
       "    .dataframe tbody tr th {\n",
       "        vertical-align: top;\n",
       "    }\n",
       "\n",
       "    .dataframe thead th {\n",
       "        text-align: right;\n",
       "    }\n",
       "</style>\n",
       "<table border=\"1\" class=\"dataframe\">\n",
       "  <thead>\n",
       "    <tr style=\"text-align: right;\">\n",
       "      <th></th>\n",
       "      <th>nct_id</th>\n",
       "      <th>count</th>\n",
       "    </tr>\n",
       "  </thead>\n",
       "  <tbody>\n",
       "    <tr>\n",
       "      <th>0</th>\n",
       "      <td>NCT00827372</td>\n",
       "      <td>5</td>\n",
       "    </tr>\n",
       "    <tr>\n",
       "      <th>1</th>\n",
       "      <td>NCT00827372</td>\n",
       "      <td>3</td>\n",
       "    </tr>\n",
       "    <tr>\n",
       "      <th>2</th>\n",
       "      <td>NCT01982760</td>\n",
       "      <td>1</td>\n",
       "    </tr>\n",
       "    <tr>\n",
       "      <th>3</th>\n",
       "      <td>NCT01982760</td>\n",
       "      <td>0</td>\n",
       "    </tr>\n",
       "    <tr>\n",
       "      <th>4</th>\n",
       "      <td>NCT01056276</td>\n",
       "      <td>2</td>\n",
       "    </tr>\n",
       "  </tbody>\n",
       "</table>\n",
       "</div>"
      ],
      "text/plain": [
       "        nct_id  count\n",
       "0  NCT00827372      5\n",
       "1  NCT00827372      3\n",
       "2  NCT01982760      1\n",
       "3  NCT01982760      0\n",
       "4  NCT01056276      2"
      ]
     },
     "execution_count": 37,
     "metadata": {},
     "output_type": "execute_result"
    }
   ],
   "source": [
    "drop_withdrawals.head()"
   ]
  },
  {
   "cell_type": "code",
   "execution_count": 39,
   "id": "c8147fe3-136b-41d9-b92c-75de830bbcd5",
   "metadata": {
    "colab": {
     "base_uri": "https://localhost:8080/",
     "height": 147
    },
    "executionInfo": {
     "elapsed": 5,
     "status": "ok",
     "timestamp": 1737737354993,
     "user": {
      "displayName": "Medhansh Jain",
      "userId": "15789660724571206766"
     },
     "user_tz": -330
    },
    "id": "c8147fe3-136b-41d9-b92c-75de830bbcd5",
    "outputId": "01abf9da-da78-4ae8-8a89-8e24642b6457"
   },
   "outputs": [
    {
     "data": {
      "text/plain": [
       "nct_id    0\n",
       "count     0\n",
       "dtype: int64"
      ]
     },
     "execution_count": 39,
     "metadata": {},
     "output_type": "execute_result"
    }
   ],
   "source": [
    "# Check for missing values in the dataset\n",
    "drop_withdrawals.isnull().sum()"
   ]
  },
  {
   "cell_type": "code",
   "execution_count": 41,
   "id": "9c582465-8ab4-447c-87ca-cd9a188ad74e",
   "metadata": {
    "colab": {
     "base_uri": "https://localhost:8080/"
    },
    "executionInfo": {
     "elapsed": 4,
     "status": "ok",
     "timestamp": 1737737354993,
     "user": {
      "displayName": "Medhansh Jain",
      "userId": "15789660724571206766"
     },
     "user_tz": -330
    },
    "id": "9c582465-8ab4-447c-87ca-cd9a188ad74e",
    "outputId": "bd955de6-3261-4f8d-806a-277bd16c3cc0"
   },
   "outputs": [
    {
     "data": {
      "text/plain": [
       "(487399, 2)"
      ]
     },
     "execution_count": 41,
     "metadata": {},
     "output_type": "execute_result"
    }
   ],
   "source": [
    "# Display the shape of the dataset to track changes\n",
    "drop_withdrawals.shape"
   ]
  },
  {
   "cell_type": "code",
   "execution_count": 43,
   "id": "eeb3bd47-c6d8-4f86-8429-9f2e99ae221e",
   "metadata": {
    "executionInfo": {
     "elapsed": 14022,
     "status": "ok",
     "timestamp": 1737737369012,
     "user": {
      "displayName": "Medhansh Jain",
      "userId": "15789660724571206766"
     },
     "user_tz": -330
    },
    "id": "eeb3bd47-c6d8-4f86-8429-9f2e99ae221e"
   },
   "outputs": [],
   "source": [
    "# Load dataset eligibilities\n",
    "eligibilities = pd.read_csv('eligibilities.txt', sep='|')"
   ]
  },
  {
   "cell_type": "code",
   "execution_count": 45,
   "id": "a5fcb57f-d085-4e65-97e4-28a78848f054",
   "metadata": {
    "colab": {
     "base_uri": "https://localhost:8080/",
     "height": 982
    },
    "executionInfo": {
     "elapsed": 6,
     "status": "ok",
     "timestamp": 1737737369012,
     "user": {
      "displayName": "Medhansh Jain",
      "userId": "15789660724571206766"
     },
     "user_tz": -330
    },
    "id": "a5fcb57f-d085-4e65-97e4-28a78848f054",
    "outputId": "599952bd-e0d6-4970-8c98-cdc36b9a8d89",
    "scrolled": true
   },
   "outputs": [
    {
     "data": {
      "text/html": [
       "<div>\n",
       "<style scoped>\n",
       "    .dataframe tbody tr th:only-of-type {\n",
       "        vertical-align: middle;\n",
       "    }\n",
       "\n",
       "    .dataframe tbody tr th {\n",
       "        vertical-align: top;\n",
       "    }\n",
       "\n",
       "    .dataframe thead th {\n",
       "        text-align: right;\n",
       "    }\n",
       "</style>\n",
       "<table border=\"1\" class=\"dataframe\">\n",
       "  <thead>\n",
       "    <tr style=\"text-align: right;\">\n",
       "      <th></th>\n",
       "      <th>id</th>\n",
       "      <th>nct_id</th>\n",
       "      <th>sampling_method</th>\n",
       "      <th>gender</th>\n",
       "      <th>minimum_age</th>\n",
       "      <th>maximum_age</th>\n",
       "      <th>healthy_volunteers</th>\n",
       "      <th>population</th>\n",
       "      <th>criteria</th>\n",
       "      <th>gender_description</th>\n",
       "      <th>gender_based</th>\n",
       "      <th>adult</th>\n",
       "      <th>child</th>\n",
       "      <th>older_adult</th>\n",
       "    </tr>\n",
       "  </thead>\n",
       "  <tbody>\n",
       "    <tr>\n",
       "      <th>0</th>\n",
       "      <td>6260055</td>\n",
       "      <td>NCT05050916</td>\n",
       "      <td>NaN</td>\n",
       "      <td>FEMALE</td>\n",
       "      <td>19 Years</td>\n",
       "      <td>40 Years</td>\n",
       "      <td>f</td>\n",
       "      <td>NaN</td>\n",
       "      <td>* INCLUSION CRITERIA:~In order to be eligible ...</td>\n",
       "      <td>NaN</td>\n",
       "      <td>NaN</td>\n",
       "      <td>t</td>\n",
       "      <td>f</td>\n",
       "      <td>f</td>\n",
       "    </tr>\n",
       "    <tr>\n",
       "      <th>1</th>\n",
       "      <td>6260056</td>\n",
       "      <td>NCT01092156</td>\n",
       "      <td>NaN</td>\n",
       "      <td>FEMALE</td>\n",
       "      <td>18 Years</td>\n",
       "      <td>NaN</td>\n",
       "      <td>t</td>\n",
       "      <td>NaN</td>\n",
       "      <td>Inclusion Criteria:~* Pregnant women who inten...</td>\n",
       "      <td>NaN</td>\n",
       "      <td>NaN</td>\n",
       "      <td>t</td>\n",
       "      <td>f</td>\n",
       "      <td>t</td>\n",
       "    </tr>\n",
       "    <tr>\n",
       "      <th>2</th>\n",
       "      <td>6260057</td>\n",
       "      <td>NCT01218256</td>\n",
       "      <td>NaN</td>\n",
       "      <td>ALL</td>\n",
       "      <td>30 Years</td>\n",
       "      <td>80 Years</td>\n",
       "      <td>f</td>\n",
       "      <td>NaN</td>\n",
       "      <td>Inclusion Criteria:~* type 2 diabetes mellitus...</td>\n",
       "      <td>NaN</td>\n",
       "      <td>NaN</td>\n",
       "      <td>t</td>\n",
       "      <td>f</td>\n",
       "      <td>t</td>\n",
       "    </tr>\n",
       "    <tr>\n",
       "      <th>3</th>\n",
       "      <td>6260058</td>\n",
       "      <td>NCT03240432</td>\n",
       "      <td>NaN</td>\n",
       "      <td>ALL</td>\n",
       "      <td>60 Years</td>\n",
       "      <td>NaN</td>\n",
       "      <td>t</td>\n",
       "      <td>NaN</td>\n",
       "      <td>Inclusion Criteria:~To be eligible for the stu...</td>\n",
       "      <td>NaN</td>\n",
       "      <td>NaN</td>\n",
       "      <td>t</td>\n",
       "      <td>f</td>\n",
       "      <td>t</td>\n",
       "    </tr>\n",
       "    <tr>\n",
       "      <th>4</th>\n",
       "      <td>6260059</td>\n",
       "      <td>NCT04348578</td>\n",
       "      <td>NaN</td>\n",
       "      <td>ALL</td>\n",
       "      <td>18 Years</td>\n",
       "      <td>65 Years</td>\n",
       "      <td>t</td>\n",
       "      <td>NaN</td>\n",
       "      <td>Inclusion Criteria:~* necrotic, single root te...</td>\n",
       "      <td>NaN</td>\n",
       "      <td>NaN</td>\n",
       "      <td>t</td>\n",
       "      <td>f</td>\n",
       "      <td>t</td>\n",
       "    </tr>\n",
       "    <tr>\n",
       "      <th>...</th>\n",
       "      <td>...</td>\n",
       "      <td>...</td>\n",
       "      <td>...</td>\n",
       "      <td>...</td>\n",
       "      <td>...</td>\n",
       "      <td>...</td>\n",
       "      <td>...</td>\n",
       "      <td>...</td>\n",
       "      <td>...</td>\n",
       "      <td>...</td>\n",
       "      <td>...</td>\n",
       "      <td>...</td>\n",
       "      <td>...</td>\n",
       "      <td>...</td>\n",
       "    </tr>\n",
       "    <tr>\n",
       "      <th>502296</th>\n",
       "      <td>6259966</td>\n",
       "      <td>NCT02723058</td>\n",
       "      <td>NaN</td>\n",
       "      <td>FEMALE</td>\n",
       "      <td>18 Years</td>\n",
       "      <td>NaN</td>\n",
       "      <td>f</td>\n",
       "      <td>NaN</td>\n",
       "      <td>Inclusion Criteria:~* Mothers who are residing...</td>\n",
       "      <td>NaN</td>\n",
       "      <td>NaN</td>\n",
       "      <td>t</td>\n",
       "      <td>f</td>\n",
       "      <td>t</td>\n",
       "    </tr>\n",
       "    <tr>\n",
       "      <th>502297</th>\n",
       "      <td>6259967</td>\n",
       "      <td>NCT05832216</td>\n",
       "      <td>NaN</td>\n",
       "      <td>ALL</td>\n",
       "      <td>12 Years</td>\n",
       "      <td>NaN</td>\n",
       "      <td>f</td>\n",
       "      <td>NaN</td>\n",
       "      <td>Inclusion Criteria:~* Diagnosis of aplastic an...</td>\n",
       "      <td>NaN</td>\n",
       "      <td>NaN</td>\n",
       "      <td>t</td>\n",
       "      <td>t</td>\n",
       "      <td>t</td>\n",
       "    </tr>\n",
       "    <tr>\n",
       "      <th>502298</th>\n",
       "      <td>6259968</td>\n",
       "      <td>NCT05199597</td>\n",
       "      <td>NaN</td>\n",
       "      <td>ALL</td>\n",
       "      <td>18 Years</td>\n",
       "      <td>NaN</td>\n",
       "      <td>t</td>\n",
       "      <td>NaN</td>\n",
       "      <td>Inclusion Criteria:~* 18 years and older~Exclu...</td>\n",
       "      <td>NaN</td>\n",
       "      <td>NaN</td>\n",
       "      <td>t</td>\n",
       "      <td>f</td>\n",
       "      <td>t</td>\n",
       "    </tr>\n",
       "    <tr>\n",
       "      <th>502299</th>\n",
       "      <td>6259969</td>\n",
       "      <td>NCT01583283</td>\n",
       "      <td>NaN</td>\n",
       "      <td>ALL</td>\n",
       "      <td>18 Years</td>\n",
       "      <td>NaN</td>\n",
       "      <td>f</td>\n",
       "      <td>NaN</td>\n",
       "      <td>Inclusion Criteria:~* Relapsed or Relapsed/Ref...</td>\n",
       "      <td>NaN</td>\n",
       "      <td>NaN</td>\n",
       "      <td>t</td>\n",
       "      <td>f</td>\n",
       "      <td>t</td>\n",
       "    </tr>\n",
       "    <tr>\n",
       "      <th>502300</th>\n",
       "      <td>6259970</td>\n",
       "      <td>NCT01394783</td>\n",
       "      <td>NaN</td>\n",
       "      <td>ALL</td>\n",
       "      <td>NaN</td>\n",
       "      <td>1 Year</td>\n",
       "      <td>f</td>\n",
       "      <td>NaN</td>\n",
       "      <td>Inclusion Criteria:~* Trainees: All residents ...</td>\n",
       "      <td>NaN</td>\n",
       "      <td>NaN</td>\n",
       "      <td>f</td>\n",
       "      <td>t</td>\n",
       "      <td>f</td>\n",
       "    </tr>\n",
       "  </tbody>\n",
       "</table>\n",
       "<p>502301 rows × 14 columns</p>\n",
       "</div>"
      ],
      "text/plain": [
       "             id       nct_id sampling_method  gender minimum_age maximum_age  \\\n",
       "0       6260055  NCT05050916             NaN  FEMALE    19 Years    40 Years   \n",
       "1       6260056  NCT01092156             NaN  FEMALE    18 Years         NaN   \n",
       "2       6260057  NCT01218256             NaN     ALL    30 Years    80 Years   \n",
       "3       6260058  NCT03240432             NaN     ALL    60 Years         NaN   \n",
       "4       6260059  NCT04348578             NaN     ALL    18 Years    65 Years   \n",
       "...         ...          ...             ...     ...         ...         ...   \n",
       "502296  6259966  NCT02723058             NaN  FEMALE    18 Years         NaN   \n",
       "502297  6259967  NCT05832216             NaN     ALL    12 Years         NaN   \n",
       "502298  6259968  NCT05199597             NaN     ALL    18 Years         NaN   \n",
       "502299  6259969  NCT01583283             NaN     ALL    18 Years         NaN   \n",
       "502300  6259970  NCT01394783             NaN     ALL         NaN      1 Year   \n",
       "\n",
       "       healthy_volunteers population  \\\n",
       "0                       f        NaN   \n",
       "1                       t        NaN   \n",
       "2                       f        NaN   \n",
       "3                       t        NaN   \n",
       "4                       t        NaN   \n",
       "...                   ...        ...   \n",
       "502296                  f        NaN   \n",
       "502297                  f        NaN   \n",
       "502298                  t        NaN   \n",
       "502299                  f        NaN   \n",
       "502300                  f        NaN   \n",
       "\n",
       "                                                 criteria gender_description  \\\n",
       "0       * INCLUSION CRITERIA:~In order to be eligible ...                NaN   \n",
       "1       Inclusion Criteria:~* Pregnant women who inten...                NaN   \n",
       "2       Inclusion Criteria:~* type 2 diabetes mellitus...                NaN   \n",
       "3       Inclusion Criteria:~To be eligible for the stu...                NaN   \n",
       "4       Inclusion Criteria:~* necrotic, single root te...                NaN   \n",
       "...                                                   ...                ...   \n",
       "502296  Inclusion Criteria:~* Mothers who are residing...                NaN   \n",
       "502297  Inclusion Criteria:~* Diagnosis of aplastic an...                NaN   \n",
       "502298  Inclusion Criteria:~* 18 years and older~Exclu...                NaN   \n",
       "502299  Inclusion Criteria:~* Relapsed or Relapsed/Ref...                NaN   \n",
       "502300  Inclusion Criteria:~* Trainees: All residents ...                NaN   \n",
       "\n",
       "       gender_based adult child older_adult  \n",
       "0               NaN     t     f           f  \n",
       "1               NaN     t     f           t  \n",
       "2               NaN     t     f           t  \n",
       "3               NaN     t     f           t  \n",
       "4               NaN     t     f           t  \n",
       "...             ...   ...   ...         ...  \n",
       "502296          NaN     t     f           t  \n",
       "502297          NaN     t     t           t  \n",
       "502298          NaN     t     f           t  \n",
       "502299          NaN     t     f           t  \n",
       "502300          NaN     f     t           f  \n",
       "\n",
       "[502301 rows x 14 columns]"
      ]
     },
     "execution_count": 45,
     "metadata": {},
     "output_type": "execute_result"
    }
   ],
   "source": [
    "eligibilities"
   ]
  },
  {
   "cell_type": "code",
   "execution_count": 47,
   "id": "8be61202-b2e2-48cb-ab5b-7b177fe82bf5",
   "metadata": {
    "colab": {
     "base_uri": "https://localhost:8080/"
    },
    "executionInfo": {
     "elapsed": 5,
     "status": "ok",
     "timestamp": 1737737369012,
     "user": {
      "displayName": "Medhansh Jain",
      "userId": "15789660724571206766"
     },
     "user_tz": -330
    },
    "id": "8be61202-b2e2-48cb-ab5b-7b177fe82bf5",
    "outputId": "589af26c-8813-4208-c96f-15ccc7ee6bf3"
   },
   "outputs": [
    {
     "name": "stdout",
     "output_type": "stream",
     "text": [
      "<class 'pandas.core.frame.DataFrame'>\n",
      "RangeIndex: 502301 entries, 0 to 502300\n",
      "Data columns (total 14 columns):\n",
      " #   Column              Non-Null Count   Dtype \n",
      "---  ------              --------------   ----- \n",
      " 0   id                  502301 non-null  int64 \n",
      " 1   nct_id              502301 non-null  object\n",
      " 2   sampling_method     111512 non-null  object\n",
      " 3   gender              501870 non-null  object\n",
      " 4   minimum_age         469401 non-null  object\n",
      " 5   maximum_age         266189 non-null  object\n",
      " 6   healthy_volunteers  489578 non-null  object\n",
      " 7   population          111500 non-null  object\n",
      " 8   criteria            502210 non-null  object\n",
      " 9   gender_description  9254 non-null    object\n",
      " 10  gender_based        13901 non-null   object\n",
      " 11  adult               502301 non-null  object\n",
      " 12  child               502301 non-null  object\n",
      " 13  older_adult         502301 non-null  object\n",
      "dtypes: int64(1), object(13)\n",
      "memory usage: 53.7+ MB\n"
     ]
    }
   ],
   "source": [
    "eligibilities.info()"
   ]
  },
  {
   "cell_type": "code",
   "execution_count": 49,
   "id": "f2bf26c8-4684-4c09-9d2f-bb97f0dcda39",
   "metadata": {
    "colab": {
     "base_uri": "https://localhost:8080/"
    },
    "executionInfo": {
     "elapsed": 1663,
     "status": "ok",
     "timestamp": 1737737370671,
     "user": {
      "displayName": "Medhansh Jain",
      "userId": "15789660724571206766"
     },
     "user_tz": -330
    },
    "id": "f2bf26c8-4684-4c09-9d2f-bb97f0dcda39",
    "outputId": "eb1ab725-65a1-4f63-9024-0bd83d81eb65"
   },
   "outputs": [
    {
     "data": {
      "text/plain": [
       "(0, 14)"
      ]
     },
     "execution_count": 49,
     "metadata": {},
     "output_type": "execute_result"
    }
   ],
   "source": [
    "# Identify and handle duplicate rows\n",
    "eligibilities[eligibilities.duplicated()].shape"
   ]
  },
  {
   "cell_type": "code",
   "execution_count": 50,
   "id": "6c5acce9-7d2c-46e3-bc29-ef50700b7dce",
   "metadata": {
    "colab": {
     "base_uri": "https://localhost:8080/",
     "height": 523
    },
    "executionInfo": {
     "elapsed": 3,
     "status": "ok",
     "timestamp": 1737737370671,
     "user": {
      "displayName": "Medhansh Jain",
      "userId": "15789660724571206766"
     },
     "user_tz": -330
    },
    "id": "6c5acce9-7d2c-46e3-bc29-ef50700b7dce",
    "outputId": "b3d1b407-7987-44e6-9922-3686a9435e6b"
   },
   "outputs": [
    {
     "data": {
      "text/plain": [
       "id                         0\n",
       "nct_id                     0\n",
       "sampling_method       390789\n",
       "gender                   431\n",
       "minimum_age            32900\n",
       "maximum_age           236112\n",
       "healthy_volunteers     12723\n",
       "population            390801\n",
       "criteria                  91\n",
       "gender_description    493047\n",
       "gender_based          488400\n",
       "adult                      0\n",
       "child                      0\n",
       "older_adult                0\n",
       "dtype: int64"
      ]
     },
     "execution_count": 50,
     "metadata": {},
     "output_type": "execute_result"
    }
   ],
   "source": [
    "# Check for missing values in the dataset\n",
    "eligibilities.isnull().sum()"
   ]
  },
  {
   "cell_type": "code",
   "execution_count": 53,
   "id": "2343f1bb-3ba3-4885-a4f0-95d341cab640",
   "metadata": {
    "colab": {
     "base_uri": "https://localhost:8080/"
    },
    "executionInfo": {
     "elapsed": 412,
     "status": "ok",
     "timestamp": 1737737371081,
     "user": {
      "displayName": "Medhansh Jain",
      "userId": "15789660724571206766"
     },
     "user_tz": -330
    },
    "id": "2343f1bb-3ba3-4885-a4f0-95d341cab640",
    "outputId": "60f6c771-6e17-4b61-927d-b5c4b4d1fc1a"
   },
   "outputs": [
    {
     "data": {
      "text/plain": [
       "(502301, 14)"
      ]
     },
     "execution_count": 53,
     "metadata": {},
     "output_type": "execute_result"
    }
   ],
   "source": [
    "# Display the shape of the dataset to track changes\n",
    "eligibilities.shape"
   ]
  },
  {
   "cell_type": "code",
   "execution_count": 55,
   "id": "b04f3fa2-ad8d-4417-8cec-ad6a3adf57d8",
   "metadata": {
    "executionInfo": {
     "elapsed": 5,
     "status": "ok",
     "timestamp": 1737737371081,
     "user": {
      "displayName": "Medhansh Jain",
      "userId": "15789660724571206766"
     },
     "user_tz": -330
    },
    "id": "b04f3fa2-ad8d-4417-8cec-ad6a3adf57d8"
   },
   "outputs": [],
   "source": [
    "# Drop irrelevant columns to streamline the dataset\n",
    "eligibilities.drop(['id','sampling_method','minimum_age','maximum_age','population','criteria','gender_description',\n",
    "                    'gender_based'],axis=1,inplace=True)"
   ]
  },
  {
   "cell_type": "code",
   "execution_count": 63,
   "id": "5cab8662-1e68-4dad-8b64-d1444b8ebd90",
   "metadata": {
    "colab": {
     "base_uri": "https://localhost:8080/",
     "height": 206
    },
    "executionInfo": {
     "elapsed": 4,
     "status": "ok",
     "timestamp": 1737737371081,
     "user": {
      "displayName": "Medhansh Jain",
      "userId": "15789660724571206766"
     },
     "user_tz": -330
    },
    "id": "5cab8662-1e68-4dad-8b64-d1444b8ebd90",
    "outputId": "94f7aefa-2c1b-43db-ec7a-ead7195231af"
   },
   "outputs": [
    {
     "data": {
      "text/html": [
       "<div>\n",
       "<style scoped>\n",
       "    .dataframe tbody tr th:only-of-type {\n",
       "        vertical-align: middle;\n",
       "    }\n",
       "\n",
       "    .dataframe tbody tr th {\n",
       "        vertical-align: top;\n",
       "    }\n",
       "\n",
       "    .dataframe thead th {\n",
       "        text-align: right;\n",
       "    }\n",
       "</style>\n",
       "<table border=\"1\" class=\"dataframe\">\n",
       "  <thead>\n",
       "    <tr style=\"text-align: right;\">\n",
       "      <th></th>\n",
       "      <th>nct_id</th>\n",
       "      <th>gender</th>\n",
       "      <th>healthy_volunteers</th>\n",
       "      <th>adult</th>\n",
       "      <th>child</th>\n",
       "      <th>older_adult</th>\n",
       "    </tr>\n",
       "  </thead>\n",
       "  <tbody>\n",
       "    <tr>\n",
       "      <th>0</th>\n",
       "      <td>NCT05050916</td>\n",
       "      <td>FEMALE</td>\n",
       "      <td>f</td>\n",
       "      <td>t</td>\n",
       "      <td>f</td>\n",
       "      <td>f</td>\n",
       "    </tr>\n",
       "    <tr>\n",
       "      <th>1</th>\n",
       "      <td>NCT01092156</td>\n",
       "      <td>FEMALE</td>\n",
       "      <td>t</td>\n",
       "      <td>t</td>\n",
       "      <td>f</td>\n",
       "      <td>t</td>\n",
       "    </tr>\n",
       "    <tr>\n",
       "      <th>2</th>\n",
       "      <td>NCT01218256</td>\n",
       "      <td>ALL</td>\n",
       "      <td>f</td>\n",
       "      <td>t</td>\n",
       "      <td>f</td>\n",
       "      <td>t</td>\n",
       "    </tr>\n",
       "    <tr>\n",
       "      <th>3</th>\n",
       "      <td>NCT03240432</td>\n",
       "      <td>ALL</td>\n",
       "      <td>t</td>\n",
       "      <td>t</td>\n",
       "      <td>f</td>\n",
       "      <td>t</td>\n",
       "    </tr>\n",
       "    <tr>\n",
       "      <th>4</th>\n",
       "      <td>NCT04348578</td>\n",
       "      <td>ALL</td>\n",
       "      <td>t</td>\n",
       "      <td>t</td>\n",
       "      <td>f</td>\n",
       "      <td>t</td>\n",
       "    </tr>\n",
       "  </tbody>\n",
       "</table>\n",
       "</div>"
      ],
      "text/plain": [
       "        nct_id  gender healthy_volunteers adult child older_adult\n",
       "0  NCT05050916  FEMALE                  f     t     f           f\n",
       "1  NCT01092156  FEMALE                  t     t     f           t\n",
       "2  NCT01218256     ALL                  f     t     f           t\n",
       "3  NCT03240432     ALL                  t     t     f           t\n",
       "4  NCT04348578     ALL                  t     t     f           t"
      ]
     },
     "execution_count": 63,
     "metadata": {},
     "output_type": "execute_result"
    }
   ],
   "source": [
    "eligibilities.head()"
   ]
  },
  {
   "cell_type": "code",
   "execution_count": 65,
   "id": "fb99a009-cf15-494a-b275-826db57523ab",
   "metadata": {
    "colab": {
     "base_uri": "https://localhost:8080/",
     "height": 272
    },
    "executionInfo": {
     "elapsed": 4,
     "status": "ok",
     "timestamp": 1737737371081,
     "user": {
      "displayName": "Medhansh Jain",
      "userId": "15789660724571206766"
     },
     "user_tz": -330
    },
    "id": "fb99a009-cf15-494a-b275-826db57523ab",
    "outputId": "3e39d957-6823-40ae-d236-a87b893085e0"
   },
   "outputs": [
    {
     "data": {
      "text/plain": [
       "nct_id                    0\n",
       "gender                  431\n",
       "healthy_volunteers    12723\n",
       "adult                     0\n",
       "child                     0\n",
       "older_adult               0\n",
       "dtype: int64"
      ]
     },
     "execution_count": 65,
     "metadata": {},
     "output_type": "execute_result"
    }
   ],
   "source": [
    "# Check for missing values in the dataset\n",
    "eligibilities.isnull().sum()"
   ]
  },
  {
   "cell_type": "code",
   "execution_count": 67,
   "id": "Vc4YExKkHbsk",
   "metadata": {
    "executionInfo": {
     "elapsed": 442,
     "status": "ok",
     "timestamp": 1737737371520,
     "user": {
      "displayName": "Medhansh Jain",
      "userId": "15789660724571206766"
     },
     "user_tz": -330
    },
    "id": "Vc4YExKkHbsk"
   },
   "outputs": [],
   "source": [
    "# Drop Rows with missing values\n",
    "eligibilities.dropna(inplace=True)"
   ]
  },
  {
   "cell_type": "code",
   "execution_count": 69,
   "id": "bd012559-2929-4caa-bc84-22ce49a93486",
   "metadata": {
    "colab": {
     "base_uri": "https://localhost:8080/"
    },
    "executionInfo": {
     "elapsed": 2,
     "status": "ok",
     "timestamp": 1737737371520,
     "user": {
      "displayName": "Medhansh Jain",
      "userId": "15789660724571206766"
     },
     "user_tz": -330
    },
    "id": "bd012559-2929-4caa-bc84-22ce49a93486",
    "outputId": "01bda76b-9a24-4fcc-f591-c8f5ada9f056"
   },
   "outputs": [
    {
     "data": {
      "text/plain": [
       "(489349, 6)"
      ]
     },
     "execution_count": 69,
     "metadata": {},
     "output_type": "execute_result"
    }
   ],
   "source": [
    "# Display the shape of the dataset to track changes\n",
    "eligibilities.shape"
   ]
  },
  {
   "cell_type": "code",
   "execution_count": 71,
   "id": "5a8b3fdb-7e83-4d7c-943d-664aba46ef70",
   "metadata": {
    "executionInfo": {
     "elapsed": 6908,
     "status": "ok",
     "timestamp": 1737737378427,
     "user": {
      "displayName": "Medhansh Jain",
      "userId": "15789660724571206766"
     },
     "user_tz": -330
    },
    "id": "5a8b3fdb-7e83-4d7c-943d-664aba46ef70"
   },
   "outputs": [],
   "source": [
    "# Load dataset facilities\n",
    "facilities = pd.read_csv('facilities.txt', sep='|')"
   ]
  },
  {
   "cell_type": "code",
   "execution_count": 73,
   "id": "0975706a-3b19-49a7-81c3-057abfe18893",
   "metadata": {
    "colab": {
     "base_uri": "https://localhost:8080/",
     "height": 206
    },
    "executionInfo": {
     "elapsed": 5,
     "status": "ok",
     "timestamp": 1737737378428,
     "user": {
      "displayName": "Medhansh Jain",
      "userId": "15789660724571206766"
     },
     "user_tz": -330
    },
    "id": "0975706a-3b19-49a7-81c3-057abfe18893",
    "outputId": "d09e3fbb-2cb5-4a2c-ac85-4a7286e8f56f"
   },
   "outputs": [
    {
     "data": {
      "text/html": [
       "<div>\n",
       "<style scoped>\n",
       "    .dataframe tbody tr th:only-of-type {\n",
       "        vertical-align: middle;\n",
       "    }\n",
       "\n",
       "    .dataframe tbody tr th {\n",
       "        vertical-align: top;\n",
       "    }\n",
       "\n",
       "    .dataframe thead th {\n",
       "        text-align: right;\n",
       "    }\n",
       "</style>\n",
       "<table border=\"1\" class=\"dataframe\">\n",
       "  <thead>\n",
       "    <tr style=\"text-align: right;\">\n",
       "      <th></th>\n",
       "      <th>id</th>\n",
       "      <th>nct_id</th>\n",
       "      <th>status</th>\n",
       "      <th>name</th>\n",
       "      <th>city</th>\n",
       "      <th>state</th>\n",
       "      <th>zip</th>\n",
       "      <th>country</th>\n",
       "    </tr>\n",
       "  </thead>\n",
       "  <tbody>\n",
       "    <tr>\n",
       "      <th>0</th>\n",
       "      <td>39182239</td>\n",
       "      <td>NCT02696421</td>\n",
       "      <td>RECRUITING</td>\n",
       "      <td>Imperial College London Diabetes Centre</td>\n",
       "      <td>Abu Dhabi</td>\n",
       "      <td>NaN</td>\n",
       "      <td>48338</td>\n",
       "      <td>United Arab Emirates</td>\n",
       "    </tr>\n",
       "    <tr>\n",
       "      <th>1</th>\n",
       "      <td>39182240</td>\n",
       "      <td>NCT01324414</td>\n",
       "      <td>NaN</td>\n",
       "      <td>Mayo Clinic</td>\n",
       "      <td>Phoenix</td>\n",
       "      <td>Arizona</td>\n",
       "      <td>85054</td>\n",
       "      <td>United States</td>\n",
       "    </tr>\n",
       "    <tr>\n",
       "      <th>2</th>\n",
       "      <td>39182241</td>\n",
       "      <td>NCT02595814</td>\n",
       "      <td>NaN</td>\n",
       "      <td>Novartis Investigative Site</td>\n",
       "      <td>San Diego</td>\n",
       "      <td>California</td>\n",
       "      <td>92103</td>\n",
       "      <td>United States</td>\n",
       "    </tr>\n",
       "    <tr>\n",
       "      <th>3</th>\n",
       "      <td>39182242</td>\n",
       "      <td>NCT02595814</td>\n",
       "      <td>NaN</td>\n",
       "      <td>Novartis Investigative Site</td>\n",
       "      <td>San Francisco</td>\n",
       "      <td>California</td>\n",
       "      <td>94143-0780</td>\n",
       "      <td>United States</td>\n",
       "    </tr>\n",
       "    <tr>\n",
       "      <th>4</th>\n",
       "      <td>39182243</td>\n",
       "      <td>NCT02595814</td>\n",
       "      <td>NaN</td>\n",
       "      <td>Novartis Investigative Site</td>\n",
       "      <td>Chicago</td>\n",
       "      <td>Illinois</td>\n",
       "      <td>60611</td>\n",
       "      <td>United States</td>\n",
       "    </tr>\n",
       "  </tbody>\n",
       "</table>\n",
       "</div>"
      ],
      "text/plain": [
       "         id       nct_id      status                                     name  \\\n",
       "0  39182239  NCT02696421  RECRUITING  Imperial College London Diabetes Centre   \n",
       "1  39182240  NCT01324414         NaN                              Mayo Clinic   \n",
       "2  39182241  NCT02595814         NaN              Novartis Investigative Site   \n",
       "3  39182242  NCT02595814         NaN              Novartis Investigative Site   \n",
       "4  39182243  NCT02595814         NaN              Novartis Investigative Site   \n",
       "\n",
       "            city       state         zip               country  \n",
       "0      Abu Dhabi         NaN       48338  United Arab Emirates  \n",
       "1        Phoenix     Arizona       85054         United States  \n",
       "2      San Diego  California       92103         United States  \n",
       "3  San Francisco  California  94143-0780         United States  \n",
       "4        Chicago    Illinois       60611         United States  "
      ]
     },
     "execution_count": 73,
     "metadata": {},
     "output_type": "execute_result"
    }
   ],
   "source": [
    "facilities.head()"
   ]
  },
  {
   "cell_type": "code",
   "execution_count": 75,
   "id": "9da500cc-cc7b-4b6b-b958-307b2c4c9403",
   "metadata": {
    "colab": {
     "base_uri": "https://localhost:8080/"
    },
    "executionInfo": {
     "elapsed": 4,
     "status": "ok",
     "timestamp": 1737737378428,
     "user": {
      "displayName": "Medhansh Jain",
      "userId": "15789660724571206766"
     },
     "user_tz": -330
    },
    "id": "9da500cc-cc7b-4b6b-b958-307b2c4c9403",
    "outputId": "27d63c18-0956-4cb8-a09e-98d5a204784b"
   },
   "outputs": [
    {
     "name": "stdout",
     "output_type": "stream",
     "text": [
      "<class 'pandas.core.frame.DataFrame'>\n",
      "RangeIndex: 3085464 entries, 0 to 3085463\n",
      "Data columns (total 8 columns):\n",
      " #   Column   Dtype \n",
      "---  ------   ----- \n",
      " 0   id       int64 \n",
      " 1   nct_id   object\n",
      " 2   status   object\n",
      " 3   name     object\n",
      " 4   city     object\n",
      " 5   state    object\n",
      " 6   zip      object\n",
      " 7   country  object\n",
      "dtypes: int64(1), object(7)\n",
      "memory usage: 188.3+ MB\n"
     ]
    }
   ],
   "source": [
    "facilities.info()"
   ]
  },
  {
   "cell_type": "code",
   "execution_count": 77,
   "id": "c377ade0-4ba3-4720-b9e1-4dbb597f8fe8",
   "metadata": {
    "colab": {
     "base_uri": "https://localhost:8080/",
     "height": 335
    },
    "executionInfo": {
     "elapsed": 2348,
     "status": "ok",
     "timestamp": 1737737380773,
     "user": {
      "displayName": "Medhansh Jain",
      "userId": "15789660724571206766"
     },
     "user_tz": -330
    },
    "id": "c377ade0-4ba3-4720-b9e1-4dbb597f8fe8",
    "outputId": "fe1f7d61-f136-46f5-bff0-890991900027"
   },
   "outputs": [
    {
     "data": {
      "text/plain": [
       "id               0\n",
       "nct_id           0\n",
       "status     2602515\n",
       "name        220029\n",
       "city           106\n",
       "state      1239838\n",
       "zip         605357\n",
       "country        106\n",
       "dtype: int64"
      ]
     },
     "execution_count": 77,
     "metadata": {},
     "output_type": "execute_result"
    }
   ],
   "source": [
    "# Check for missing values in the dataset\n",
    "facilities.isnull().sum()"
   ]
  },
  {
   "cell_type": "code",
   "execution_count": 79,
   "id": "f296f124-4866-485a-9ea9-3c43a3bfe0a8",
   "metadata": {
    "colab": {
     "base_uri": "https://localhost:8080/"
    },
    "executionInfo": {
     "elapsed": 6,
     "status": "ok",
     "timestamp": 1737737380773,
     "user": {
      "displayName": "Medhansh Jain",
      "userId": "15789660724571206766"
     },
     "user_tz": -330
    },
    "id": "f296f124-4866-485a-9ea9-3c43a3bfe0a8",
    "outputId": "01efcb8f-7cab-4cd0-96a1-5d8e60e5395e"
   },
   "outputs": [
    {
     "data": {
      "text/plain": [
       "(3085464, 8)"
      ]
     },
     "execution_count": 79,
     "metadata": {},
     "output_type": "execute_result"
    }
   ],
   "source": [
    "# Display the shape of the dataset to track changes\n",
    "facilities.shape"
   ]
  },
  {
   "cell_type": "code",
   "execution_count": 81,
   "id": "8c39da05-5317-45be-95cf-7c1eed14064f",
   "metadata": {
    "colab": {
     "base_uri": "https://localhost:8080/"
    },
    "executionInfo": {
     "elapsed": 3627,
     "status": "ok",
     "timestamp": 1737737384398,
     "user": {
      "displayName": "Medhansh Jain",
      "userId": "15789660724571206766"
     },
     "user_tz": -330
    },
    "id": "8c39da05-5317-45be-95cf-7c1eed14064f",
    "outputId": "daa8b3be-e848-44a3-a85f-19062d63ed31"
   },
   "outputs": [
    {
     "data": {
      "text/plain": [
       "(0, 8)"
      ]
     },
     "execution_count": 81,
     "metadata": {},
     "output_type": "execute_result"
    }
   ],
   "source": [
    "# Identify and handle duplicate rows\n",
    "facilities[facilities.duplicated].shape"
   ]
  },
  {
   "cell_type": "code",
   "execution_count": 83,
   "id": "b39fa738-5948-4228-82bc-a4e6de4aff60",
   "metadata": {
    "executionInfo": {
     "elapsed": 5,
     "status": "ok",
     "timestamp": 1737737384399,
     "user": {
      "displayName": "Medhansh Jain",
      "userId": "15789660724571206766"
     },
     "user_tz": -330
    },
    "id": "b39fa738-5948-4228-82bc-a4e6de4aff60"
   },
   "outputs": [],
   "source": [
    "# Drop irrelevant columns to streamline the dataset\n",
    "facilities.drop(['id','name','state','country','zip','city'],axis=1,inplace=True)"
   ]
  },
  {
   "cell_type": "code",
   "execution_count": 85,
   "id": "271e7124-c5dc-453e-8c8a-21487a0dbab8",
   "metadata": {
    "colab": {
     "base_uri": "https://localhost:8080/",
     "height": 206
    },
    "executionInfo": {
     "elapsed": 5,
     "status": "ok",
     "timestamp": 1737737384399,
     "user": {
      "displayName": "Medhansh Jain",
      "userId": "15789660724571206766"
     },
     "user_tz": -330
    },
    "id": "271e7124-c5dc-453e-8c8a-21487a0dbab8",
    "outputId": "4e50eed3-1709-4507-a7ce-2bb0609a7a98"
   },
   "outputs": [
    {
     "data": {
      "text/html": [
       "<div>\n",
       "<style scoped>\n",
       "    .dataframe tbody tr th:only-of-type {\n",
       "        vertical-align: middle;\n",
       "    }\n",
       "\n",
       "    .dataframe tbody tr th {\n",
       "        vertical-align: top;\n",
       "    }\n",
       "\n",
       "    .dataframe thead th {\n",
       "        text-align: right;\n",
       "    }\n",
       "</style>\n",
       "<table border=\"1\" class=\"dataframe\">\n",
       "  <thead>\n",
       "    <tr style=\"text-align: right;\">\n",
       "      <th></th>\n",
       "      <th>nct_id</th>\n",
       "    </tr>\n",
       "  </thead>\n",
       "  <tbody>\n",
       "    <tr>\n",
       "      <th>0</th>\n",
       "      <td>NCT02696421</td>\n",
       "    </tr>\n",
       "    <tr>\n",
       "      <th>1</th>\n",
       "      <td>NCT01324414</td>\n",
       "    </tr>\n",
       "    <tr>\n",
       "      <th>2</th>\n",
       "      <td>NCT02595814</td>\n",
       "    </tr>\n",
       "    <tr>\n",
       "      <th>3</th>\n",
       "      <td>NCT02595814</td>\n",
       "    </tr>\n",
       "    <tr>\n",
       "      <th>4</th>\n",
       "      <td>NCT02595814</td>\n",
       "    </tr>\n",
       "  </tbody>\n",
       "</table>\n",
       "</div>"
      ],
      "text/plain": [
       "        nct_id\n",
       "0  NCT02696421\n",
       "1  NCT01324414\n",
       "2  NCT02595814\n",
       "3  NCT02595814\n",
       "4  NCT02595814"
      ]
     },
     "execution_count": 85,
     "metadata": {},
     "output_type": "execute_result"
    }
   ],
   "source": [
    "facilities.head()"
   ]
  },
  {
   "cell_type": "code",
   "execution_count": 87,
   "id": "1aafc1ca-acda-4264-9f45-8ef4f34f52f8",
   "metadata": {
    "colab": {
     "base_uri": "https://localhost:8080/",
     "height": 147
    },
    "executionInfo": {
     "elapsed": 4,
     "status": "ok",
     "timestamp": 1737737384399,
     "user": {
      "displayName": "Medhansh Jain",
      "userId": "15789660724571206766"
     },
     "user_tz": -330
    },
    "id": "1aafc1ca-acda-4264-9f45-8ef4f34f52f8",
    "outputId": "47d86e95-835a-41a2-aa30-c5b6d77fa2c6"
   },
   "outputs": [
    {
     "data": {
      "text/plain": [
       "nct_id    0\n",
       "dtype: int64"
      ]
     },
     "execution_count": 87,
     "metadata": {},
     "output_type": "execute_result"
    }
   ],
   "source": [
    "# Check for missing values in the dataset\n",
    "facilities.isnull().sum()"
   ]
  },
  {
   "cell_type": "code",
   "execution_count": 89,
   "id": "qXEQ_FvqHypa",
   "metadata": {
    "executionInfo": {
     "elapsed": 412,
     "status": "ok",
     "timestamp": 1737737384808,
     "user": {
      "displayName": "Medhansh Jain",
      "userId": "15789660724571206766"
     },
     "user_tz": -330
    },
    "id": "qXEQ_FvqHypa"
   },
   "outputs": [],
   "source": [
    "facilities.dropna(inplace=True)"
   ]
  },
  {
   "cell_type": "code",
   "execution_count": 91,
   "id": "dba069c2-8c05-4dec-88ce-022e8cc27002",
   "metadata": {
    "colab": {
     "base_uri": "https://localhost:8080/"
    },
    "executionInfo": {
     "elapsed": 1,
     "status": "ok",
     "timestamp": 1737737384808,
     "user": {
      "displayName": "Medhansh Jain",
      "userId": "15789660724571206766"
     },
     "user_tz": -330
    },
    "id": "dba069c2-8c05-4dec-88ce-022e8cc27002",
    "outputId": "a0184cdb-37c4-4e14-e3fc-ebd213098c7b"
   },
   "outputs": [
    {
     "data": {
      "text/plain": [
       "(3085464, 1)"
      ]
     },
     "execution_count": 91,
     "metadata": {},
     "output_type": "execute_result"
    }
   ],
   "source": [
    "# Display the shape of the dataset to track changes\n",
    "facilities.shape"
   ]
  },
  {
   "cell_type": "code",
   "execution_count": 45,
   "id": "edacfe53-b865-41a6-b00a-462e84f50c46",
   "metadata": {
    "executionInfo": {
     "elapsed": 74392,
     "status": "ok",
     "timestamp": 1737737459199,
     "user": {
      "displayName": "Medhansh Jain",
      "userId": "15789660724571206766"
     },
     "user_tz": -330
    },
    "id": "edacfe53-b865-41a6-b00a-462e84f50c46"
   },
   "outputs": [],
   "source": [
    "# Load dataset reported_events\n",
    "reported_events = pd.read_csv('reported_events.txt', sep='|')"
   ]
  },
  {
   "cell_type": "code",
   "execution_count": 46,
   "id": "20346091-0de5-4ea9-ad92-d8b30773f297",
   "metadata": {
    "colab": {
     "base_uri": "https://localhost:8080/",
     "height": 1000
    },
    "executionInfo": {
     "elapsed": 6,
     "status": "ok",
     "timestamp": 1737737459199,
     "user": {
      "displayName": "Medhansh Jain",
      "userId": "15789660724571206766"
     },
     "user_tz": -330
    },
    "id": "20346091-0de5-4ea9-ad92-d8b30773f297",
    "outputId": "fd746ad6-500c-4c57-caf9-f87b472c1a7c"
   },
   "outputs": [
    {
     "data": {
      "application/vnd.google.colaboratory.intrinsic+json": {
       "type": "dataframe",
       "variable_name": "reported_events"
      },
      "text/html": [
       "\n",
       "  <div id=\"df-fdb6795a-d124-44e1-a2d6-fb72f5d487f2\" class=\"colab-df-container\">\n",
       "    <div>\n",
       "<style scoped>\n",
       "    .dataframe tbody tr th:only-of-type {\n",
       "        vertical-align: middle;\n",
       "    }\n",
       "\n",
       "    .dataframe tbody tr th {\n",
       "        vertical-align: top;\n",
       "    }\n",
       "\n",
       "    .dataframe thead th {\n",
       "        text-align: right;\n",
       "    }\n",
       "</style>\n",
       "<table border=\"1\" class=\"dataframe\">\n",
       "  <thead>\n",
       "    <tr style=\"text-align: right;\">\n",
       "      <th></th>\n",
       "      <th>id</th>\n",
       "      <th>nct_id</th>\n",
       "      <th>result_group_id</th>\n",
       "      <th>ctgov_group_code</th>\n",
       "      <th>time_frame</th>\n",
       "      <th>event_type</th>\n",
       "      <th>default_vocab</th>\n",
       "      <th>default_assessment</th>\n",
       "      <th>subjects_affected</th>\n",
       "      <th>subjects_at_risk</th>\n",
       "      <th>description</th>\n",
       "      <th>event_count</th>\n",
       "      <th>organ_system</th>\n",
       "      <th>adverse_event_term</th>\n",
       "      <th>frequency_threshold</th>\n",
       "      <th>vocab</th>\n",
       "      <th>assessment</th>\n",
       "    </tr>\n",
       "  </thead>\n",
       "  <tbody>\n",
       "    <tr>\n",
       "      <th>0</th>\n",
       "      <td>111888450</td>\n",
       "      <td>NCT03978520</td>\n",
       "      <td>8932081</td>\n",
       "      <td>EG002</td>\n",
       "      <td>All-cause mortality is reported from enrollmen...</td>\n",
       "      <td>other</td>\n",
       "      <td>NaN</td>\n",
       "      <td>NaN</td>\n",
       "      <td>4.0</td>\n",
       "      <td>62</td>\n",
       "      <td>TEAEs and SAEs were collected from first dose ...</td>\n",
       "      <td>4.0</td>\n",
       "      <td>Psychiatric disorders</td>\n",
       "      <td>INSOMNIA</td>\n",
       "      <td>5</td>\n",
       "      <td>MedDRA 25.0</td>\n",
       "      <td>SYSTEMATIC_ASSESSMENT</td>\n",
       "    </tr>\n",
       "    <tr>\n",
       "      <th>1</th>\n",
       "      <td>111888451</td>\n",
       "      <td>NCT03978520</td>\n",
       "      <td>8932082</td>\n",
       "      <td>EG003</td>\n",
       "      <td>All-cause mortality is reported from enrollmen...</td>\n",
       "      <td>other</td>\n",
       "      <td>NaN</td>\n",
       "      <td>NaN</td>\n",
       "      <td>0.0</td>\n",
       "      <td>69</td>\n",
       "      <td>TEAEs and SAEs were collected from first dose ...</td>\n",
       "      <td>0.0</td>\n",
       "      <td>Psychiatric disorders</td>\n",
       "      <td>INSOMNIA</td>\n",
       "      <td>5</td>\n",
       "      <td>MedDRA 25.0</td>\n",
       "      <td>SYSTEMATIC_ASSESSMENT</td>\n",
       "    </tr>\n",
       "    <tr>\n",
       "      <th>2</th>\n",
       "      <td>111888452</td>\n",
       "      <td>NCT03978520</td>\n",
       "      <td>8932083</td>\n",
       "      <td>EG004</td>\n",
       "      <td>All-cause mortality is reported from enrollmen...</td>\n",
       "      <td>other</td>\n",
       "      <td>NaN</td>\n",
       "      <td>NaN</td>\n",
       "      <td>0.0</td>\n",
       "      <td>67</td>\n",
       "      <td>TEAEs and SAEs were collected from first dose ...</td>\n",
       "      <td>0.0</td>\n",
       "      <td>Psychiatric disorders</td>\n",
       "      <td>INSOMNIA</td>\n",
       "      <td>5</td>\n",
       "      <td>MedDRA 25.0</td>\n",
       "      <td>SYSTEMATIC_ASSESSMENT</td>\n",
       "    </tr>\n",
       "    <tr>\n",
       "      <th>3</th>\n",
       "      <td>111888453</td>\n",
       "      <td>NCT03978520</td>\n",
       "      <td>8932079</td>\n",
       "      <td>EG000</td>\n",
       "      <td>All-cause mortality is reported from enrollmen...</td>\n",
       "      <td>other</td>\n",
       "      <td>NaN</td>\n",
       "      <td>NaN</td>\n",
       "      <td>1.0</td>\n",
       "      <td>75</td>\n",
       "      <td>TEAEs and SAEs were collected from first dose ...</td>\n",
       "      <td>2.0</td>\n",
       "      <td>Skin and subcutaneous tissue disorders</td>\n",
       "      <td>ACNE</td>\n",
       "      <td>5</td>\n",
       "      <td>MedDRA 25.0</td>\n",
       "      <td>SYSTEMATIC_ASSESSMENT</td>\n",
       "    </tr>\n",
       "    <tr>\n",
       "      <th>4</th>\n",
       "      <td>111888454</td>\n",
       "      <td>NCT03978520</td>\n",
       "      <td>8932080</td>\n",
       "      <td>EG001</td>\n",
       "      <td>All-cause mortality is reported from enrollmen...</td>\n",
       "      <td>other</td>\n",
       "      <td>NaN</td>\n",
       "      <td>NaN</td>\n",
       "      <td>4.0</td>\n",
       "      <td>68</td>\n",
       "      <td>TEAEs and SAEs were collected from first dose ...</td>\n",
       "      <td>4.0</td>\n",
       "      <td>Skin and subcutaneous tissue disorders</td>\n",
       "      <td>ACNE</td>\n",
       "      <td>5</td>\n",
       "      <td>MedDRA 25.0</td>\n",
       "      <td>SYSTEMATIC_ASSESSMENT</td>\n",
       "    </tr>\n",
       "    <tr>\n",
       "      <th>...</th>\n",
       "      <td>...</td>\n",
       "      <td>...</td>\n",
       "      <td>...</td>\n",
       "      <td>...</td>\n",
       "      <td>...</td>\n",
       "      <td>...</td>\n",
       "      <td>...</td>\n",
       "      <td>...</td>\n",
       "      <td>...</td>\n",
       "      <td>...</td>\n",
       "      <td>...</td>\n",
       "      <td>...</td>\n",
       "      <td>...</td>\n",
       "      <td>...</td>\n",
       "      <td>...</td>\n",
       "      <td>...</td>\n",
       "      <td>...</td>\n",
       "    </tr>\n",
       "    <tr>\n",
       "      <th>9284462</th>\n",
       "      <td>117455296</td>\n",
       "      <td>NCT03535727</td>\n",
       "      <td>9370737</td>\n",
       "      <td>EG004</td>\n",
       "      <td>All-Cause Mortality was assessed for up to 51 ...</td>\n",
       "      <td>serious</td>\n",
       "      <td>NaN</td>\n",
       "      <td>NaN</td>\n",
       "      <td>2.0</td>\n",
       "      <td>6</td>\n",
       "      <td>This study used the descriptions and grading s...</td>\n",
       "      <td>2.0</td>\n",
       "      <td>Vascular disorders</td>\n",
       "      <td>Thromboembolic event</td>\n",
       "      <td>5</td>\n",
       "      <td>NaN</td>\n",
       "      <td>SYSTEMATIC_ASSESSMENT</td>\n",
       "    </tr>\n",
       "    <tr>\n",
       "      <th>9284463</th>\n",
       "      <td>117455297</td>\n",
       "      <td>NCT03535727</td>\n",
       "      <td>9370738</td>\n",
       "      <td>EG005</td>\n",
       "      <td>All-Cause Mortality was assessed for up to 51 ...</td>\n",
       "      <td>serious</td>\n",
       "      <td>NaN</td>\n",
       "      <td>NaN</td>\n",
       "      <td>1.0</td>\n",
       "      <td>3</td>\n",
       "      <td>This study used the descriptions and grading s...</td>\n",
       "      <td>1.0</td>\n",
       "      <td>Vascular disorders</td>\n",
       "      <td>Thromboembolic event</td>\n",
       "      <td>5</td>\n",
       "      <td>NaN</td>\n",
       "      <td>SYSTEMATIC_ASSESSMENT</td>\n",
       "    </tr>\n",
       "    <tr>\n",
       "      <th>9284464</th>\n",
       "      <td>117455298</td>\n",
       "      <td>NCT03535727</td>\n",
       "      <td>9370739</td>\n",
       "      <td>EG006</td>\n",
       "      <td>All-Cause Mortality was assessed for up to 51 ...</td>\n",
       "      <td>serious</td>\n",
       "      <td>NaN</td>\n",
       "      <td>NaN</td>\n",
       "      <td>0.0</td>\n",
       "      <td>3</td>\n",
       "      <td>This study used the descriptions and grading s...</td>\n",
       "      <td>0.0</td>\n",
       "      <td>Vascular disorders</td>\n",
       "      <td>Thromboembolic event</td>\n",
       "      <td>5</td>\n",
       "      <td>NaN</td>\n",
       "      <td>SYSTEMATIC_ASSESSMENT</td>\n",
       "    </tr>\n",
       "    <tr>\n",
       "      <th>9284465</th>\n",
       "      <td>117455299</td>\n",
       "      <td>NCT03535727</td>\n",
       "      <td>9370740</td>\n",
       "      <td>EG007</td>\n",
       "      <td>All-Cause Mortality was assessed for up to 51 ...</td>\n",
       "      <td>serious</td>\n",
       "      <td>NaN</td>\n",
       "      <td>NaN</td>\n",
       "      <td>0.0</td>\n",
       "      <td>7</td>\n",
       "      <td>This study used the descriptions and grading s...</td>\n",
       "      <td>0.0</td>\n",
       "      <td>Vascular disorders</td>\n",
       "      <td>Thromboembolic event</td>\n",
       "      <td>5</td>\n",
       "      <td>NaN</td>\n",
       "      <td>SYSTEMATIC_ASSESSMENT</td>\n",
       "    </tr>\n",
       "    <tr>\n",
       "      <th>9284466</th>\n",
       "      <td>117455300</td>\n",
       "      <td>NCT03535727</td>\n",
       "      <td>9370741</td>\n",
       "      <td>EG008</td>\n",
       "      <td>All-Cause Mortality was assessed for up to 51 ...</td>\n",
       "      <td>serious</td>\n",
       "      <td>NaN</td>\n",
       "      <td>NaN</td>\n",
       "      <td>2.0</td>\n",
       "      <td>8</td>\n",
       "      <td>This study used the descriptions and grading s...</td>\n",
       "      <td>2.0</td>\n",
       "      <td>Vascular disorders</td>\n",
       "      <td>Thromboembolic event</td>\n",
       "      <td>5</td>\n",
       "      <td>NaN</td>\n",
       "      <td>SYSTEMATIC_ASSESSMENT</td>\n",
       "    </tr>\n",
       "  </tbody>\n",
       "</table>\n",
       "<p>9284467 rows × 17 columns</p>\n",
       "</div>\n",
       "    <div class=\"colab-df-buttons\">\n",
       "\n",
       "  <div class=\"colab-df-container\">\n",
       "    <button class=\"colab-df-convert\" onclick=\"convertToInteractive('df-fdb6795a-d124-44e1-a2d6-fb72f5d487f2')\"\n",
       "            title=\"Convert this dataframe to an interactive table.\"\n",
       "            style=\"display:none;\">\n",
       "\n",
       "  <svg xmlns=\"http://www.w3.org/2000/svg\" height=\"24px\" viewBox=\"0 -960 960 960\">\n",
       "    <path d=\"M120-120v-720h720v720H120Zm60-500h600v-160H180v160Zm220 220h160v-160H400v160Zm0 220h160v-160H400v160ZM180-400h160v-160H180v160Zm440 0h160v-160H620v160ZM180-180h160v-160H180v160Zm440 0h160v-160H620v160Z\"/>\n",
       "  </svg>\n",
       "    </button>\n",
       "\n",
       "  <style>\n",
       "    .colab-df-container {\n",
       "      display:flex;\n",
       "      gap: 12px;\n",
       "    }\n",
       "\n",
       "    .colab-df-convert {\n",
       "      background-color: #E8F0FE;\n",
       "      border: none;\n",
       "      border-radius: 50%;\n",
       "      cursor: pointer;\n",
       "      display: none;\n",
       "      fill: #1967D2;\n",
       "      height: 32px;\n",
       "      padding: 0 0 0 0;\n",
       "      width: 32px;\n",
       "    }\n",
       "\n",
       "    .colab-df-convert:hover {\n",
       "      background-color: #E2EBFA;\n",
       "      box-shadow: 0px 1px 2px rgba(60, 64, 67, 0.3), 0px 1px 3px 1px rgba(60, 64, 67, 0.15);\n",
       "      fill: #174EA6;\n",
       "    }\n",
       "\n",
       "    .colab-df-buttons div {\n",
       "      margin-bottom: 4px;\n",
       "    }\n",
       "\n",
       "    [theme=dark] .colab-df-convert {\n",
       "      background-color: #3B4455;\n",
       "      fill: #D2E3FC;\n",
       "    }\n",
       "\n",
       "    [theme=dark] .colab-df-convert:hover {\n",
       "      background-color: #434B5C;\n",
       "      box-shadow: 0px 1px 3px 1px rgba(0, 0, 0, 0.15);\n",
       "      filter: drop-shadow(0px 1px 2px rgba(0, 0, 0, 0.3));\n",
       "      fill: #FFFFFF;\n",
       "    }\n",
       "  </style>\n",
       "\n",
       "    <script>\n",
       "      const buttonEl =\n",
       "        document.querySelector('#df-fdb6795a-d124-44e1-a2d6-fb72f5d487f2 button.colab-df-convert');\n",
       "      buttonEl.style.display =\n",
       "        google.colab.kernel.accessAllowed ? 'block' : 'none';\n",
       "\n",
       "      async function convertToInteractive(key) {\n",
       "        const element = document.querySelector('#df-fdb6795a-d124-44e1-a2d6-fb72f5d487f2');\n",
       "        const dataTable =\n",
       "          await google.colab.kernel.invokeFunction('convertToInteractive',\n",
       "                                                    [key], {});\n",
       "        if (!dataTable) return;\n",
       "\n",
       "        const docLinkHtml = 'Like what you see? Visit the ' +\n",
       "          '<a target=\"_blank\" href=https://colab.research.google.com/notebooks/data_table.ipynb>data table notebook</a>'\n",
       "          + ' to learn more about interactive tables.';\n",
       "        element.innerHTML = '';\n",
       "        dataTable['output_type'] = 'display_data';\n",
       "        await google.colab.output.renderOutput(dataTable, element);\n",
       "        const docLink = document.createElement('div');\n",
       "        docLink.innerHTML = docLinkHtml;\n",
       "        element.appendChild(docLink);\n",
       "      }\n",
       "    </script>\n",
       "  </div>\n",
       "\n",
       "\n",
       "<div id=\"df-cc003445-aca8-417d-9bc0-f5216744ac7b\">\n",
       "  <button class=\"colab-df-quickchart\" onclick=\"quickchart('df-cc003445-aca8-417d-9bc0-f5216744ac7b')\"\n",
       "            title=\"Suggest charts\"\n",
       "            style=\"display:none;\">\n",
       "\n",
       "<svg xmlns=\"http://www.w3.org/2000/svg\" height=\"24px\"viewBox=\"0 0 24 24\"\n",
       "     width=\"24px\">\n",
       "    <g>\n",
       "        <path d=\"M19 3H5c-1.1 0-2 .9-2 2v14c0 1.1.9 2 2 2h14c1.1 0 2-.9 2-2V5c0-1.1-.9-2-2-2zM9 17H7v-7h2v7zm4 0h-2V7h2v10zm4 0h-2v-4h2v4z\"/>\n",
       "    </g>\n",
       "</svg>\n",
       "  </button>\n",
       "\n",
       "<style>\n",
       "  .colab-df-quickchart {\n",
       "      --bg-color: #E8F0FE;\n",
       "      --fill-color: #1967D2;\n",
       "      --hover-bg-color: #E2EBFA;\n",
       "      --hover-fill-color: #174EA6;\n",
       "      --disabled-fill-color: #AAA;\n",
       "      --disabled-bg-color: #DDD;\n",
       "  }\n",
       "\n",
       "  [theme=dark] .colab-df-quickchart {\n",
       "      --bg-color: #3B4455;\n",
       "      --fill-color: #D2E3FC;\n",
       "      --hover-bg-color: #434B5C;\n",
       "      --hover-fill-color: #FFFFFF;\n",
       "      --disabled-bg-color: #3B4455;\n",
       "      --disabled-fill-color: #666;\n",
       "  }\n",
       "\n",
       "  .colab-df-quickchart {\n",
       "    background-color: var(--bg-color);\n",
       "    border: none;\n",
       "    border-radius: 50%;\n",
       "    cursor: pointer;\n",
       "    display: none;\n",
       "    fill: var(--fill-color);\n",
       "    height: 32px;\n",
       "    padding: 0;\n",
       "    width: 32px;\n",
       "  }\n",
       "\n",
       "  .colab-df-quickchart:hover {\n",
       "    background-color: var(--hover-bg-color);\n",
       "    box-shadow: 0 1px 2px rgba(60, 64, 67, 0.3), 0 1px 3px 1px rgba(60, 64, 67, 0.15);\n",
       "    fill: var(--button-hover-fill-color);\n",
       "  }\n",
       "\n",
       "  .colab-df-quickchart-complete:disabled,\n",
       "  .colab-df-quickchart-complete:disabled:hover {\n",
       "    background-color: var(--disabled-bg-color);\n",
       "    fill: var(--disabled-fill-color);\n",
       "    box-shadow: none;\n",
       "  }\n",
       "\n",
       "  .colab-df-spinner {\n",
       "    border: 2px solid var(--fill-color);\n",
       "    border-color: transparent;\n",
       "    border-bottom-color: var(--fill-color);\n",
       "    animation:\n",
       "      spin 1s steps(1) infinite;\n",
       "  }\n",
       "\n",
       "  @keyframes spin {\n",
       "    0% {\n",
       "      border-color: transparent;\n",
       "      border-bottom-color: var(--fill-color);\n",
       "      border-left-color: var(--fill-color);\n",
       "    }\n",
       "    20% {\n",
       "      border-color: transparent;\n",
       "      border-left-color: var(--fill-color);\n",
       "      border-top-color: var(--fill-color);\n",
       "    }\n",
       "    30% {\n",
       "      border-color: transparent;\n",
       "      border-left-color: var(--fill-color);\n",
       "      border-top-color: var(--fill-color);\n",
       "      border-right-color: var(--fill-color);\n",
       "    }\n",
       "    40% {\n",
       "      border-color: transparent;\n",
       "      border-right-color: var(--fill-color);\n",
       "      border-top-color: var(--fill-color);\n",
       "    }\n",
       "    60% {\n",
       "      border-color: transparent;\n",
       "      border-right-color: var(--fill-color);\n",
       "    }\n",
       "    80% {\n",
       "      border-color: transparent;\n",
       "      border-right-color: var(--fill-color);\n",
       "      border-bottom-color: var(--fill-color);\n",
       "    }\n",
       "    90% {\n",
       "      border-color: transparent;\n",
       "      border-bottom-color: var(--fill-color);\n",
       "    }\n",
       "  }\n",
       "</style>\n",
       "\n",
       "  <script>\n",
       "    async function quickchart(key) {\n",
       "      const quickchartButtonEl =\n",
       "        document.querySelector('#' + key + ' button');\n",
       "      quickchartButtonEl.disabled = true;  // To prevent multiple clicks.\n",
       "      quickchartButtonEl.classList.add('colab-df-spinner');\n",
       "      try {\n",
       "        const charts = await google.colab.kernel.invokeFunction(\n",
       "            'suggestCharts', [key], {});\n",
       "      } catch (error) {\n",
       "        console.error('Error during call to suggestCharts:', error);\n",
       "      }\n",
       "      quickchartButtonEl.classList.remove('colab-df-spinner');\n",
       "      quickchartButtonEl.classList.add('colab-df-quickchart-complete');\n",
       "    }\n",
       "    (() => {\n",
       "      let quickchartButtonEl =\n",
       "        document.querySelector('#df-cc003445-aca8-417d-9bc0-f5216744ac7b button');\n",
       "      quickchartButtonEl.style.display =\n",
       "        google.colab.kernel.accessAllowed ? 'block' : 'none';\n",
       "    })();\n",
       "  </script>\n",
       "</div>\n",
       "\n",
       "  <div id=\"id_a9bf2ea9-f06b-427d-9479-a672f59e8a18\">\n",
       "    <style>\n",
       "      .colab-df-generate {\n",
       "        background-color: #E8F0FE;\n",
       "        border: none;\n",
       "        border-radius: 50%;\n",
       "        cursor: pointer;\n",
       "        display: none;\n",
       "        fill: #1967D2;\n",
       "        height: 32px;\n",
       "        padding: 0 0 0 0;\n",
       "        width: 32px;\n",
       "      }\n",
       "\n",
       "      .colab-df-generate:hover {\n",
       "        background-color: #E2EBFA;\n",
       "        box-shadow: 0px 1px 2px rgba(60, 64, 67, 0.3), 0px 1px 3px 1px rgba(60, 64, 67, 0.15);\n",
       "        fill: #174EA6;\n",
       "      }\n",
       "\n",
       "      [theme=dark] .colab-df-generate {\n",
       "        background-color: #3B4455;\n",
       "        fill: #D2E3FC;\n",
       "      }\n",
       "\n",
       "      [theme=dark] .colab-df-generate:hover {\n",
       "        background-color: #434B5C;\n",
       "        box-shadow: 0px 1px 3px 1px rgba(0, 0, 0, 0.15);\n",
       "        filter: drop-shadow(0px 1px 2px rgba(0, 0, 0, 0.3));\n",
       "        fill: #FFFFFF;\n",
       "      }\n",
       "    </style>\n",
       "    <button class=\"colab-df-generate\" onclick=\"generateWithVariable('reported_events')\"\n",
       "            title=\"Generate code using this dataframe.\"\n",
       "            style=\"display:none;\">\n",
       "\n",
       "  <svg xmlns=\"http://www.w3.org/2000/svg\" height=\"24px\"viewBox=\"0 0 24 24\"\n",
       "       width=\"24px\">\n",
       "    <path d=\"M7,19H8.4L18.45,9,17,7.55,7,17.6ZM5,21V16.75L18.45,3.32a2,2,0,0,1,2.83,0l1.4,1.43a1.91,1.91,0,0,1,.58,1.4,1.91,1.91,0,0,1-.58,1.4L9.25,21ZM18.45,9,17,7.55Zm-12,3A5.31,5.31,0,0,0,4.9,8.1,5.31,5.31,0,0,0,1,6.5,5.31,5.31,0,0,0,4.9,4.9,5.31,5.31,0,0,0,6.5,1,5.31,5.31,0,0,0,8.1,4.9,5.31,5.31,0,0,0,12,6.5,5.46,5.46,0,0,0,6.5,12Z\"/>\n",
       "  </svg>\n",
       "    </button>\n",
       "    <script>\n",
       "      (() => {\n",
       "      const buttonEl =\n",
       "        document.querySelector('#id_a9bf2ea9-f06b-427d-9479-a672f59e8a18 button.colab-df-generate');\n",
       "      buttonEl.style.display =\n",
       "        google.colab.kernel.accessAllowed ? 'block' : 'none';\n",
       "\n",
       "      buttonEl.onclick = () => {\n",
       "        google.colab.notebook.generateWithVariable('reported_events');\n",
       "      }\n",
       "      })();\n",
       "    </script>\n",
       "  </div>\n",
       "\n",
       "    </div>\n",
       "  </div>\n"
      ],
      "text/plain": [
       "                id       nct_id  result_group_id ctgov_group_code  \\\n",
       "0        111888450  NCT03978520          8932081            EG002   \n",
       "1        111888451  NCT03978520          8932082            EG003   \n",
       "2        111888452  NCT03978520          8932083            EG004   \n",
       "3        111888453  NCT03978520          8932079            EG000   \n",
       "4        111888454  NCT03978520          8932080            EG001   \n",
       "...            ...          ...              ...              ...   \n",
       "9284462  117455296  NCT03535727          9370737            EG004   \n",
       "9284463  117455297  NCT03535727          9370738            EG005   \n",
       "9284464  117455298  NCT03535727          9370739            EG006   \n",
       "9284465  117455299  NCT03535727          9370740            EG007   \n",
       "9284466  117455300  NCT03535727          9370741            EG008   \n",
       "\n",
       "                                                time_frame event_type  \\\n",
       "0        All-cause mortality is reported from enrollmen...      other   \n",
       "1        All-cause mortality is reported from enrollmen...      other   \n",
       "2        All-cause mortality is reported from enrollmen...      other   \n",
       "3        All-cause mortality is reported from enrollmen...      other   \n",
       "4        All-cause mortality is reported from enrollmen...      other   \n",
       "...                                                    ...        ...   \n",
       "9284462  All-Cause Mortality was assessed for up to 51 ...    serious   \n",
       "9284463  All-Cause Mortality was assessed for up to 51 ...    serious   \n",
       "9284464  All-Cause Mortality was assessed for up to 51 ...    serious   \n",
       "9284465  All-Cause Mortality was assessed for up to 51 ...    serious   \n",
       "9284466  All-Cause Mortality was assessed for up to 51 ...    serious   \n",
       "\n",
       "         default_vocab  default_assessment  subjects_affected  \\\n",
       "0                  NaN                 NaN                4.0   \n",
       "1                  NaN                 NaN                0.0   \n",
       "2                  NaN                 NaN                0.0   \n",
       "3                  NaN                 NaN                1.0   \n",
       "4                  NaN                 NaN                4.0   \n",
       "...                ...                 ...                ...   \n",
       "9284462            NaN                 NaN                2.0   \n",
       "9284463            NaN                 NaN                1.0   \n",
       "9284464            NaN                 NaN                0.0   \n",
       "9284465            NaN                 NaN                0.0   \n",
       "9284466            NaN                 NaN                2.0   \n",
       "\n",
       "         subjects_at_risk                                        description  \\\n",
       "0                      62  TEAEs and SAEs were collected from first dose ...   \n",
       "1                      69  TEAEs and SAEs were collected from first dose ...   \n",
       "2                      67  TEAEs and SAEs were collected from first dose ...   \n",
       "3                      75  TEAEs and SAEs were collected from first dose ...   \n",
       "4                      68  TEAEs and SAEs were collected from first dose ...   \n",
       "...                   ...                                                ...   \n",
       "9284462                 6  This study used the descriptions and grading s...   \n",
       "9284463                 3  This study used the descriptions and grading s...   \n",
       "9284464                 3  This study used the descriptions and grading s...   \n",
       "9284465                 7  This study used the descriptions and grading s...   \n",
       "9284466                 8  This study used the descriptions and grading s...   \n",
       "\n",
       "         event_count                            organ_system  \\\n",
       "0                4.0                   Psychiatric disorders   \n",
       "1                0.0                   Psychiatric disorders   \n",
       "2                0.0                   Psychiatric disorders   \n",
       "3                2.0  Skin and subcutaneous tissue disorders   \n",
       "4                4.0  Skin and subcutaneous tissue disorders   \n",
       "...              ...                                     ...   \n",
       "9284462          2.0                      Vascular disorders   \n",
       "9284463          1.0                      Vascular disorders   \n",
       "9284464          0.0                      Vascular disorders   \n",
       "9284465          0.0                      Vascular disorders   \n",
       "9284466          2.0                      Vascular disorders   \n",
       "\n",
       "           adverse_event_term  frequency_threshold        vocab  \\\n",
       "0                    INSOMNIA                    5  MedDRA 25.0   \n",
       "1                    INSOMNIA                    5  MedDRA 25.0   \n",
       "2                    INSOMNIA                    5  MedDRA 25.0   \n",
       "3                        ACNE                    5  MedDRA 25.0   \n",
       "4                        ACNE                    5  MedDRA 25.0   \n",
       "...                       ...                  ...          ...   \n",
       "9284462  Thromboembolic event                    5          NaN   \n",
       "9284463  Thromboembolic event                    5          NaN   \n",
       "9284464  Thromboembolic event                    5          NaN   \n",
       "9284465  Thromboembolic event                    5          NaN   \n",
       "9284466  Thromboembolic event                    5          NaN   \n",
       "\n",
       "                    assessment  \n",
       "0        SYSTEMATIC_ASSESSMENT  \n",
       "1        SYSTEMATIC_ASSESSMENT  \n",
       "2        SYSTEMATIC_ASSESSMENT  \n",
       "3        SYSTEMATIC_ASSESSMENT  \n",
       "4        SYSTEMATIC_ASSESSMENT  \n",
       "...                        ...  \n",
       "9284462  SYSTEMATIC_ASSESSMENT  \n",
       "9284463  SYSTEMATIC_ASSESSMENT  \n",
       "9284464  SYSTEMATIC_ASSESSMENT  \n",
       "9284465  SYSTEMATIC_ASSESSMENT  \n",
       "9284466  SYSTEMATIC_ASSESSMENT  \n",
       "\n",
       "[9284467 rows x 17 columns]"
      ]
     },
     "execution_count": 46,
     "metadata": {},
     "output_type": "execute_result"
    }
   ],
   "source": [
    "reported_events"
   ]
  },
  {
   "cell_type": "code",
   "execution_count": 47,
   "id": "0d80f7b7-06e6-42cd-abc5-85eb583d1329",
   "metadata": {
    "colab": {
     "base_uri": "https://localhost:8080/"
    },
    "executionInfo": {
     "elapsed": 5,
     "status": "ok",
     "timestamp": 1737737459199,
     "user": {
      "displayName": "Medhansh Jain",
      "userId": "15789660724571206766"
     },
     "user_tz": -330
    },
    "id": "0d80f7b7-06e6-42cd-abc5-85eb583d1329",
    "outputId": "02133a2f-346f-4f8a-d8de-0095642b4d71"
   },
   "outputs": [
    {
     "name": "stdout",
     "output_type": "stream",
     "text": [
      "<class 'pandas.core.frame.DataFrame'>\n",
      "RangeIndex: 9284467 entries, 0 to 9284466\n",
      "Data columns (total 17 columns):\n",
      " #   Column               Dtype  \n",
      "---  ------               -----  \n",
      " 0   id                   int64  \n",
      " 1   nct_id               object \n",
      " 2   result_group_id      int64  \n",
      " 3   ctgov_group_code     object \n",
      " 4   time_frame           object \n",
      " 5   event_type           object \n",
      " 6   default_vocab        float64\n",
      " 7   default_assessment   float64\n",
      " 8   subjects_affected    float64\n",
      " 9   subjects_at_risk     int64  \n",
      " 10  description          object \n",
      " 11  event_count          float64\n",
      " 12  organ_system         object \n",
      " 13  adverse_event_term   object \n",
      " 14  frequency_threshold  int64  \n",
      " 15  vocab                object \n",
      " 16  assessment           object \n",
      "dtypes: float64(4), int64(4), object(9)\n",
      "memory usage: 1.2+ GB\n"
     ]
    }
   ],
   "source": [
    "reported_events.info()"
   ]
  },
  {
   "cell_type": "code",
   "execution_count": 48,
   "id": "658053e6-402d-44bf-9707-1c699e562b39",
   "metadata": {
    "colab": {
     "base_uri": "https://localhost:8080/",
     "height": 617
    },
    "executionInfo": {
     "elapsed": 4327,
     "status": "ok",
     "timestamp": 1737737463523,
     "user": {
      "displayName": "Medhansh Jain",
      "userId": "15789660724571206766"
     },
     "user_tz": -330
    },
    "id": "658053e6-402d-44bf-9707-1c699e562b39",
    "outputId": "d61079bb-bfa6-4d13-88f2-e52ab7ce58c9"
   },
   "outputs": [
    {
     "data": {
      "text/html": [
       "<div>\n",
       "<style scoped>\n",
       "    .dataframe tbody tr th:only-of-type {\n",
       "        vertical-align: middle;\n",
       "    }\n",
       "\n",
       "    .dataframe tbody tr th {\n",
       "        vertical-align: top;\n",
       "    }\n",
       "\n",
       "    .dataframe thead th {\n",
       "        text-align: right;\n",
       "    }\n",
       "</style>\n",
       "<table border=\"1\" class=\"dataframe\">\n",
       "  <thead>\n",
       "    <tr style=\"text-align: right;\">\n",
       "      <th></th>\n",
       "      <th>0</th>\n",
       "    </tr>\n",
       "  </thead>\n",
       "  <tbody>\n",
       "    <tr>\n",
       "      <th>id</th>\n",
       "      <td>0</td>\n",
       "    </tr>\n",
       "    <tr>\n",
       "      <th>nct_id</th>\n",
       "      <td>0</td>\n",
       "    </tr>\n",
       "    <tr>\n",
       "      <th>result_group_id</th>\n",
       "      <td>0</td>\n",
       "    </tr>\n",
       "    <tr>\n",
       "      <th>ctgov_group_code</th>\n",
       "      <td>0</td>\n",
       "    </tr>\n",
       "    <tr>\n",
       "      <th>time_frame</th>\n",
       "      <td>1424796</td>\n",
       "    </tr>\n",
       "    <tr>\n",
       "      <th>event_type</th>\n",
       "      <td>0</td>\n",
       "    </tr>\n",
       "    <tr>\n",
       "      <th>default_vocab</th>\n",
       "      <td>9284467</td>\n",
       "    </tr>\n",
       "    <tr>\n",
       "      <th>default_assessment</th>\n",
       "      <td>9284467</td>\n",
       "    </tr>\n",
       "    <tr>\n",
       "      <th>subjects_affected</th>\n",
       "      <td>71785</td>\n",
       "    </tr>\n",
       "    <tr>\n",
       "      <th>subjects_at_risk</th>\n",
       "      <td>0</td>\n",
       "    </tr>\n",
       "    <tr>\n",
       "      <th>description</th>\n",
       "      <td>3331634</td>\n",
       "    </tr>\n",
       "    <tr>\n",
       "      <th>event_count</th>\n",
       "      <td>5401070</td>\n",
       "    </tr>\n",
       "    <tr>\n",
       "      <th>organ_system</th>\n",
       "      <td>0</td>\n",
       "    </tr>\n",
       "    <tr>\n",
       "      <th>adverse_event_term</th>\n",
       "      <td>308</td>\n",
       "    </tr>\n",
       "    <tr>\n",
       "      <th>frequency_threshold</th>\n",
       "      <td>0</td>\n",
       "    </tr>\n",
       "    <tr>\n",
       "      <th>vocab</th>\n",
       "      <td>980888</td>\n",
       "    </tr>\n",
       "    <tr>\n",
       "      <th>assessment</th>\n",
       "      <td>257320</td>\n",
       "    </tr>\n",
       "  </tbody>\n",
       "</table>\n",
       "</div><br><label><b>dtype:</b> int64</label>"
      ],
      "text/plain": [
       "id                           0\n",
       "nct_id                       0\n",
       "result_group_id              0\n",
       "ctgov_group_code             0\n",
       "time_frame             1424796\n",
       "event_type                   0\n",
       "default_vocab          9284467\n",
       "default_assessment     9284467\n",
       "subjects_affected        71785\n",
       "subjects_at_risk             0\n",
       "description            3331634\n",
       "event_count            5401070\n",
       "organ_system                 0\n",
       "adverse_event_term         308\n",
       "frequency_threshold          0\n",
       "vocab                   980888\n",
       "assessment              257320\n",
       "dtype: int64"
      ]
     },
     "execution_count": 48,
     "metadata": {},
     "output_type": "execute_result"
    }
   ],
   "source": [
    "# Check for missing values in the dataset\n",
    "reported_events.isnull().sum()"
   ]
  },
  {
   "cell_type": "code",
   "execution_count": 49,
   "id": "cd450ffc-034f-4748-990a-e82b144f43f8",
   "metadata": {
    "colab": {
     "base_uri": "https://localhost:8080/"
    },
    "executionInfo": {
     "elapsed": 3,
     "status": "ok",
     "timestamp": 1737737463524,
     "user": {
      "displayName": "Medhansh Jain",
      "userId": "15789660724571206766"
     },
     "user_tz": -330
    },
    "id": "cd450ffc-034f-4748-990a-e82b144f43f8",
    "outputId": "cdf323d5-6d04-4e30-b82a-1d513c554901"
   },
   "outputs": [
    {
     "data": {
      "text/plain": [
       "(9284467, 17)"
      ]
     },
     "execution_count": 49,
     "metadata": {},
     "output_type": "execute_result"
    }
   ],
   "source": [
    "# Display the shape of the dataset to track changes\n",
    "reported_events.shape"
   ]
  },
  {
   "cell_type": "code",
   "execution_count": 50,
   "id": "3c10f3cd-5156-4033-a611-30c463570917",
   "metadata": {
    "colab": {
     "base_uri": "https://localhost:8080/"
    },
    "executionInfo": {
     "elapsed": 15079,
     "status": "ok",
     "timestamp": 1737737478601,
     "user": {
      "displayName": "Medhansh Jain",
      "userId": "15789660724571206766"
     },
     "user_tz": -330
    },
    "id": "3c10f3cd-5156-4033-a611-30c463570917",
    "outputId": "6c59aa20-2a1a-48e8-8445-6552775e64ad"
   },
   "outputs": [
    {
     "data": {
      "text/plain": [
       "(0, 17)"
      ]
     },
     "execution_count": 50,
     "metadata": {},
     "output_type": "execute_result"
    }
   ],
   "source": [
    "# Identify and handle duplicate rows\n",
    "reported_events[reported_events.duplicated].shape"
   ]
  },
  {
   "cell_type": "code",
   "execution_count": 51,
   "id": "f508984a-d76f-407b-988c-f1a72724cfb7",
   "metadata": {
    "executionInfo": {
     "elapsed": 719,
     "status": "ok",
     "timestamp": 1737737479318,
     "user": {
      "displayName": "Medhansh Jain",
      "userId": "15789660724571206766"
     },
     "user_tz": -330
    },
    "id": "f508984a-d76f-407b-988c-f1a72724cfb7"
   },
   "outputs": [],
   "source": [
    "# Drop irrelevant columns to streamline the dataset\n",
    "reported_events.drop(['id','result_group_id','ctgov_group_code','adverse_event_term','time_frame','default_vocab',\n",
    "                      'default_assessment','description','adverse_event_term','vocab'],axis=1,inplace=True)"
   ]
  },
  {
   "cell_type": "code",
   "execution_count": 52,
   "id": "64ec687b-de0d-4ae2-a7b7-a60a7ff7d18e",
   "metadata": {
    "colab": {
     "base_uri": "https://localhost:8080/",
     "height": 348
    },
    "executionInfo": {
     "elapsed": 1367,
     "status": "ok",
     "timestamp": 1737737480682,
     "user": {
      "displayName": "Medhansh Jain",
      "userId": "15789660724571206766"
     },
     "user_tz": -330
    },
    "id": "64ec687b-de0d-4ae2-a7b7-a60a7ff7d18e",
    "outputId": "8ba5a234-8db9-4419-91f8-7ad1f05bacaa"
   },
   "outputs": [
    {
     "data": {
      "application/vnd.google.colaboratory.intrinsic+json": {
       "type": "dataframe",
       "variable_name": "reported_events"
      },
      "text/html": [
       "\n",
       "  <div id=\"df-ed584faa-fd99-492e-ab5a-90a7b5145027\" class=\"colab-df-container\">\n",
       "    <div>\n",
       "<style scoped>\n",
       "    .dataframe tbody tr th:only-of-type {\n",
       "        vertical-align: middle;\n",
       "    }\n",
       "\n",
       "    .dataframe tbody tr th {\n",
       "        vertical-align: top;\n",
       "    }\n",
       "\n",
       "    .dataframe thead th {\n",
       "        text-align: right;\n",
       "    }\n",
       "</style>\n",
       "<table border=\"1\" class=\"dataframe\">\n",
       "  <thead>\n",
       "    <tr style=\"text-align: right;\">\n",
       "      <th></th>\n",
       "      <th>nct_id</th>\n",
       "      <th>event_type</th>\n",
       "      <th>subjects_affected</th>\n",
       "      <th>subjects_at_risk</th>\n",
       "      <th>event_count</th>\n",
       "      <th>organ_system</th>\n",
       "      <th>frequency_threshold</th>\n",
       "      <th>assessment</th>\n",
       "    </tr>\n",
       "  </thead>\n",
       "  <tbody>\n",
       "    <tr>\n",
       "      <th>0</th>\n",
       "      <td>NCT03978520</td>\n",
       "      <td>other</td>\n",
       "      <td>4.0</td>\n",
       "      <td>62</td>\n",
       "      <td>4.0</td>\n",
       "      <td>Psychiatric disorders</td>\n",
       "      <td>5</td>\n",
       "      <td>SYSTEMATIC_ASSESSMENT</td>\n",
       "    </tr>\n",
       "    <tr>\n",
       "      <th>1</th>\n",
       "      <td>NCT03978520</td>\n",
       "      <td>other</td>\n",
       "      <td>0.0</td>\n",
       "      <td>69</td>\n",
       "      <td>0.0</td>\n",
       "      <td>Psychiatric disorders</td>\n",
       "      <td>5</td>\n",
       "      <td>SYSTEMATIC_ASSESSMENT</td>\n",
       "    </tr>\n",
       "    <tr>\n",
       "      <th>2</th>\n",
       "      <td>NCT03978520</td>\n",
       "      <td>other</td>\n",
       "      <td>0.0</td>\n",
       "      <td>67</td>\n",
       "      <td>0.0</td>\n",
       "      <td>Psychiatric disorders</td>\n",
       "      <td>5</td>\n",
       "      <td>SYSTEMATIC_ASSESSMENT</td>\n",
       "    </tr>\n",
       "    <tr>\n",
       "      <th>3</th>\n",
       "      <td>NCT03978520</td>\n",
       "      <td>other</td>\n",
       "      <td>1.0</td>\n",
       "      <td>75</td>\n",
       "      <td>2.0</td>\n",
       "      <td>Skin and subcutaneous tissue disorders</td>\n",
       "      <td>5</td>\n",
       "      <td>SYSTEMATIC_ASSESSMENT</td>\n",
       "    </tr>\n",
       "    <tr>\n",
       "      <th>4</th>\n",
       "      <td>NCT03978520</td>\n",
       "      <td>other</td>\n",
       "      <td>4.0</td>\n",
       "      <td>68</td>\n",
       "      <td>4.0</td>\n",
       "      <td>Skin and subcutaneous tissue disorders</td>\n",
       "      <td>5</td>\n",
       "      <td>SYSTEMATIC_ASSESSMENT</td>\n",
       "    </tr>\n",
       "  </tbody>\n",
       "</table>\n",
       "</div>\n",
       "    <div class=\"colab-df-buttons\">\n",
       "\n",
       "  <div class=\"colab-df-container\">\n",
       "    <button class=\"colab-df-convert\" onclick=\"convertToInteractive('df-ed584faa-fd99-492e-ab5a-90a7b5145027')\"\n",
       "            title=\"Convert this dataframe to an interactive table.\"\n",
       "            style=\"display:none;\">\n",
       "\n",
       "  <svg xmlns=\"http://www.w3.org/2000/svg\" height=\"24px\" viewBox=\"0 -960 960 960\">\n",
       "    <path d=\"M120-120v-720h720v720H120Zm60-500h600v-160H180v160Zm220 220h160v-160H400v160Zm0 220h160v-160H400v160ZM180-400h160v-160H180v160Zm440 0h160v-160H620v160ZM180-180h160v-160H180v160Zm440 0h160v-160H620v160Z\"/>\n",
       "  </svg>\n",
       "    </button>\n",
       "\n",
       "  <style>\n",
       "    .colab-df-container {\n",
       "      display:flex;\n",
       "      gap: 12px;\n",
       "    }\n",
       "\n",
       "    .colab-df-convert {\n",
       "      background-color: #E8F0FE;\n",
       "      border: none;\n",
       "      border-radius: 50%;\n",
       "      cursor: pointer;\n",
       "      display: none;\n",
       "      fill: #1967D2;\n",
       "      height: 32px;\n",
       "      padding: 0 0 0 0;\n",
       "      width: 32px;\n",
       "    }\n",
       "\n",
       "    .colab-df-convert:hover {\n",
       "      background-color: #E2EBFA;\n",
       "      box-shadow: 0px 1px 2px rgba(60, 64, 67, 0.3), 0px 1px 3px 1px rgba(60, 64, 67, 0.15);\n",
       "      fill: #174EA6;\n",
       "    }\n",
       "\n",
       "    .colab-df-buttons div {\n",
       "      margin-bottom: 4px;\n",
       "    }\n",
       "\n",
       "    [theme=dark] .colab-df-convert {\n",
       "      background-color: #3B4455;\n",
       "      fill: #D2E3FC;\n",
       "    }\n",
       "\n",
       "    [theme=dark] .colab-df-convert:hover {\n",
       "      background-color: #434B5C;\n",
       "      box-shadow: 0px 1px 3px 1px rgba(0, 0, 0, 0.15);\n",
       "      filter: drop-shadow(0px 1px 2px rgba(0, 0, 0, 0.3));\n",
       "      fill: #FFFFFF;\n",
       "    }\n",
       "  </style>\n",
       "\n",
       "    <script>\n",
       "      const buttonEl =\n",
       "        document.querySelector('#df-ed584faa-fd99-492e-ab5a-90a7b5145027 button.colab-df-convert');\n",
       "      buttonEl.style.display =\n",
       "        google.colab.kernel.accessAllowed ? 'block' : 'none';\n",
       "\n",
       "      async function convertToInteractive(key) {\n",
       "        const element = document.querySelector('#df-ed584faa-fd99-492e-ab5a-90a7b5145027');\n",
       "        const dataTable =\n",
       "          await google.colab.kernel.invokeFunction('convertToInteractive',\n",
       "                                                    [key], {});\n",
       "        if (!dataTable) return;\n",
       "\n",
       "        const docLinkHtml = 'Like what you see? Visit the ' +\n",
       "          '<a target=\"_blank\" href=https://colab.research.google.com/notebooks/data_table.ipynb>data table notebook</a>'\n",
       "          + ' to learn more about interactive tables.';\n",
       "        element.innerHTML = '';\n",
       "        dataTable['output_type'] = 'display_data';\n",
       "        await google.colab.output.renderOutput(dataTable, element);\n",
       "        const docLink = document.createElement('div');\n",
       "        docLink.innerHTML = docLinkHtml;\n",
       "        element.appendChild(docLink);\n",
       "      }\n",
       "    </script>\n",
       "  </div>\n",
       "\n",
       "\n",
       "<div id=\"df-46d1e0a0-bccf-41c9-913d-7b110d7689db\">\n",
       "  <button class=\"colab-df-quickchart\" onclick=\"quickchart('df-46d1e0a0-bccf-41c9-913d-7b110d7689db')\"\n",
       "            title=\"Suggest charts\"\n",
       "            style=\"display:none;\">\n",
       "\n",
       "<svg xmlns=\"http://www.w3.org/2000/svg\" height=\"24px\"viewBox=\"0 0 24 24\"\n",
       "     width=\"24px\">\n",
       "    <g>\n",
       "        <path d=\"M19 3H5c-1.1 0-2 .9-2 2v14c0 1.1.9 2 2 2h14c1.1 0 2-.9 2-2V5c0-1.1-.9-2-2-2zM9 17H7v-7h2v7zm4 0h-2V7h2v10zm4 0h-2v-4h2v4z\"/>\n",
       "    </g>\n",
       "</svg>\n",
       "  </button>\n",
       "\n",
       "<style>\n",
       "  .colab-df-quickchart {\n",
       "      --bg-color: #E8F0FE;\n",
       "      --fill-color: #1967D2;\n",
       "      --hover-bg-color: #E2EBFA;\n",
       "      --hover-fill-color: #174EA6;\n",
       "      --disabled-fill-color: #AAA;\n",
       "      --disabled-bg-color: #DDD;\n",
       "  }\n",
       "\n",
       "  [theme=dark] .colab-df-quickchart {\n",
       "      --bg-color: #3B4455;\n",
       "      --fill-color: #D2E3FC;\n",
       "      --hover-bg-color: #434B5C;\n",
       "      --hover-fill-color: #FFFFFF;\n",
       "      --disabled-bg-color: #3B4455;\n",
       "      --disabled-fill-color: #666;\n",
       "  }\n",
       "\n",
       "  .colab-df-quickchart {\n",
       "    background-color: var(--bg-color);\n",
       "    border: none;\n",
       "    border-radius: 50%;\n",
       "    cursor: pointer;\n",
       "    display: none;\n",
       "    fill: var(--fill-color);\n",
       "    height: 32px;\n",
       "    padding: 0;\n",
       "    width: 32px;\n",
       "  }\n",
       "\n",
       "  .colab-df-quickchart:hover {\n",
       "    background-color: var(--hover-bg-color);\n",
       "    box-shadow: 0 1px 2px rgba(60, 64, 67, 0.3), 0 1px 3px 1px rgba(60, 64, 67, 0.15);\n",
       "    fill: var(--button-hover-fill-color);\n",
       "  }\n",
       "\n",
       "  .colab-df-quickchart-complete:disabled,\n",
       "  .colab-df-quickchart-complete:disabled:hover {\n",
       "    background-color: var(--disabled-bg-color);\n",
       "    fill: var(--disabled-fill-color);\n",
       "    box-shadow: none;\n",
       "  }\n",
       "\n",
       "  .colab-df-spinner {\n",
       "    border: 2px solid var(--fill-color);\n",
       "    border-color: transparent;\n",
       "    border-bottom-color: var(--fill-color);\n",
       "    animation:\n",
       "      spin 1s steps(1) infinite;\n",
       "  }\n",
       "\n",
       "  @keyframes spin {\n",
       "    0% {\n",
       "      border-color: transparent;\n",
       "      border-bottom-color: var(--fill-color);\n",
       "      border-left-color: var(--fill-color);\n",
       "    }\n",
       "    20% {\n",
       "      border-color: transparent;\n",
       "      border-left-color: var(--fill-color);\n",
       "      border-top-color: var(--fill-color);\n",
       "    }\n",
       "    30% {\n",
       "      border-color: transparent;\n",
       "      border-left-color: var(--fill-color);\n",
       "      border-top-color: var(--fill-color);\n",
       "      border-right-color: var(--fill-color);\n",
       "    }\n",
       "    40% {\n",
       "      border-color: transparent;\n",
       "      border-right-color: var(--fill-color);\n",
       "      border-top-color: var(--fill-color);\n",
       "    }\n",
       "    60% {\n",
       "      border-color: transparent;\n",
       "      border-right-color: var(--fill-color);\n",
       "    }\n",
       "    80% {\n",
       "      border-color: transparent;\n",
       "      border-right-color: var(--fill-color);\n",
       "      border-bottom-color: var(--fill-color);\n",
       "    }\n",
       "    90% {\n",
       "      border-color: transparent;\n",
       "      border-bottom-color: var(--fill-color);\n",
       "    }\n",
       "  }\n",
       "</style>\n",
       "\n",
       "  <script>\n",
       "    async function quickchart(key) {\n",
       "      const quickchartButtonEl =\n",
       "        document.querySelector('#' + key + ' button');\n",
       "      quickchartButtonEl.disabled = true;  // To prevent multiple clicks.\n",
       "      quickchartButtonEl.classList.add('colab-df-spinner');\n",
       "      try {\n",
       "        const charts = await google.colab.kernel.invokeFunction(\n",
       "            'suggestCharts', [key], {});\n",
       "      } catch (error) {\n",
       "        console.error('Error during call to suggestCharts:', error);\n",
       "      }\n",
       "      quickchartButtonEl.classList.remove('colab-df-spinner');\n",
       "      quickchartButtonEl.classList.add('colab-df-quickchart-complete');\n",
       "    }\n",
       "    (() => {\n",
       "      let quickchartButtonEl =\n",
       "        document.querySelector('#df-46d1e0a0-bccf-41c9-913d-7b110d7689db button');\n",
       "      quickchartButtonEl.style.display =\n",
       "        google.colab.kernel.accessAllowed ? 'block' : 'none';\n",
       "    })();\n",
       "  </script>\n",
       "</div>\n",
       "\n",
       "    </div>\n",
       "  </div>\n"
      ],
      "text/plain": [
       "        nct_id event_type  subjects_affected  subjects_at_risk  event_count  \\\n",
       "0  NCT03978520      other                4.0                62          4.0   \n",
       "1  NCT03978520      other                0.0                69          0.0   \n",
       "2  NCT03978520      other                0.0                67          0.0   \n",
       "3  NCT03978520      other                1.0                75          2.0   \n",
       "4  NCT03978520      other                4.0                68          4.0   \n",
       "\n",
       "                             organ_system  frequency_threshold  \\\n",
       "0                   Psychiatric disorders                    5   \n",
       "1                   Psychiatric disorders                    5   \n",
       "2                   Psychiatric disorders                    5   \n",
       "3  Skin and subcutaneous tissue disorders                    5   \n",
       "4  Skin and subcutaneous tissue disorders                    5   \n",
       "\n",
       "              assessment  \n",
       "0  SYSTEMATIC_ASSESSMENT  \n",
       "1  SYSTEMATIC_ASSESSMENT  \n",
       "2  SYSTEMATIC_ASSESSMENT  \n",
       "3  SYSTEMATIC_ASSESSMENT  \n",
       "4  SYSTEMATIC_ASSESSMENT  "
      ]
     },
     "execution_count": 52,
     "metadata": {},
     "output_type": "execute_result"
    }
   ],
   "source": [
    "reported_events.head()"
   ]
  },
  {
   "cell_type": "code",
   "execution_count": 53,
   "id": "330773e7-0f8a-4c26-9b9b-741a6dd3e23f",
   "metadata": {
    "colab": {
     "base_uri": "https://localhost:8080/",
     "height": 335
    },
    "executionInfo": {
     "elapsed": 5,
     "status": "ok",
     "timestamp": 1737737481378,
     "user": {
      "displayName": "Medhansh Jain",
      "userId": "15789660724571206766"
     },
     "user_tz": -330
    },
    "id": "330773e7-0f8a-4c26-9b9b-741a6dd3e23f",
    "outputId": "9da4a9e0-5b0e-401d-ab5b-2d53c78e3ac9"
   },
   "outputs": [
    {
     "data": {
      "text/html": [
       "<div>\n",
       "<style scoped>\n",
       "    .dataframe tbody tr th:only-of-type {\n",
       "        vertical-align: middle;\n",
       "    }\n",
       "\n",
       "    .dataframe tbody tr th {\n",
       "        vertical-align: top;\n",
       "    }\n",
       "\n",
       "    .dataframe thead th {\n",
       "        text-align: right;\n",
       "    }\n",
       "</style>\n",
       "<table border=\"1\" class=\"dataframe\">\n",
       "  <thead>\n",
       "    <tr style=\"text-align: right;\">\n",
       "      <th></th>\n",
       "      <th>0</th>\n",
       "    </tr>\n",
       "  </thead>\n",
       "  <tbody>\n",
       "    <tr>\n",
       "      <th>nct_id</th>\n",
       "      <td>0</td>\n",
       "    </tr>\n",
       "    <tr>\n",
       "      <th>event_type</th>\n",
       "      <td>0</td>\n",
       "    </tr>\n",
       "    <tr>\n",
       "      <th>subjects_affected</th>\n",
       "      <td>71785</td>\n",
       "    </tr>\n",
       "    <tr>\n",
       "      <th>subjects_at_risk</th>\n",
       "      <td>0</td>\n",
       "    </tr>\n",
       "    <tr>\n",
       "      <th>event_count</th>\n",
       "      <td>5401070</td>\n",
       "    </tr>\n",
       "    <tr>\n",
       "      <th>organ_system</th>\n",
       "      <td>0</td>\n",
       "    </tr>\n",
       "    <tr>\n",
       "      <th>frequency_threshold</th>\n",
       "      <td>0</td>\n",
       "    </tr>\n",
       "    <tr>\n",
       "      <th>assessment</th>\n",
       "      <td>257320</td>\n",
       "    </tr>\n",
       "  </tbody>\n",
       "</table>\n",
       "</div><br><label><b>dtype:</b> int64</label>"
      ],
      "text/plain": [
       "nct_id                       0\n",
       "event_type                   0\n",
       "subjects_affected        71785\n",
       "subjects_at_risk             0\n",
       "event_count            5401070\n",
       "organ_system                 0\n",
       "frequency_threshold          0\n",
       "assessment              257320\n",
       "dtype: int64"
      ]
     },
     "execution_count": 53,
     "metadata": {},
     "output_type": "execute_result"
    }
   ],
   "source": [
    "# Check for missing values in the dataset\n",
    "reported_events.isnull().sum()"
   ]
  },
  {
   "cell_type": "code",
   "execution_count": 54,
   "id": "3410ae2d-4546-423d-841e-f78e846f34a1",
   "metadata": {
    "executionInfo": {
     "elapsed": 891,
     "status": "ok",
     "timestamp": 1737737484072,
     "user": {
      "displayName": "Medhansh Jain",
      "userId": "15789660724571206766"
     },
     "user_tz": -330
    },
    "id": "3410ae2d-4546-423d-841e-f78e846f34a1"
   },
   "outputs": [],
   "source": [
    "# Drop Rows with missing valuesr\n",
    "reported_events.dropna(inplace=True)"
   ]
  },
  {
   "cell_type": "code",
   "execution_count": 55,
   "id": "4d1438de-f6c4-4d20-b33e-384a693cc71c",
   "metadata": {
    "colab": {
     "base_uri": "https://localhost:8080/"
    },
    "executionInfo": {
     "elapsed": 8,
     "status": "ok",
     "timestamp": 1737737484072,
     "user": {
      "displayName": "Medhansh Jain",
      "userId": "15789660724571206766"
     },
     "user_tz": -330
    },
    "id": "4d1438de-f6c4-4d20-b33e-384a693cc71c",
    "outputId": "11268cab-afda-4617-8c0d-fc7007878674"
   },
   "outputs": [
    {
     "data": {
      "text/plain": [
       "(3770046, 8)"
      ]
     },
     "execution_count": 55,
     "metadata": {},
     "output_type": "execute_result"
    }
   ],
   "source": [
    "# Display the shape of the dataset to track changes\n",
    "reported_events.shape"
   ]
  },
  {
   "cell_type": "code",
   "execution_count": 56,
   "id": "34b32c2c-1e3e-402a-8313-847712070856",
   "metadata": {
    "colab": {
     "base_uri": "https://localhost:8080/",
     "height": 81
    },
    "executionInfo": {
     "elapsed": 7,
     "status": "ok",
     "timestamp": 1737737484072,
     "user": {
      "displayName": "Medhansh Jain",
      "userId": "15789660724571206766"
     },
     "user_tz": -330
    },
    "id": "34b32c2c-1e3e-402a-8313-847712070856",
    "outputId": "7b8ed6f9-a078-4cc9-9c4e-2ba3d6f21625"
   },
   "outputs": [
    {
     "data": {
      "application/vnd.google.colaboratory.intrinsic+json": {
       "type": "dataframe",
       "variable_name": "df"
      },
      "text/html": [
       "\n",
       "  <div id=\"df-144fa334-7486-4a9b-b192-fe8cffb4883e\" class=\"colab-df-container\">\n",
       "    <div>\n",
       "<style scoped>\n",
       "    .dataframe tbody tr th:only-of-type {\n",
       "        vertical-align: middle;\n",
       "    }\n",
       "\n",
       "    .dataframe tbody tr th {\n",
       "        vertical-align: top;\n",
       "    }\n",
       "\n",
       "    .dataframe thead th {\n",
       "        text-align: right;\n",
       "    }\n",
       "</style>\n",
       "<table border=\"1\" class=\"dataframe\">\n",
       "  <thead>\n",
       "    <tr style=\"text-align: right;\">\n",
       "      <th></th>\n",
       "      <th>NCT Number</th>\n",
       "      <th>Study Status</th>\n",
       "      <th>Study Results</th>\n",
       "      <th>Sex</th>\n",
       "      <th>Age</th>\n",
       "      <th>Enrollment</th>\n",
       "      <th>Funder Type</th>\n",
       "      <th>Study Type</th>\n",
       "    </tr>\n",
       "  </thead>\n",
       "  <tbody>\n",
       "    <tr>\n",
       "      <th>0</th>\n",
       "      <td>NCT00559130</td>\n",
       "      <td>COMPLETED</td>\n",
       "      <td>NO</td>\n",
       "      <td>ALL</td>\n",
       "      <td>ADULT, OLDER_ADULT</td>\n",
       "      <td>100.0</td>\n",
       "      <td>INDUSTRY</td>\n",
       "      <td>INTERVENTIONAL</td>\n",
       "    </tr>\n",
       "  </tbody>\n",
       "</table>\n",
       "</div>\n",
       "    <div class=\"colab-df-buttons\">\n",
       "\n",
       "  <div class=\"colab-df-container\">\n",
       "    <button class=\"colab-df-convert\" onclick=\"convertToInteractive('df-144fa334-7486-4a9b-b192-fe8cffb4883e')\"\n",
       "            title=\"Convert this dataframe to an interactive table.\"\n",
       "            style=\"display:none;\">\n",
       "\n",
       "  <svg xmlns=\"http://www.w3.org/2000/svg\" height=\"24px\" viewBox=\"0 -960 960 960\">\n",
       "    <path d=\"M120-120v-720h720v720H120Zm60-500h600v-160H180v160Zm220 220h160v-160H400v160Zm0 220h160v-160H400v160ZM180-400h160v-160H180v160Zm440 0h160v-160H620v160ZM180-180h160v-160H180v160Zm440 0h160v-160H620v160Z\"/>\n",
       "  </svg>\n",
       "    </button>\n",
       "\n",
       "  <style>\n",
       "    .colab-df-container {\n",
       "      display:flex;\n",
       "      gap: 12px;\n",
       "    }\n",
       "\n",
       "    .colab-df-convert {\n",
       "      background-color: #E8F0FE;\n",
       "      border: none;\n",
       "      border-radius: 50%;\n",
       "      cursor: pointer;\n",
       "      display: none;\n",
       "      fill: #1967D2;\n",
       "      height: 32px;\n",
       "      padding: 0 0 0 0;\n",
       "      width: 32px;\n",
       "    }\n",
       "\n",
       "    .colab-df-convert:hover {\n",
       "      background-color: #E2EBFA;\n",
       "      box-shadow: 0px 1px 2px rgba(60, 64, 67, 0.3), 0px 1px 3px 1px rgba(60, 64, 67, 0.15);\n",
       "      fill: #174EA6;\n",
       "    }\n",
       "\n",
       "    .colab-df-buttons div {\n",
       "      margin-bottom: 4px;\n",
       "    }\n",
       "\n",
       "    [theme=dark] .colab-df-convert {\n",
       "      background-color: #3B4455;\n",
       "      fill: #D2E3FC;\n",
       "    }\n",
       "\n",
       "    [theme=dark] .colab-df-convert:hover {\n",
       "      background-color: #434B5C;\n",
       "      box-shadow: 0px 1px 3px 1px rgba(0, 0, 0, 0.15);\n",
       "      filter: drop-shadow(0px 1px 2px rgba(0, 0, 0, 0.3));\n",
       "      fill: #FFFFFF;\n",
       "    }\n",
       "  </style>\n",
       "\n",
       "    <script>\n",
       "      const buttonEl =\n",
       "        document.querySelector('#df-144fa334-7486-4a9b-b192-fe8cffb4883e button.colab-df-convert');\n",
       "      buttonEl.style.display =\n",
       "        google.colab.kernel.accessAllowed ? 'block' : 'none';\n",
       "\n",
       "      async function convertToInteractive(key) {\n",
       "        const element = document.querySelector('#df-144fa334-7486-4a9b-b192-fe8cffb4883e');\n",
       "        const dataTable =\n",
       "          await google.colab.kernel.invokeFunction('convertToInteractive',\n",
       "                                                    [key], {});\n",
       "        if (!dataTable) return;\n",
       "\n",
       "        const docLinkHtml = 'Like what you see? Visit the ' +\n",
       "          '<a target=\"_blank\" href=https://colab.research.google.com/notebooks/data_table.ipynb>data table notebook</a>'\n",
       "          + ' to learn more about interactive tables.';\n",
       "        element.innerHTML = '';\n",
       "        dataTable['output_type'] = 'display_data';\n",
       "        await google.colab.output.renderOutput(dataTable, element);\n",
       "        const docLink = document.createElement('div');\n",
       "        docLink.innerHTML = docLinkHtml;\n",
       "        element.appendChild(docLink);\n",
       "      }\n",
       "    </script>\n",
       "  </div>\n",
       "\n",
       "\n",
       "    </div>\n",
       "  </div>\n"
      ],
      "text/plain": [
       "    NCT Number Study Status Study Results  Sex                 Age  \\\n",
       "0  NCT00559130    COMPLETED            NO  ALL  ADULT, OLDER_ADULT   \n",
       "\n",
       "   Enrollment Funder Type      Study Type  \n",
       "0       100.0    INDUSTRY  INTERVENTIONAL  "
      ]
     },
     "execution_count": 56,
     "metadata": {},
     "output_type": "execute_result"
    }
   ],
   "source": [
    "df.head(1)"
   ]
  },
  {
   "cell_type": "code",
   "execution_count": 57,
   "id": "-f87T9DhKLh0",
   "metadata": {
    "colab": {
     "base_uri": "https://localhost:8080/",
     "height": 241
    },
    "executionInfo": {
     "elapsed": 7,
     "status": "ok",
     "timestamp": 1737737484072,
     "user": {
      "displayName": "Medhansh Jain",
      "userId": "15789660724571206766"
     },
     "user_tz": -330
    },
    "id": "-f87T9DhKLh0",
    "outputId": "b6fcbc3b-fb51-4494-d43e-f705e0eca4eb"
   },
   "outputs": [
    {
     "data": {
      "text/html": [
       "<div>\n",
       "<style scoped>\n",
       "    .dataframe tbody tr th:only-of-type {\n",
       "        vertical-align: middle;\n",
       "    }\n",
       "\n",
       "    .dataframe tbody tr th {\n",
       "        vertical-align: top;\n",
       "    }\n",
       "\n",
       "    .dataframe thead th {\n",
       "        text-align: right;\n",
       "    }\n",
       "</style>\n",
       "<table border=\"1\" class=\"dataframe\">\n",
       "  <thead>\n",
       "    <tr style=\"text-align: right;\">\n",
       "      <th></th>\n",
       "      <th>count</th>\n",
       "    </tr>\n",
       "    <tr>\n",
       "      <th>Study Status</th>\n",
       "      <th></th>\n",
       "    </tr>\n",
       "  </thead>\n",
       "  <tbody>\n",
       "    <tr>\n",
       "      <th>COMPLETED</th>\n",
       "      <td>217871</td>\n",
       "    </tr>\n",
       "    <tr>\n",
       "      <th>TERMINATED</th>\n",
       "      <td>23291</td>\n",
       "    </tr>\n",
       "    <tr>\n",
       "      <th>WITHDRAWN</th>\n",
       "      <td>11493</td>\n",
       "    </tr>\n",
       "    <tr>\n",
       "      <th>SUSPENDED</th>\n",
       "      <td>1316</td>\n",
       "    </tr>\n",
       "  </tbody>\n",
       "</table>\n",
       "</div><br><label><b>dtype:</b> int64</label>"
      ],
      "text/plain": [
       "Study Status\n",
       "COMPLETED     217871\n",
       "TERMINATED     23291\n",
       "WITHDRAWN      11493\n",
       "SUSPENDED       1316\n",
       "Name: count, dtype: int64"
      ]
     },
     "execution_count": 57,
     "metadata": {},
     "output_type": "execute_result"
    }
   ],
   "source": [
    "df['Study Status'].value_counts()"
   ]
  },
  {
   "cell_type": "code",
   "execution_count": 58,
   "id": "bfa43374-f2e7-49b3-a845-9edcd8140389",
   "metadata": {
    "colab": {
     "base_uri": "https://localhost:8080/",
     "height": 81
    },
    "executionInfo": {
     "elapsed": 6,
     "status": "ok",
     "timestamp": 1737737484072,
     "user": {
      "displayName": "Medhansh Jain",
      "userId": "15789660724571206766"
     },
     "user_tz": -330
    },
    "id": "bfa43374-f2e7-49b3-a845-9edcd8140389",
    "outputId": "73f38d55-4089-4f4a-d42f-23ed52487a4c"
   },
   "outputs": [
    {
     "data": {
      "application/vnd.google.colaboratory.intrinsic+json": {
       "type": "dataframe",
       "variable_name": "facilities"
      },
      "text/html": [
       "\n",
       "  <div id=\"df-04c01375-3aca-4ac3-ad1d-0b68dcb67219\" class=\"colab-df-container\">\n",
       "    <div>\n",
       "<style scoped>\n",
       "    .dataframe tbody tr th:only-of-type {\n",
       "        vertical-align: middle;\n",
       "    }\n",
       "\n",
       "    .dataframe tbody tr th {\n",
       "        vertical-align: top;\n",
       "    }\n",
       "\n",
       "    .dataframe thead th {\n",
       "        text-align: right;\n",
       "    }\n",
       "</style>\n",
       "<table border=\"1\" class=\"dataframe\">\n",
       "  <thead>\n",
       "    <tr style=\"text-align: right;\">\n",
       "      <th></th>\n",
       "      <th>nct_id</th>\n",
       "      <th>status</th>\n",
       "    </tr>\n",
       "  </thead>\n",
       "  <tbody>\n",
       "    <tr>\n",
       "      <th>0</th>\n",
       "      <td>NCT02696421</td>\n",
       "      <td>RECRUITING</td>\n",
       "    </tr>\n",
       "  </tbody>\n",
       "</table>\n",
       "</div>\n",
       "    <div class=\"colab-df-buttons\">\n",
       "\n",
       "  <div class=\"colab-df-container\">\n",
       "    <button class=\"colab-df-convert\" onclick=\"convertToInteractive('df-04c01375-3aca-4ac3-ad1d-0b68dcb67219')\"\n",
       "            title=\"Convert this dataframe to an interactive table.\"\n",
       "            style=\"display:none;\">\n",
       "\n",
       "  <svg xmlns=\"http://www.w3.org/2000/svg\" height=\"24px\" viewBox=\"0 -960 960 960\">\n",
       "    <path d=\"M120-120v-720h720v720H120Zm60-500h600v-160H180v160Zm220 220h160v-160H400v160Zm0 220h160v-160H400v160ZM180-400h160v-160H180v160Zm440 0h160v-160H620v160ZM180-180h160v-160H180v160Zm440 0h160v-160H620v160Z\"/>\n",
       "  </svg>\n",
       "    </button>\n",
       "\n",
       "  <style>\n",
       "    .colab-df-container {\n",
       "      display:flex;\n",
       "      gap: 12px;\n",
       "    }\n",
       "\n",
       "    .colab-df-convert {\n",
       "      background-color: #E8F0FE;\n",
       "      border: none;\n",
       "      border-radius: 50%;\n",
       "      cursor: pointer;\n",
       "      display: none;\n",
       "      fill: #1967D2;\n",
       "      height: 32px;\n",
       "      padding: 0 0 0 0;\n",
       "      width: 32px;\n",
       "    }\n",
       "\n",
       "    .colab-df-convert:hover {\n",
       "      background-color: #E2EBFA;\n",
       "      box-shadow: 0px 1px 2px rgba(60, 64, 67, 0.3), 0px 1px 3px 1px rgba(60, 64, 67, 0.15);\n",
       "      fill: #174EA6;\n",
       "    }\n",
       "\n",
       "    .colab-df-buttons div {\n",
       "      margin-bottom: 4px;\n",
       "    }\n",
       "\n",
       "    [theme=dark] .colab-df-convert {\n",
       "      background-color: #3B4455;\n",
       "      fill: #D2E3FC;\n",
       "    }\n",
       "\n",
       "    [theme=dark] .colab-df-convert:hover {\n",
       "      background-color: #434B5C;\n",
       "      box-shadow: 0px 1px 3px 1px rgba(0, 0, 0, 0.15);\n",
       "      filter: drop-shadow(0px 1px 2px rgba(0, 0, 0, 0.3));\n",
       "      fill: #FFFFFF;\n",
       "    }\n",
       "  </style>\n",
       "\n",
       "    <script>\n",
       "      const buttonEl =\n",
       "        document.querySelector('#df-04c01375-3aca-4ac3-ad1d-0b68dcb67219 button.colab-df-convert');\n",
       "      buttonEl.style.display =\n",
       "        google.colab.kernel.accessAllowed ? 'block' : 'none';\n",
       "\n",
       "      async function convertToInteractive(key) {\n",
       "        const element = document.querySelector('#df-04c01375-3aca-4ac3-ad1d-0b68dcb67219');\n",
       "        const dataTable =\n",
       "          await google.colab.kernel.invokeFunction('convertToInteractive',\n",
       "                                                    [key], {});\n",
       "        if (!dataTable) return;\n",
       "\n",
       "        const docLinkHtml = 'Like what you see? Visit the ' +\n",
       "          '<a target=\"_blank\" href=https://colab.research.google.com/notebooks/data_table.ipynb>data table notebook</a>'\n",
       "          + ' to learn more about interactive tables.';\n",
       "        element.innerHTML = '';\n",
       "        dataTable['output_type'] = 'display_data';\n",
       "        await google.colab.output.renderOutput(dataTable, element);\n",
       "        const docLink = document.createElement('div');\n",
       "        docLink.innerHTML = docLinkHtml;\n",
       "        element.appendChild(docLink);\n",
       "      }\n",
       "    </script>\n",
       "  </div>\n",
       "\n",
       "\n",
       "    </div>\n",
       "  </div>\n"
      ],
      "text/plain": [
       "        nct_id      status\n",
       "0  NCT02696421  RECRUITING"
      ]
     },
     "execution_count": 58,
     "metadata": {},
     "output_type": "execute_result"
    }
   ],
   "source": [
    "facilities.head(1)"
   ]
  },
  {
   "cell_type": "code",
   "execution_count": 59,
   "id": "a1d4c149-0f1f-4ba9-a33b-0f427d0efffc",
   "metadata": {
    "colab": {
     "base_uri": "https://localhost:8080/",
     "height": 118
    },
    "executionInfo": {
     "elapsed": 6,
     "status": "ok",
     "timestamp": 1737737484072,
     "user": {
      "displayName": "Medhansh Jain",
      "userId": "15789660724571206766"
     },
     "user_tz": -330
    },
    "id": "a1d4c149-0f1f-4ba9-a33b-0f427d0efffc",
    "outputId": "ba61b29d-e695-403d-f332-f00f93f033a4"
   },
   "outputs": [
    {
     "data": {
      "application/vnd.google.colaboratory.intrinsic+json": {
       "type": "dataframe",
       "variable_name": "reported_events"
      },
      "text/html": [
       "\n",
       "  <div id=\"df-595172f1-6b42-4700-b483-69fd255ce4da\" class=\"colab-df-container\">\n",
       "    <div>\n",
       "<style scoped>\n",
       "    .dataframe tbody tr th:only-of-type {\n",
       "        vertical-align: middle;\n",
       "    }\n",
       "\n",
       "    .dataframe tbody tr th {\n",
       "        vertical-align: top;\n",
       "    }\n",
       "\n",
       "    .dataframe thead th {\n",
       "        text-align: right;\n",
       "    }\n",
       "</style>\n",
       "<table border=\"1\" class=\"dataframe\">\n",
       "  <thead>\n",
       "    <tr style=\"text-align: right;\">\n",
       "      <th></th>\n",
       "      <th>nct_id</th>\n",
       "      <th>event_type</th>\n",
       "      <th>subjects_affected</th>\n",
       "      <th>subjects_at_risk</th>\n",
       "      <th>event_count</th>\n",
       "      <th>organ_system</th>\n",
       "      <th>frequency_threshold</th>\n",
       "      <th>assessment</th>\n",
       "    </tr>\n",
       "  </thead>\n",
       "  <tbody>\n",
       "    <tr>\n",
       "      <th>0</th>\n",
       "      <td>NCT03978520</td>\n",
       "      <td>other</td>\n",
       "      <td>4.0</td>\n",
       "      <td>62</td>\n",
       "      <td>4.0</td>\n",
       "      <td>Psychiatric disorders</td>\n",
       "      <td>5</td>\n",
       "      <td>SYSTEMATIC_ASSESSMENT</td>\n",
       "    </tr>\n",
       "  </tbody>\n",
       "</table>\n",
       "</div>\n",
       "    <div class=\"colab-df-buttons\">\n",
       "\n",
       "  <div class=\"colab-df-container\">\n",
       "    <button class=\"colab-df-convert\" onclick=\"convertToInteractive('df-595172f1-6b42-4700-b483-69fd255ce4da')\"\n",
       "            title=\"Convert this dataframe to an interactive table.\"\n",
       "            style=\"display:none;\">\n",
       "\n",
       "  <svg xmlns=\"http://www.w3.org/2000/svg\" height=\"24px\" viewBox=\"0 -960 960 960\">\n",
       "    <path d=\"M120-120v-720h720v720H120Zm60-500h600v-160H180v160Zm220 220h160v-160H400v160Zm0 220h160v-160H400v160ZM180-400h160v-160H180v160Zm440 0h160v-160H620v160ZM180-180h160v-160H180v160Zm440 0h160v-160H620v160Z\"/>\n",
       "  </svg>\n",
       "    </button>\n",
       "\n",
       "  <style>\n",
       "    .colab-df-container {\n",
       "      display:flex;\n",
       "      gap: 12px;\n",
       "    }\n",
       "\n",
       "    .colab-df-convert {\n",
       "      background-color: #E8F0FE;\n",
       "      border: none;\n",
       "      border-radius: 50%;\n",
       "      cursor: pointer;\n",
       "      display: none;\n",
       "      fill: #1967D2;\n",
       "      height: 32px;\n",
       "      padding: 0 0 0 0;\n",
       "      width: 32px;\n",
       "    }\n",
       "\n",
       "    .colab-df-convert:hover {\n",
       "      background-color: #E2EBFA;\n",
       "      box-shadow: 0px 1px 2px rgba(60, 64, 67, 0.3), 0px 1px 3px 1px rgba(60, 64, 67, 0.15);\n",
       "      fill: #174EA6;\n",
       "    }\n",
       "\n",
       "    .colab-df-buttons div {\n",
       "      margin-bottom: 4px;\n",
       "    }\n",
       "\n",
       "    [theme=dark] .colab-df-convert {\n",
       "      background-color: #3B4455;\n",
       "      fill: #D2E3FC;\n",
       "    }\n",
       "\n",
       "    [theme=dark] .colab-df-convert:hover {\n",
       "      background-color: #434B5C;\n",
       "      box-shadow: 0px 1px 3px 1px rgba(0, 0, 0, 0.15);\n",
       "      filter: drop-shadow(0px 1px 2px rgba(0, 0, 0, 0.3));\n",
       "      fill: #FFFFFF;\n",
       "    }\n",
       "  </style>\n",
       "\n",
       "    <script>\n",
       "      const buttonEl =\n",
       "        document.querySelector('#df-595172f1-6b42-4700-b483-69fd255ce4da button.colab-df-convert');\n",
       "      buttonEl.style.display =\n",
       "        google.colab.kernel.accessAllowed ? 'block' : 'none';\n",
       "\n",
       "      async function convertToInteractive(key) {\n",
       "        const element = document.querySelector('#df-595172f1-6b42-4700-b483-69fd255ce4da');\n",
       "        const dataTable =\n",
       "          await google.colab.kernel.invokeFunction('convertToInteractive',\n",
       "                                                    [key], {});\n",
       "        if (!dataTable) return;\n",
       "\n",
       "        const docLinkHtml = 'Like what you see? Visit the ' +\n",
       "          '<a target=\"_blank\" href=https://colab.research.google.com/notebooks/data_table.ipynb>data table notebook</a>'\n",
       "          + ' to learn more about interactive tables.';\n",
       "        element.innerHTML = '';\n",
       "        dataTable['output_type'] = 'display_data';\n",
       "        await google.colab.output.renderOutput(dataTable, element);\n",
       "        const docLink = document.createElement('div');\n",
       "        docLink.innerHTML = docLinkHtml;\n",
       "        element.appendChild(docLink);\n",
       "      }\n",
       "    </script>\n",
       "  </div>\n",
       "\n",
       "\n",
       "    </div>\n",
       "  </div>\n"
      ],
      "text/plain": [
       "        nct_id event_type  subjects_affected  subjects_at_risk  event_count  \\\n",
       "0  NCT03978520      other                4.0                62          4.0   \n",
       "\n",
       "            organ_system  frequency_threshold             assessment  \n",
       "0  Psychiatric disorders                    5  SYSTEMATIC_ASSESSMENT  "
      ]
     },
     "execution_count": 59,
     "metadata": {},
     "output_type": "execute_result"
    }
   ],
   "source": [
    "reported_events.head(1)"
   ]
  },
  {
   "cell_type": "code",
   "execution_count": 60,
   "id": "419ff4c6-9e47-4ca9-a1cf-cb9a5c5e7693",
   "metadata": {
    "colab": {
     "base_uri": "https://localhost:8080/",
     "height": 81
    },
    "executionInfo": {
     "elapsed": 6,
     "status": "ok",
     "timestamp": 1737737484072,
     "user": {
      "displayName": "Medhansh Jain",
      "userId": "15789660724571206766"
     },
     "user_tz": -330
    },
    "id": "419ff4c6-9e47-4ca9-a1cf-cb9a5c5e7693",
    "outputId": "7a9695bd-3357-4517-9d0e-ab95d8035851"
   },
   "outputs": [
    {
     "data": {
      "application/vnd.google.colaboratory.intrinsic+json": {
       "type": "dataframe",
       "variable_name": "eligibilities"
      },
      "text/html": [
       "\n",
       "  <div id=\"df-3fc23556-d882-4555-8dee-e9dab8c45268\" class=\"colab-df-container\">\n",
       "    <div>\n",
       "<style scoped>\n",
       "    .dataframe tbody tr th:only-of-type {\n",
       "        vertical-align: middle;\n",
       "    }\n",
       "\n",
       "    .dataframe tbody tr th {\n",
       "        vertical-align: top;\n",
       "    }\n",
       "\n",
       "    .dataframe thead th {\n",
       "        text-align: right;\n",
       "    }\n",
       "</style>\n",
       "<table border=\"1\" class=\"dataframe\">\n",
       "  <thead>\n",
       "    <tr style=\"text-align: right;\">\n",
       "      <th></th>\n",
       "      <th>nct_id</th>\n",
       "      <th>gender</th>\n",
       "      <th>healthy_volunteers</th>\n",
       "      <th>adult</th>\n",
       "      <th>child</th>\n",
       "      <th>older_adult</th>\n",
       "    </tr>\n",
       "  </thead>\n",
       "  <tbody>\n",
       "    <tr>\n",
       "      <th>0</th>\n",
       "      <td>NCT05050916</td>\n",
       "      <td>FEMALE</td>\n",
       "      <td>f</td>\n",
       "      <td>t</td>\n",
       "      <td>f</td>\n",
       "      <td>f</td>\n",
       "    </tr>\n",
       "  </tbody>\n",
       "</table>\n",
       "</div>\n",
       "    <div class=\"colab-df-buttons\">\n",
       "\n",
       "  <div class=\"colab-df-container\">\n",
       "    <button class=\"colab-df-convert\" onclick=\"convertToInteractive('df-3fc23556-d882-4555-8dee-e9dab8c45268')\"\n",
       "            title=\"Convert this dataframe to an interactive table.\"\n",
       "            style=\"display:none;\">\n",
       "\n",
       "  <svg xmlns=\"http://www.w3.org/2000/svg\" height=\"24px\" viewBox=\"0 -960 960 960\">\n",
       "    <path d=\"M120-120v-720h720v720H120Zm60-500h600v-160H180v160Zm220 220h160v-160H400v160Zm0 220h160v-160H400v160ZM180-400h160v-160H180v160Zm440 0h160v-160H620v160ZM180-180h160v-160H180v160Zm440 0h160v-160H620v160Z\"/>\n",
       "  </svg>\n",
       "    </button>\n",
       "\n",
       "  <style>\n",
       "    .colab-df-container {\n",
       "      display:flex;\n",
       "      gap: 12px;\n",
       "    }\n",
       "\n",
       "    .colab-df-convert {\n",
       "      background-color: #E8F0FE;\n",
       "      border: none;\n",
       "      border-radius: 50%;\n",
       "      cursor: pointer;\n",
       "      display: none;\n",
       "      fill: #1967D2;\n",
       "      height: 32px;\n",
       "      padding: 0 0 0 0;\n",
       "      width: 32px;\n",
       "    }\n",
       "\n",
       "    .colab-df-convert:hover {\n",
       "      background-color: #E2EBFA;\n",
       "      box-shadow: 0px 1px 2px rgba(60, 64, 67, 0.3), 0px 1px 3px 1px rgba(60, 64, 67, 0.15);\n",
       "      fill: #174EA6;\n",
       "    }\n",
       "\n",
       "    .colab-df-buttons div {\n",
       "      margin-bottom: 4px;\n",
       "    }\n",
       "\n",
       "    [theme=dark] .colab-df-convert {\n",
       "      background-color: #3B4455;\n",
       "      fill: #D2E3FC;\n",
       "    }\n",
       "\n",
       "    [theme=dark] .colab-df-convert:hover {\n",
       "      background-color: #434B5C;\n",
       "      box-shadow: 0px 1px 3px 1px rgba(0, 0, 0, 0.15);\n",
       "      filter: drop-shadow(0px 1px 2px rgba(0, 0, 0, 0.3));\n",
       "      fill: #FFFFFF;\n",
       "    }\n",
       "  </style>\n",
       "\n",
       "    <script>\n",
       "      const buttonEl =\n",
       "        document.querySelector('#df-3fc23556-d882-4555-8dee-e9dab8c45268 button.colab-df-convert');\n",
       "      buttonEl.style.display =\n",
       "        google.colab.kernel.accessAllowed ? 'block' : 'none';\n",
       "\n",
       "      async function convertToInteractive(key) {\n",
       "        const element = document.querySelector('#df-3fc23556-d882-4555-8dee-e9dab8c45268');\n",
       "        const dataTable =\n",
       "          await google.colab.kernel.invokeFunction('convertToInteractive',\n",
       "                                                    [key], {});\n",
       "        if (!dataTable) return;\n",
       "\n",
       "        const docLinkHtml = 'Like what you see? Visit the ' +\n",
       "          '<a target=\"_blank\" href=https://colab.research.google.com/notebooks/data_table.ipynb>data table notebook</a>'\n",
       "          + ' to learn more about interactive tables.';\n",
       "        element.innerHTML = '';\n",
       "        dataTable['output_type'] = 'display_data';\n",
       "        await google.colab.output.renderOutput(dataTable, element);\n",
       "        const docLink = document.createElement('div');\n",
       "        docLink.innerHTML = docLinkHtml;\n",
       "        element.appendChild(docLink);\n",
       "      }\n",
       "    </script>\n",
       "  </div>\n",
       "\n",
       "\n",
       "    </div>\n",
       "  </div>\n"
      ],
      "text/plain": [
       "        nct_id  gender healthy_volunteers adult child older_adult\n",
       "0  NCT05050916  FEMALE                  f     t     f           f"
      ]
     },
     "execution_count": 60,
     "metadata": {},
     "output_type": "execute_result"
    }
   ],
   "source": [
    "eligibilities.head(1)"
   ]
  },
  {
   "cell_type": "code",
   "execution_count": 61,
   "id": "eba21832-8957-4fe3-a2d5-e910a933e308",
   "metadata": {
    "colab": {
     "base_uri": "https://localhost:8080/",
     "height": 81
    },
    "executionInfo": {
     "elapsed": 5,
     "status": "ok",
     "timestamp": 1737737484072,
     "user": {
      "displayName": "Medhansh Jain",
      "userId": "15789660724571206766"
     },
     "user_tz": -330
    },
    "id": "eba21832-8957-4fe3-a2d5-e910a933e308",
    "outputId": "ccd5736b-b5e7-444c-8d90-9b34a4d9bda4"
   },
   "outputs": [
    {
     "data": {
      "application/vnd.google.colaboratory.intrinsic+json": {
       "type": "dataframe",
       "variable_name": "drop_withdrawals"
      },
      "text/html": [
       "\n",
       "  <div id=\"df-f1a6653c-5838-455c-b638-6e93e419c26b\" class=\"colab-df-container\">\n",
       "    <div>\n",
       "<style scoped>\n",
       "    .dataframe tbody tr th:only-of-type {\n",
       "        vertical-align: middle;\n",
       "    }\n",
       "\n",
       "    .dataframe tbody tr th {\n",
       "        vertical-align: top;\n",
       "    }\n",
       "\n",
       "    .dataframe thead th {\n",
       "        text-align: right;\n",
       "    }\n",
       "</style>\n",
       "<table border=\"1\" class=\"dataframe\">\n",
       "  <thead>\n",
       "    <tr style=\"text-align: right;\">\n",
       "      <th></th>\n",
       "      <th>nct_id</th>\n",
       "      <th>count</th>\n",
       "    </tr>\n",
       "  </thead>\n",
       "  <tbody>\n",
       "    <tr>\n",
       "      <th>0</th>\n",
       "      <td>NCT00827372</td>\n",
       "      <td>5</td>\n",
       "    </tr>\n",
       "  </tbody>\n",
       "</table>\n",
       "</div>\n",
       "    <div class=\"colab-df-buttons\">\n",
       "\n",
       "  <div class=\"colab-df-container\">\n",
       "    <button class=\"colab-df-convert\" onclick=\"convertToInteractive('df-f1a6653c-5838-455c-b638-6e93e419c26b')\"\n",
       "            title=\"Convert this dataframe to an interactive table.\"\n",
       "            style=\"display:none;\">\n",
       "\n",
       "  <svg xmlns=\"http://www.w3.org/2000/svg\" height=\"24px\" viewBox=\"0 -960 960 960\">\n",
       "    <path d=\"M120-120v-720h720v720H120Zm60-500h600v-160H180v160Zm220 220h160v-160H400v160Zm0 220h160v-160H400v160ZM180-400h160v-160H180v160Zm440 0h160v-160H620v160ZM180-180h160v-160H180v160Zm440 0h160v-160H620v160Z\"/>\n",
       "  </svg>\n",
       "    </button>\n",
       "\n",
       "  <style>\n",
       "    .colab-df-container {\n",
       "      display:flex;\n",
       "      gap: 12px;\n",
       "    }\n",
       "\n",
       "    .colab-df-convert {\n",
       "      background-color: #E8F0FE;\n",
       "      border: none;\n",
       "      border-radius: 50%;\n",
       "      cursor: pointer;\n",
       "      display: none;\n",
       "      fill: #1967D2;\n",
       "      height: 32px;\n",
       "      padding: 0 0 0 0;\n",
       "      width: 32px;\n",
       "    }\n",
       "\n",
       "    .colab-df-convert:hover {\n",
       "      background-color: #E2EBFA;\n",
       "      box-shadow: 0px 1px 2px rgba(60, 64, 67, 0.3), 0px 1px 3px 1px rgba(60, 64, 67, 0.15);\n",
       "      fill: #174EA6;\n",
       "    }\n",
       "\n",
       "    .colab-df-buttons div {\n",
       "      margin-bottom: 4px;\n",
       "    }\n",
       "\n",
       "    [theme=dark] .colab-df-convert {\n",
       "      background-color: #3B4455;\n",
       "      fill: #D2E3FC;\n",
       "    }\n",
       "\n",
       "    [theme=dark] .colab-df-convert:hover {\n",
       "      background-color: #434B5C;\n",
       "      box-shadow: 0px 1px 3px 1px rgba(0, 0, 0, 0.15);\n",
       "      filter: drop-shadow(0px 1px 2px rgba(0, 0, 0, 0.3));\n",
       "      fill: #FFFFFF;\n",
       "    }\n",
       "  </style>\n",
       "\n",
       "    <script>\n",
       "      const buttonEl =\n",
       "        document.querySelector('#df-f1a6653c-5838-455c-b638-6e93e419c26b button.colab-df-convert');\n",
       "      buttonEl.style.display =\n",
       "        google.colab.kernel.accessAllowed ? 'block' : 'none';\n",
       "\n",
       "      async function convertToInteractive(key) {\n",
       "        const element = document.querySelector('#df-f1a6653c-5838-455c-b638-6e93e419c26b');\n",
       "        const dataTable =\n",
       "          await google.colab.kernel.invokeFunction('convertToInteractive',\n",
       "                                                    [key], {});\n",
       "        if (!dataTable) return;\n",
       "\n",
       "        const docLinkHtml = 'Like what you see? Visit the ' +\n",
       "          '<a target=\"_blank\" href=https://colab.research.google.com/notebooks/data_table.ipynb>data table notebook</a>'\n",
       "          + ' to learn more about interactive tables.';\n",
       "        element.innerHTML = '';\n",
       "        dataTable['output_type'] = 'display_data';\n",
       "        await google.colab.output.renderOutput(dataTable, element);\n",
       "        const docLink = document.createElement('div');\n",
       "        docLink.innerHTML = docLinkHtml;\n",
       "        element.appendChild(docLink);\n",
       "      }\n",
       "    </script>\n",
       "  </div>\n",
       "\n",
       "\n",
       "    </div>\n",
       "  </div>\n"
      ],
      "text/plain": [
       "        nct_id  count\n",
       "0  NCT00827372      5"
      ]
     },
     "execution_count": 61,
     "metadata": {},
     "output_type": "execute_result"
    }
   ],
   "source": [
    "drop_withdrawals.head(1)"
   ]
  },
  {
   "cell_type": "markdown",
   "id": "7fe73bf3-58d9-4d07-87d6-a6837440acd2",
   "metadata": {
    "id": "7fe73bf3-58d9-4d07-87d6-a6837440acd2"
   },
   "source": [
    "## **Merging Multiple Datasets**\n",
    "---\n",
    "- Combining data from multiple sources is essential for creating a comprehensive dataset.\n",
    "- This step merges datasets using keys or common fields while ensuring alignment and avoiding duplication or mismatched records.\n",
    "- Methods like inner, outer, left, and right joins are utilized."
   ]
  },
  {
   "cell_type": "code",
   "execution_count": 62,
   "id": "86387a4d-40b8-4973-99a3-bbe300a3b7d6",
   "metadata": {
    "executionInfo": {
     "elapsed": 471,
     "status": "ok",
     "timestamp": 1737737484538,
     "user": {
      "displayName": "Medhansh Jain",
      "userId": "15789660724571206766"
     },
     "user_tz": -330
    },
    "id": "86387a4d-40b8-4973-99a3-bbe300a3b7d6"
   },
   "outputs": [],
   "source": [
    "# Merge datasets to combine relevant information\n",
    "df_merged1 = df.merge(drop_withdrawals, how='left', left_on='NCT Number', right_on='nct_id')"
   ]
  },
  {
   "cell_type": "code",
   "execution_count": 63,
   "id": "04a77b9c-810c-4963-b236-278a47c7c228",
   "metadata": {
    "colab": {
     "base_uri": "https://localhost:8080/"
    },
    "executionInfo": {
     "elapsed": 4,
     "status": "ok",
     "timestamp": 1737737484538,
     "user": {
      "displayName": "Medhansh Jain",
      "userId": "15789660724571206766"
     },
     "user_tz": -330
    },
    "id": "04a77b9c-810c-4963-b236-278a47c7c228",
    "outputId": "e88a6f7f-8789-4beb-ba54-799b87ac60ff"
   },
   "outputs": [
    {
     "data": {
      "text/plain": [
       "(604312, 10)"
      ]
     },
     "execution_count": 63,
     "metadata": {},
     "output_type": "execute_result"
    }
   ],
   "source": [
    "# Display the shape of the dataset to track changes\n",
    "df_merged1.shape"
   ]
  },
  {
   "cell_type": "code",
   "execution_count": 64,
   "id": "3468b9c6-f7f0-497c-9b52-9b133f6ad708",
   "metadata": {
    "colab": {
     "base_uri": "https://localhost:8080/",
     "height": 458
    },
    "executionInfo": {
     "elapsed": 3,
     "status": "ok",
     "timestamp": 1737737484538,
     "user": {
      "displayName": "Medhansh Jain",
      "userId": "15789660724571206766"
     },
     "user_tz": -330
    },
    "id": "3468b9c6-f7f0-497c-9b52-9b133f6ad708",
    "outputId": "61ccfe43-530d-4fdd-ef1e-53f68f4b4a57",
    "scrolled": true
   },
   "outputs": [
    {
     "data": {
      "application/vnd.google.colaboratory.intrinsic+json": {
       "type": "dataframe",
       "variable_name": "df_merged1"
      },
      "text/html": [
       "\n",
       "  <div id=\"df-4b9fbb83-201a-438b-9232-31383fae4d13\" class=\"colab-df-container\">\n",
       "    <div>\n",
       "<style scoped>\n",
       "    .dataframe tbody tr th:only-of-type {\n",
       "        vertical-align: middle;\n",
       "    }\n",
       "\n",
       "    .dataframe tbody tr th {\n",
       "        vertical-align: top;\n",
       "    }\n",
       "\n",
       "    .dataframe thead th {\n",
       "        text-align: right;\n",
       "    }\n",
       "</style>\n",
       "<table border=\"1\" class=\"dataframe\">\n",
       "  <thead>\n",
       "    <tr style=\"text-align: right;\">\n",
       "      <th></th>\n",
       "      <th>NCT Number</th>\n",
       "      <th>Study Status</th>\n",
       "      <th>Study Results</th>\n",
       "      <th>Sex</th>\n",
       "      <th>Age</th>\n",
       "      <th>Enrollment</th>\n",
       "      <th>Funder Type</th>\n",
       "      <th>Study Type</th>\n",
       "      <th>nct_id</th>\n",
       "      <th>count</th>\n",
       "    </tr>\n",
       "  </thead>\n",
       "  <tbody>\n",
       "    <tr>\n",
       "      <th>0</th>\n",
       "      <td>NCT00559130</td>\n",
       "      <td>COMPLETED</td>\n",
       "      <td>NO</td>\n",
       "      <td>ALL</td>\n",
       "      <td>ADULT, OLDER_ADULT</td>\n",
       "      <td>100.0</td>\n",
       "      <td>INDUSTRY</td>\n",
       "      <td>INTERVENTIONAL</td>\n",
       "      <td>NaN</td>\n",
       "      <td>NaN</td>\n",
       "    </tr>\n",
       "    <tr>\n",
       "      <th>1</th>\n",
       "      <td>NCT00937664</td>\n",
       "      <td>TERMINATED</td>\n",
       "      <td>NO</td>\n",
       "      <td>ALL</td>\n",
       "      <td>ADULT, OLDER_ADULT</td>\n",
       "      <td>24.0</td>\n",
       "      <td>INDUSTRY</td>\n",
       "      <td>INTERVENTIONAL</td>\n",
       "      <td>NaN</td>\n",
       "      <td>NaN</td>\n",
       "    </tr>\n",
       "    <tr>\n",
       "      <th>2</th>\n",
       "      <td>NCT00441597</td>\n",
       "      <td>COMPLETED</td>\n",
       "      <td>NO</td>\n",
       "      <td>MALE</td>\n",
       "      <td>ADULT</td>\n",
       "      <td>30.0</td>\n",
       "      <td>OTHER</td>\n",
       "      <td>INTERVENTIONAL</td>\n",
       "      <td>NaN</td>\n",
       "      <td>NaN</td>\n",
       "    </tr>\n",
       "    <tr>\n",
       "      <th>3</th>\n",
       "      <td>NCT03296228</td>\n",
       "      <td>COMPLETED</td>\n",
       "      <td>NO</td>\n",
       "      <td>ALL</td>\n",
       "      <td>CHILD, ADULT</td>\n",
       "      <td>134.0</td>\n",
       "      <td>OTHER</td>\n",
       "      <td>OBSERVATIONAL</td>\n",
       "      <td>NaN</td>\n",
       "      <td>NaN</td>\n",
       "    </tr>\n",
       "    <tr>\n",
       "      <th>4</th>\n",
       "      <td>NCT00421603</td>\n",
       "      <td>COMPLETED</td>\n",
       "      <td>YES</td>\n",
       "      <td>ALL</td>\n",
       "      <td>ADULT</td>\n",
       "      <td>81.0</td>\n",
       "      <td>OTHER</td>\n",
       "      <td>INTERVENTIONAL</td>\n",
       "      <td>NaN</td>\n",
       "      <td>NaN</td>\n",
       "    </tr>\n",
       "    <tr>\n",
       "      <th>...</th>\n",
       "      <td>...</td>\n",
       "      <td>...</td>\n",
       "      <td>...</td>\n",
       "      <td>...</td>\n",
       "      <td>...</td>\n",
       "      <td>...</td>\n",
       "      <td>...</td>\n",
       "      <td>...</td>\n",
       "      <td>...</td>\n",
       "      <td>...</td>\n",
       "    </tr>\n",
       "    <tr>\n",
       "      <th>604307</th>\n",
       "      <td>NCT02360800</td>\n",
       "      <td>COMPLETED</td>\n",
       "      <td>NO</td>\n",
       "      <td>ALL</td>\n",
       "      <td>CHILD, ADULT, OLDER_ADULT</td>\n",
       "      <td>120.0</td>\n",
       "      <td>OTHER</td>\n",
       "      <td>INTERVENTIONAL</td>\n",
       "      <td>NaN</td>\n",
       "      <td>NaN</td>\n",
       "    </tr>\n",
       "    <tr>\n",
       "      <th>604308</th>\n",
       "      <td>NCT02352506</td>\n",
       "      <td>COMPLETED</td>\n",
       "      <td>NO</td>\n",
       "      <td>ALL</td>\n",
       "      <td>ADULT, OLDER_ADULT</td>\n",
       "      <td>500.0</td>\n",
       "      <td>OTHER</td>\n",
       "      <td>OBSERVATIONAL</td>\n",
       "      <td>NaN</td>\n",
       "      <td>NaN</td>\n",
       "    </tr>\n",
       "    <tr>\n",
       "      <th>604309</th>\n",
       "      <td>NCT04996381</td>\n",
       "      <td>COMPLETED</td>\n",
       "      <td>NO</td>\n",
       "      <td>ALL</td>\n",
       "      <td>ADULT, OLDER_ADULT</td>\n",
       "      <td>505.0</td>\n",
       "      <td>OTHER</td>\n",
       "      <td>OBSERVATIONAL</td>\n",
       "      <td>NaN</td>\n",
       "      <td>NaN</td>\n",
       "    </tr>\n",
       "    <tr>\n",
       "      <th>604310</th>\n",
       "      <td>NCT00380640</td>\n",
       "      <td>COMPLETED</td>\n",
       "      <td>NO</td>\n",
       "      <td>ALL</td>\n",
       "      <td>CHILD, ADULT</td>\n",
       "      <td>10.0</td>\n",
       "      <td>OTHER</td>\n",
       "      <td>INTERVENTIONAL</td>\n",
       "      <td>NaN</td>\n",
       "      <td>NaN</td>\n",
       "    </tr>\n",
       "    <tr>\n",
       "      <th>604311</th>\n",
       "      <td>NCT01844336</td>\n",
       "      <td>COMPLETED</td>\n",
       "      <td>NO</td>\n",
       "      <td>ALL</td>\n",
       "      <td>ADULT, OLDER_ADULT</td>\n",
       "      <td>208.0</td>\n",
       "      <td>INDUSTRY</td>\n",
       "      <td>INTERVENTIONAL</td>\n",
       "      <td>NaN</td>\n",
       "      <td>NaN</td>\n",
       "    </tr>\n",
       "  </tbody>\n",
       "</table>\n",
       "<p>604312 rows × 10 columns</p>\n",
       "</div>\n",
       "    <div class=\"colab-df-buttons\">\n",
       "\n",
       "  <div class=\"colab-df-container\">\n",
       "    <button class=\"colab-df-convert\" onclick=\"convertToInteractive('df-4b9fbb83-201a-438b-9232-31383fae4d13')\"\n",
       "            title=\"Convert this dataframe to an interactive table.\"\n",
       "            style=\"display:none;\">\n",
       "\n",
       "  <svg xmlns=\"http://www.w3.org/2000/svg\" height=\"24px\" viewBox=\"0 -960 960 960\">\n",
       "    <path d=\"M120-120v-720h720v720H120Zm60-500h600v-160H180v160Zm220 220h160v-160H400v160Zm0 220h160v-160H400v160ZM180-400h160v-160H180v160Zm440 0h160v-160H620v160ZM180-180h160v-160H180v160Zm440 0h160v-160H620v160Z\"/>\n",
       "  </svg>\n",
       "    </button>\n",
       "\n",
       "  <style>\n",
       "    .colab-df-container {\n",
       "      display:flex;\n",
       "      gap: 12px;\n",
       "    }\n",
       "\n",
       "    .colab-df-convert {\n",
       "      background-color: #E8F0FE;\n",
       "      border: none;\n",
       "      border-radius: 50%;\n",
       "      cursor: pointer;\n",
       "      display: none;\n",
       "      fill: #1967D2;\n",
       "      height: 32px;\n",
       "      padding: 0 0 0 0;\n",
       "      width: 32px;\n",
       "    }\n",
       "\n",
       "    .colab-df-convert:hover {\n",
       "      background-color: #E2EBFA;\n",
       "      box-shadow: 0px 1px 2px rgba(60, 64, 67, 0.3), 0px 1px 3px 1px rgba(60, 64, 67, 0.15);\n",
       "      fill: #174EA6;\n",
       "    }\n",
       "\n",
       "    .colab-df-buttons div {\n",
       "      margin-bottom: 4px;\n",
       "    }\n",
       "\n",
       "    [theme=dark] .colab-df-convert {\n",
       "      background-color: #3B4455;\n",
       "      fill: #D2E3FC;\n",
       "    }\n",
       "\n",
       "    [theme=dark] .colab-df-convert:hover {\n",
       "      background-color: #434B5C;\n",
       "      box-shadow: 0px 1px 3px 1px rgba(0, 0, 0, 0.15);\n",
       "      filter: drop-shadow(0px 1px 2px rgba(0, 0, 0, 0.3));\n",
       "      fill: #FFFFFF;\n",
       "    }\n",
       "  </style>\n",
       "\n",
       "    <script>\n",
       "      const buttonEl =\n",
       "        document.querySelector('#df-4b9fbb83-201a-438b-9232-31383fae4d13 button.colab-df-convert');\n",
       "      buttonEl.style.display =\n",
       "        google.colab.kernel.accessAllowed ? 'block' : 'none';\n",
       "\n",
       "      async function convertToInteractive(key) {\n",
       "        const element = document.querySelector('#df-4b9fbb83-201a-438b-9232-31383fae4d13');\n",
       "        const dataTable =\n",
       "          await google.colab.kernel.invokeFunction('convertToInteractive',\n",
       "                                                    [key], {});\n",
       "        if (!dataTable) return;\n",
       "\n",
       "        const docLinkHtml = 'Like what you see? Visit the ' +\n",
       "          '<a target=\"_blank\" href=https://colab.research.google.com/notebooks/data_table.ipynb>data table notebook</a>'\n",
       "          + ' to learn more about interactive tables.';\n",
       "        element.innerHTML = '';\n",
       "        dataTable['output_type'] = 'display_data';\n",
       "        await google.colab.output.renderOutput(dataTable, element);\n",
       "        const docLink = document.createElement('div');\n",
       "        docLink.innerHTML = docLinkHtml;\n",
       "        element.appendChild(docLink);\n",
       "      }\n",
       "    </script>\n",
       "  </div>\n",
       "\n",
       "\n",
       "<div id=\"df-11042a02-89c1-4d00-88b0-d57805356b07\">\n",
       "  <button class=\"colab-df-quickchart\" onclick=\"quickchart('df-11042a02-89c1-4d00-88b0-d57805356b07')\"\n",
       "            title=\"Suggest charts\"\n",
       "            style=\"display:none;\">\n",
       "\n",
       "<svg xmlns=\"http://www.w3.org/2000/svg\" height=\"24px\"viewBox=\"0 0 24 24\"\n",
       "     width=\"24px\">\n",
       "    <g>\n",
       "        <path d=\"M19 3H5c-1.1 0-2 .9-2 2v14c0 1.1.9 2 2 2h14c1.1 0 2-.9 2-2V5c0-1.1-.9-2-2-2zM9 17H7v-7h2v7zm4 0h-2V7h2v10zm4 0h-2v-4h2v4z\"/>\n",
       "    </g>\n",
       "</svg>\n",
       "  </button>\n",
       "\n",
       "<style>\n",
       "  .colab-df-quickchart {\n",
       "      --bg-color: #E8F0FE;\n",
       "      --fill-color: #1967D2;\n",
       "      --hover-bg-color: #E2EBFA;\n",
       "      --hover-fill-color: #174EA6;\n",
       "      --disabled-fill-color: #AAA;\n",
       "      --disabled-bg-color: #DDD;\n",
       "  }\n",
       "\n",
       "  [theme=dark] .colab-df-quickchart {\n",
       "      --bg-color: #3B4455;\n",
       "      --fill-color: #D2E3FC;\n",
       "      --hover-bg-color: #434B5C;\n",
       "      --hover-fill-color: #FFFFFF;\n",
       "      --disabled-bg-color: #3B4455;\n",
       "      --disabled-fill-color: #666;\n",
       "  }\n",
       "\n",
       "  .colab-df-quickchart {\n",
       "    background-color: var(--bg-color);\n",
       "    border: none;\n",
       "    border-radius: 50%;\n",
       "    cursor: pointer;\n",
       "    display: none;\n",
       "    fill: var(--fill-color);\n",
       "    height: 32px;\n",
       "    padding: 0;\n",
       "    width: 32px;\n",
       "  }\n",
       "\n",
       "  .colab-df-quickchart:hover {\n",
       "    background-color: var(--hover-bg-color);\n",
       "    box-shadow: 0 1px 2px rgba(60, 64, 67, 0.3), 0 1px 3px 1px rgba(60, 64, 67, 0.15);\n",
       "    fill: var(--button-hover-fill-color);\n",
       "  }\n",
       "\n",
       "  .colab-df-quickchart-complete:disabled,\n",
       "  .colab-df-quickchart-complete:disabled:hover {\n",
       "    background-color: var(--disabled-bg-color);\n",
       "    fill: var(--disabled-fill-color);\n",
       "    box-shadow: none;\n",
       "  }\n",
       "\n",
       "  .colab-df-spinner {\n",
       "    border: 2px solid var(--fill-color);\n",
       "    border-color: transparent;\n",
       "    border-bottom-color: var(--fill-color);\n",
       "    animation:\n",
       "      spin 1s steps(1) infinite;\n",
       "  }\n",
       "\n",
       "  @keyframes spin {\n",
       "    0% {\n",
       "      border-color: transparent;\n",
       "      border-bottom-color: var(--fill-color);\n",
       "      border-left-color: var(--fill-color);\n",
       "    }\n",
       "    20% {\n",
       "      border-color: transparent;\n",
       "      border-left-color: var(--fill-color);\n",
       "      border-top-color: var(--fill-color);\n",
       "    }\n",
       "    30% {\n",
       "      border-color: transparent;\n",
       "      border-left-color: var(--fill-color);\n",
       "      border-top-color: var(--fill-color);\n",
       "      border-right-color: var(--fill-color);\n",
       "    }\n",
       "    40% {\n",
       "      border-color: transparent;\n",
       "      border-right-color: var(--fill-color);\n",
       "      border-top-color: var(--fill-color);\n",
       "    }\n",
       "    60% {\n",
       "      border-color: transparent;\n",
       "      border-right-color: var(--fill-color);\n",
       "    }\n",
       "    80% {\n",
       "      border-color: transparent;\n",
       "      border-right-color: var(--fill-color);\n",
       "      border-bottom-color: var(--fill-color);\n",
       "    }\n",
       "    90% {\n",
       "      border-color: transparent;\n",
       "      border-bottom-color: var(--fill-color);\n",
       "    }\n",
       "  }\n",
       "</style>\n",
       "\n",
       "  <script>\n",
       "    async function quickchart(key) {\n",
       "      const quickchartButtonEl =\n",
       "        document.querySelector('#' + key + ' button');\n",
       "      quickchartButtonEl.disabled = true;  // To prevent multiple clicks.\n",
       "      quickchartButtonEl.classList.add('colab-df-spinner');\n",
       "      try {\n",
       "        const charts = await google.colab.kernel.invokeFunction(\n",
       "            'suggestCharts', [key], {});\n",
       "      } catch (error) {\n",
       "        console.error('Error during call to suggestCharts:', error);\n",
       "      }\n",
       "      quickchartButtonEl.classList.remove('colab-df-spinner');\n",
       "      quickchartButtonEl.classList.add('colab-df-quickchart-complete');\n",
       "    }\n",
       "    (() => {\n",
       "      let quickchartButtonEl =\n",
       "        document.querySelector('#df-11042a02-89c1-4d00-88b0-d57805356b07 button');\n",
       "      quickchartButtonEl.style.display =\n",
       "        google.colab.kernel.accessAllowed ? 'block' : 'none';\n",
       "    })();\n",
       "  </script>\n",
       "</div>\n",
       "\n",
       "  <div id=\"id_a000a73c-f2ed-4ae0-bade-651241898f11\">\n",
       "    <style>\n",
       "      .colab-df-generate {\n",
       "        background-color: #E8F0FE;\n",
       "        border: none;\n",
       "        border-radius: 50%;\n",
       "        cursor: pointer;\n",
       "        display: none;\n",
       "        fill: #1967D2;\n",
       "        height: 32px;\n",
       "        padding: 0 0 0 0;\n",
       "        width: 32px;\n",
       "      }\n",
       "\n",
       "      .colab-df-generate:hover {\n",
       "        background-color: #E2EBFA;\n",
       "        box-shadow: 0px 1px 2px rgba(60, 64, 67, 0.3), 0px 1px 3px 1px rgba(60, 64, 67, 0.15);\n",
       "        fill: #174EA6;\n",
       "      }\n",
       "\n",
       "      [theme=dark] .colab-df-generate {\n",
       "        background-color: #3B4455;\n",
       "        fill: #D2E3FC;\n",
       "      }\n",
       "\n",
       "      [theme=dark] .colab-df-generate:hover {\n",
       "        background-color: #434B5C;\n",
       "        box-shadow: 0px 1px 3px 1px rgba(0, 0, 0, 0.15);\n",
       "        filter: drop-shadow(0px 1px 2px rgba(0, 0, 0, 0.3));\n",
       "        fill: #FFFFFF;\n",
       "      }\n",
       "    </style>\n",
       "    <button class=\"colab-df-generate\" onclick=\"generateWithVariable('df_merged1')\"\n",
       "            title=\"Generate code using this dataframe.\"\n",
       "            style=\"display:none;\">\n",
       "\n",
       "  <svg xmlns=\"http://www.w3.org/2000/svg\" height=\"24px\"viewBox=\"0 0 24 24\"\n",
       "       width=\"24px\">\n",
       "    <path d=\"M7,19H8.4L18.45,9,17,7.55,7,17.6ZM5,21V16.75L18.45,3.32a2,2,0,0,1,2.83,0l1.4,1.43a1.91,1.91,0,0,1,.58,1.4,1.91,1.91,0,0,1-.58,1.4L9.25,21ZM18.45,9,17,7.55Zm-12,3A5.31,5.31,0,0,0,4.9,8.1,5.31,5.31,0,0,0,1,6.5,5.31,5.31,0,0,0,4.9,4.9,5.31,5.31,0,0,0,6.5,1,5.31,5.31,0,0,0,8.1,4.9,5.31,5.31,0,0,0,12,6.5,5.46,5.46,0,0,0,6.5,12Z\"/>\n",
       "  </svg>\n",
       "    </button>\n",
       "    <script>\n",
       "      (() => {\n",
       "      const buttonEl =\n",
       "        document.querySelector('#id_a000a73c-f2ed-4ae0-bade-651241898f11 button.colab-df-generate');\n",
       "      buttonEl.style.display =\n",
       "        google.colab.kernel.accessAllowed ? 'block' : 'none';\n",
       "\n",
       "      buttonEl.onclick = () => {\n",
       "        google.colab.notebook.generateWithVariable('df_merged1');\n",
       "      }\n",
       "      })();\n",
       "    </script>\n",
       "  </div>\n",
       "\n",
       "    </div>\n",
       "  </div>\n"
      ],
      "text/plain": [
       "         NCT Number Study Status Study Results   Sex  \\\n",
       "0       NCT00559130    COMPLETED            NO   ALL   \n",
       "1       NCT00937664   TERMINATED            NO   ALL   \n",
       "2       NCT00441597    COMPLETED            NO  MALE   \n",
       "3       NCT03296228    COMPLETED            NO   ALL   \n",
       "4       NCT00421603    COMPLETED           YES   ALL   \n",
       "...             ...          ...           ...   ...   \n",
       "604307  NCT02360800    COMPLETED            NO   ALL   \n",
       "604308  NCT02352506    COMPLETED            NO   ALL   \n",
       "604309  NCT04996381    COMPLETED            NO   ALL   \n",
       "604310  NCT00380640    COMPLETED            NO   ALL   \n",
       "604311  NCT01844336    COMPLETED            NO   ALL   \n",
       "\n",
       "                              Age  Enrollment Funder Type      Study Type  \\\n",
       "0              ADULT, OLDER_ADULT       100.0    INDUSTRY  INTERVENTIONAL   \n",
       "1              ADULT, OLDER_ADULT        24.0    INDUSTRY  INTERVENTIONAL   \n",
       "2                           ADULT        30.0       OTHER  INTERVENTIONAL   \n",
       "3                    CHILD, ADULT       134.0       OTHER   OBSERVATIONAL   \n",
       "4                           ADULT        81.0       OTHER  INTERVENTIONAL   \n",
       "...                           ...         ...         ...             ...   \n",
       "604307  CHILD, ADULT, OLDER_ADULT       120.0       OTHER  INTERVENTIONAL   \n",
       "604308         ADULT, OLDER_ADULT       500.0       OTHER   OBSERVATIONAL   \n",
       "604309         ADULT, OLDER_ADULT       505.0       OTHER   OBSERVATIONAL   \n",
       "604310               CHILD, ADULT        10.0       OTHER  INTERVENTIONAL   \n",
       "604311         ADULT, OLDER_ADULT       208.0    INDUSTRY  INTERVENTIONAL   \n",
       "\n",
       "       nct_id  count  \n",
       "0         NaN    NaN  \n",
       "1         NaN    NaN  \n",
       "2         NaN    NaN  \n",
       "3         NaN    NaN  \n",
       "4         NaN    NaN  \n",
       "...       ...    ...  \n",
       "604307    NaN    NaN  \n",
       "604308    NaN    NaN  \n",
       "604309    NaN    NaN  \n",
       "604310    NaN    NaN  \n",
       "604311    NaN    NaN  \n",
       "\n",
       "[604312 rows x 10 columns]"
      ]
     },
     "execution_count": 64,
     "metadata": {},
     "output_type": "execute_result"
    }
   ],
   "source": [
    "df_merged1"
   ]
  },
  {
   "cell_type": "code",
   "execution_count": 65,
   "id": "51d7476c-afe5-459a-96e7-876305d0ef1a",
   "metadata": {
    "colab": {
     "base_uri": "https://localhost:8080/"
    },
    "executionInfo": {
     "elapsed": 418,
     "status": "ok",
     "timestamp": 1737737484953,
     "user": {
      "displayName": "Medhansh Jain",
      "userId": "15789660724571206766"
     },
     "user_tz": -330
    },
    "id": "51d7476c-afe5-459a-96e7-876305d0ef1a",
    "outputId": "6a8c8fea-5987-4904-e014-f34fd049a4cf"
   },
   "outputs": [
    {
     "name": "stdout",
     "output_type": "stream",
     "text": [
      "<class 'pandas.core.frame.DataFrame'>\n",
      "RangeIndex: 604312 entries, 0 to 604311\n",
      "Data columns (total 10 columns):\n",
      " #   Column         Non-Null Count   Dtype  \n",
      "---  ------         --------------   -----  \n",
      " 0   NCT Number     604312 non-null  object \n",
      " 1   Study Status   604312 non-null  object \n",
      " 2   Study Results  604312 non-null  object \n",
      " 3   Sex            604312 non-null  object \n",
      " 4   Age            604312 non-null  object \n",
      " 5   Enrollment     604312 non-null  float64\n",
      " 6   Funder Type    604312 non-null  object \n",
      " 7   Study Type     604312 non-null  object \n",
      " 8   nct_id         381439 non-null  object \n",
      " 9   count          381439 non-null  float64\n",
      "dtypes: float64(2), object(8)\n",
      "memory usage: 46.1+ MB\n"
     ]
    }
   ],
   "source": [
    "df_merged1.info()"
   ]
  },
  {
   "cell_type": "code",
   "execution_count": 66,
   "id": "1d6147aa-2a40-41a5-90f1-b5bc600dc8ff",
   "metadata": {
    "colab": {
     "base_uri": "https://localhost:8080/",
     "height": 398
    },
    "executionInfo": {
     "elapsed": 556,
     "status": "ok",
     "timestamp": 1737737485508,
     "user": {
      "displayName": "Medhansh Jain",
      "userId": "15789660724571206766"
     },
     "user_tz": -330
    },
    "id": "1d6147aa-2a40-41a5-90f1-b5bc600dc8ff",
    "outputId": "c260be0d-6bc5-4c73-cd3e-b1edd8d5735f"
   },
   "outputs": [
    {
     "data": {
      "text/html": [
       "<div>\n",
       "<style scoped>\n",
       "    .dataframe tbody tr th:only-of-type {\n",
       "        vertical-align: middle;\n",
       "    }\n",
       "\n",
       "    .dataframe tbody tr th {\n",
       "        vertical-align: top;\n",
       "    }\n",
       "\n",
       "    .dataframe thead th {\n",
       "        text-align: right;\n",
       "    }\n",
       "</style>\n",
       "<table border=\"1\" class=\"dataframe\">\n",
       "  <thead>\n",
       "    <tr style=\"text-align: right;\">\n",
       "      <th></th>\n",
       "      <th>0</th>\n",
       "    </tr>\n",
       "  </thead>\n",
       "  <tbody>\n",
       "    <tr>\n",
       "      <th>NCT Number</th>\n",
       "      <td>0</td>\n",
       "    </tr>\n",
       "    <tr>\n",
       "      <th>Study Status</th>\n",
       "      <td>0</td>\n",
       "    </tr>\n",
       "    <tr>\n",
       "      <th>Study Results</th>\n",
       "      <td>0</td>\n",
       "    </tr>\n",
       "    <tr>\n",
       "      <th>Sex</th>\n",
       "      <td>0</td>\n",
       "    </tr>\n",
       "    <tr>\n",
       "      <th>Age</th>\n",
       "      <td>0</td>\n",
       "    </tr>\n",
       "    <tr>\n",
       "      <th>Enrollment</th>\n",
       "      <td>0</td>\n",
       "    </tr>\n",
       "    <tr>\n",
       "      <th>Funder Type</th>\n",
       "      <td>0</td>\n",
       "    </tr>\n",
       "    <tr>\n",
       "      <th>Study Type</th>\n",
       "      <td>0</td>\n",
       "    </tr>\n",
       "    <tr>\n",
       "      <th>nct_id</th>\n",
       "      <td>222873</td>\n",
       "    </tr>\n",
       "    <tr>\n",
       "      <th>count</th>\n",
       "      <td>222873</td>\n",
       "    </tr>\n",
       "  </tbody>\n",
       "</table>\n",
       "</div><br><label><b>dtype:</b> int64</label>"
      ],
      "text/plain": [
       "NCT Number            0\n",
       "Study Status          0\n",
       "Study Results         0\n",
       "Sex                   0\n",
       "Age                   0\n",
       "Enrollment            0\n",
       "Funder Type           0\n",
       "Study Type            0\n",
       "nct_id           222873\n",
       "count            222873\n",
       "dtype: int64"
      ]
     },
     "execution_count": 66,
     "metadata": {},
     "output_type": "execute_result"
    }
   ],
   "source": [
    "# Check for missing values in the dataset\n",
    "df_merged1.isnull().sum()"
   ]
  },
  {
   "cell_type": "code",
   "execution_count": 67,
   "id": "50cb52cd-5692-4052-a5f1-c413179d9ae4",
   "metadata": {
    "executionInfo": {
     "elapsed": 514,
     "status": "ok",
     "timestamp": 1737737486019,
     "user": {
      "displayName": "Medhansh Jain",
      "userId": "15789660724571206766"
     },
     "user_tz": -330
    },
    "id": "50cb52cd-5692-4052-a5f1-c413179d9ae4"
   },
   "outputs": [],
   "source": [
    "# Drop Rows with missing values\n",
    "df_merged1.dropna(inplace=True)"
   ]
  },
  {
   "cell_type": "code",
   "execution_count": 68,
   "id": "704c86e0-c81e-4748-8da2-437fb81437aa",
   "metadata": {
    "colab": {
     "base_uri": "https://localhost:8080/",
     "height": 398
    },
    "executionInfo": {
     "elapsed": 687,
     "status": "ok",
     "timestamp": 1737737486705,
     "user": {
      "displayName": "Medhansh Jain",
      "userId": "15789660724571206766"
     },
     "user_tz": -330
    },
    "id": "704c86e0-c81e-4748-8da2-437fb81437aa",
    "outputId": "af7c57b9-b221-4206-be96-6a683627166c"
   },
   "outputs": [
    {
     "data": {
      "text/html": [
       "<div>\n",
       "<style scoped>\n",
       "    .dataframe tbody tr th:only-of-type {\n",
       "        vertical-align: middle;\n",
       "    }\n",
       "\n",
       "    .dataframe tbody tr th {\n",
       "        vertical-align: top;\n",
       "    }\n",
       "\n",
       "    .dataframe thead th {\n",
       "        text-align: right;\n",
       "    }\n",
       "</style>\n",
       "<table border=\"1\" class=\"dataframe\">\n",
       "  <thead>\n",
       "    <tr style=\"text-align: right;\">\n",
       "      <th></th>\n",
       "      <th>0</th>\n",
       "    </tr>\n",
       "  </thead>\n",
       "  <tbody>\n",
       "    <tr>\n",
       "      <th>NCT Number</th>\n",
       "      <td>0</td>\n",
       "    </tr>\n",
       "    <tr>\n",
       "      <th>Study Status</th>\n",
       "      <td>0</td>\n",
       "    </tr>\n",
       "    <tr>\n",
       "      <th>Study Results</th>\n",
       "      <td>0</td>\n",
       "    </tr>\n",
       "    <tr>\n",
       "      <th>Sex</th>\n",
       "      <td>0</td>\n",
       "    </tr>\n",
       "    <tr>\n",
       "      <th>Age</th>\n",
       "      <td>0</td>\n",
       "    </tr>\n",
       "    <tr>\n",
       "      <th>Enrollment</th>\n",
       "      <td>0</td>\n",
       "    </tr>\n",
       "    <tr>\n",
       "      <th>Funder Type</th>\n",
       "      <td>0</td>\n",
       "    </tr>\n",
       "    <tr>\n",
       "      <th>Study Type</th>\n",
       "      <td>0</td>\n",
       "    </tr>\n",
       "    <tr>\n",
       "      <th>nct_id</th>\n",
       "      <td>0</td>\n",
       "    </tr>\n",
       "    <tr>\n",
       "      <th>count</th>\n",
       "      <td>0</td>\n",
       "    </tr>\n",
       "  </tbody>\n",
       "</table>\n",
       "</div><br><label><b>dtype:</b> int64</label>"
      ],
      "text/plain": [
       "NCT Number       0\n",
       "Study Status     0\n",
       "Study Results    0\n",
       "Sex              0\n",
       "Age              0\n",
       "Enrollment       0\n",
       "Funder Type      0\n",
       "Study Type       0\n",
       "nct_id           0\n",
       "count            0\n",
       "dtype: int64"
      ]
     },
     "execution_count": 68,
     "metadata": {},
     "output_type": "execute_result"
    }
   ],
   "source": [
    "# Check for missing values in the dataset\n",
    "df_merged1.isnull().sum()"
   ]
  },
  {
   "cell_type": "code",
   "execution_count": 69,
   "id": "eee0afe4-55c7-41d8-93a2-73f14e4d2be7",
   "metadata": {
    "colab": {
     "base_uri": "https://localhost:8080/",
     "height": 164
    },
    "executionInfo": {
     "elapsed": 4,
     "status": "ok",
     "timestamp": 1737737486705,
     "user": {
      "displayName": "Medhansh Jain",
      "userId": "15789660724571206766"
     },
     "user_tz": -330
    },
    "id": "eee0afe4-55c7-41d8-93a2-73f14e4d2be7",
    "outputId": "2e8ccd9b-656d-490c-887c-29a6c2b0fee2"
   },
   "outputs": [
    {
     "data": {
      "application/vnd.google.colaboratory.intrinsic+json": {
       "type": "dataframe",
       "variable_name": "df_merged1"
      },
      "text/html": [
       "\n",
       "  <div id=\"df-90430a28-0d1c-45fe-b0b0-f768db10a203\" class=\"colab-df-container\">\n",
       "    <div>\n",
       "<style scoped>\n",
       "    .dataframe tbody tr th:only-of-type {\n",
       "        vertical-align: middle;\n",
       "    }\n",
       "\n",
       "    .dataframe tbody tr th {\n",
       "        vertical-align: top;\n",
       "    }\n",
       "\n",
       "    .dataframe thead th {\n",
       "        text-align: right;\n",
       "    }\n",
       "</style>\n",
       "<table border=\"1\" class=\"dataframe\">\n",
       "  <thead>\n",
       "    <tr style=\"text-align: right;\">\n",
       "      <th></th>\n",
       "      <th>NCT Number</th>\n",
       "      <th>Study Status</th>\n",
       "      <th>Study Results</th>\n",
       "      <th>Sex</th>\n",
       "      <th>Age</th>\n",
       "      <th>Enrollment</th>\n",
       "      <th>Funder Type</th>\n",
       "      <th>Study Type</th>\n",
       "      <th>nct_id</th>\n",
       "      <th>count</th>\n",
       "    </tr>\n",
       "  </thead>\n",
       "  <tbody>\n",
       "    <tr>\n",
       "      <th>16</th>\n",
       "      <td>NCT00304083</td>\n",
       "      <td>COMPLETED</td>\n",
       "      <td>YES</td>\n",
       "      <td>ALL</td>\n",
       "      <td>CHILD, ADULT, OLDER_ADULT</td>\n",
       "      <td>48.0</td>\n",
       "      <td>OTHER</td>\n",
       "      <td>INTERVENTIONAL</td>\n",
       "      <td>NCT00304083</td>\n",
       "      <td>4.0</td>\n",
       "    </tr>\n",
       "    <tr>\n",
       "      <th>17</th>\n",
       "      <td>NCT00304083</td>\n",
       "      <td>COMPLETED</td>\n",
       "      <td>YES</td>\n",
       "      <td>ALL</td>\n",
       "      <td>CHILD, ADULT, OLDER_ADULT</td>\n",
       "      <td>48.0</td>\n",
       "      <td>OTHER</td>\n",
       "      <td>INTERVENTIONAL</td>\n",
       "      <td>NCT00304083</td>\n",
       "      <td>2.0</td>\n",
       "    </tr>\n",
       "  </tbody>\n",
       "</table>\n",
       "</div>\n",
       "    <div class=\"colab-df-buttons\">\n",
       "\n",
       "  <div class=\"colab-df-container\">\n",
       "    <button class=\"colab-df-convert\" onclick=\"convertToInteractive('df-90430a28-0d1c-45fe-b0b0-f768db10a203')\"\n",
       "            title=\"Convert this dataframe to an interactive table.\"\n",
       "            style=\"display:none;\">\n",
       "\n",
       "  <svg xmlns=\"http://www.w3.org/2000/svg\" height=\"24px\" viewBox=\"0 -960 960 960\">\n",
       "    <path d=\"M120-120v-720h720v720H120Zm60-500h600v-160H180v160Zm220 220h160v-160H400v160Zm0 220h160v-160H400v160ZM180-400h160v-160H180v160Zm440 0h160v-160H620v160ZM180-180h160v-160H180v160Zm440 0h160v-160H620v160Z\"/>\n",
       "  </svg>\n",
       "    </button>\n",
       "\n",
       "  <style>\n",
       "    .colab-df-container {\n",
       "      display:flex;\n",
       "      gap: 12px;\n",
       "    }\n",
       "\n",
       "    .colab-df-convert {\n",
       "      background-color: #E8F0FE;\n",
       "      border: none;\n",
       "      border-radius: 50%;\n",
       "      cursor: pointer;\n",
       "      display: none;\n",
       "      fill: #1967D2;\n",
       "      height: 32px;\n",
       "      padding: 0 0 0 0;\n",
       "      width: 32px;\n",
       "    }\n",
       "\n",
       "    .colab-df-convert:hover {\n",
       "      background-color: #E2EBFA;\n",
       "      box-shadow: 0px 1px 2px rgba(60, 64, 67, 0.3), 0px 1px 3px 1px rgba(60, 64, 67, 0.15);\n",
       "      fill: #174EA6;\n",
       "    }\n",
       "\n",
       "    .colab-df-buttons div {\n",
       "      margin-bottom: 4px;\n",
       "    }\n",
       "\n",
       "    [theme=dark] .colab-df-convert {\n",
       "      background-color: #3B4455;\n",
       "      fill: #D2E3FC;\n",
       "    }\n",
       "\n",
       "    [theme=dark] .colab-df-convert:hover {\n",
       "      background-color: #434B5C;\n",
       "      box-shadow: 0px 1px 3px 1px rgba(0, 0, 0, 0.15);\n",
       "      filter: drop-shadow(0px 1px 2px rgba(0, 0, 0, 0.3));\n",
       "      fill: #FFFFFF;\n",
       "    }\n",
       "  </style>\n",
       "\n",
       "    <script>\n",
       "      const buttonEl =\n",
       "        document.querySelector('#df-90430a28-0d1c-45fe-b0b0-f768db10a203 button.colab-df-convert');\n",
       "      buttonEl.style.display =\n",
       "        google.colab.kernel.accessAllowed ? 'block' : 'none';\n",
       "\n",
       "      async function convertToInteractive(key) {\n",
       "        const element = document.querySelector('#df-90430a28-0d1c-45fe-b0b0-f768db10a203');\n",
       "        const dataTable =\n",
       "          await google.colab.kernel.invokeFunction('convertToInteractive',\n",
       "                                                    [key], {});\n",
       "        if (!dataTable) return;\n",
       "\n",
       "        const docLinkHtml = 'Like what you see? Visit the ' +\n",
       "          '<a target=\"_blank\" href=https://colab.research.google.com/notebooks/data_table.ipynb>data table notebook</a>'\n",
       "          + ' to learn more about interactive tables.';\n",
       "        element.innerHTML = '';\n",
       "        dataTable['output_type'] = 'display_data';\n",
       "        await google.colab.output.renderOutput(dataTable, element);\n",
       "        const docLink = document.createElement('div');\n",
       "        docLink.innerHTML = docLinkHtml;\n",
       "        element.appendChild(docLink);\n",
       "      }\n",
       "    </script>\n",
       "  </div>\n",
       "\n",
       "\n",
       "<div id=\"df-689d2208-182b-4d9d-85b4-54ab49a1144b\">\n",
       "  <button class=\"colab-df-quickchart\" onclick=\"quickchart('df-689d2208-182b-4d9d-85b4-54ab49a1144b')\"\n",
       "            title=\"Suggest charts\"\n",
       "            style=\"display:none;\">\n",
       "\n",
       "<svg xmlns=\"http://www.w3.org/2000/svg\" height=\"24px\"viewBox=\"0 0 24 24\"\n",
       "     width=\"24px\">\n",
       "    <g>\n",
       "        <path d=\"M19 3H5c-1.1 0-2 .9-2 2v14c0 1.1.9 2 2 2h14c1.1 0 2-.9 2-2V5c0-1.1-.9-2-2-2zM9 17H7v-7h2v7zm4 0h-2V7h2v10zm4 0h-2v-4h2v4z\"/>\n",
       "    </g>\n",
       "</svg>\n",
       "  </button>\n",
       "\n",
       "<style>\n",
       "  .colab-df-quickchart {\n",
       "      --bg-color: #E8F0FE;\n",
       "      --fill-color: #1967D2;\n",
       "      --hover-bg-color: #E2EBFA;\n",
       "      --hover-fill-color: #174EA6;\n",
       "      --disabled-fill-color: #AAA;\n",
       "      --disabled-bg-color: #DDD;\n",
       "  }\n",
       "\n",
       "  [theme=dark] .colab-df-quickchart {\n",
       "      --bg-color: #3B4455;\n",
       "      --fill-color: #D2E3FC;\n",
       "      --hover-bg-color: #434B5C;\n",
       "      --hover-fill-color: #FFFFFF;\n",
       "      --disabled-bg-color: #3B4455;\n",
       "      --disabled-fill-color: #666;\n",
       "  }\n",
       "\n",
       "  .colab-df-quickchart {\n",
       "    background-color: var(--bg-color);\n",
       "    border: none;\n",
       "    border-radius: 50%;\n",
       "    cursor: pointer;\n",
       "    display: none;\n",
       "    fill: var(--fill-color);\n",
       "    height: 32px;\n",
       "    padding: 0;\n",
       "    width: 32px;\n",
       "  }\n",
       "\n",
       "  .colab-df-quickchart:hover {\n",
       "    background-color: var(--hover-bg-color);\n",
       "    box-shadow: 0 1px 2px rgba(60, 64, 67, 0.3), 0 1px 3px 1px rgba(60, 64, 67, 0.15);\n",
       "    fill: var(--button-hover-fill-color);\n",
       "  }\n",
       "\n",
       "  .colab-df-quickchart-complete:disabled,\n",
       "  .colab-df-quickchart-complete:disabled:hover {\n",
       "    background-color: var(--disabled-bg-color);\n",
       "    fill: var(--disabled-fill-color);\n",
       "    box-shadow: none;\n",
       "  }\n",
       "\n",
       "  .colab-df-spinner {\n",
       "    border: 2px solid var(--fill-color);\n",
       "    border-color: transparent;\n",
       "    border-bottom-color: var(--fill-color);\n",
       "    animation:\n",
       "      spin 1s steps(1) infinite;\n",
       "  }\n",
       "\n",
       "  @keyframes spin {\n",
       "    0% {\n",
       "      border-color: transparent;\n",
       "      border-bottom-color: var(--fill-color);\n",
       "      border-left-color: var(--fill-color);\n",
       "    }\n",
       "    20% {\n",
       "      border-color: transparent;\n",
       "      border-left-color: var(--fill-color);\n",
       "      border-top-color: var(--fill-color);\n",
       "    }\n",
       "    30% {\n",
       "      border-color: transparent;\n",
       "      border-left-color: var(--fill-color);\n",
       "      border-top-color: var(--fill-color);\n",
       "      border-right-color: var(--fill-color);\n",
       "    }\n",
       "    40% {\n",
       "      border-color: transparent;\n",
       "      border-right-color: var(--fill-color);\n",
       "      border-top-color: var(--fill-color);\n",
       "    }\n",
       "    60% {\n",
       "      border-color: transparent;\n",
       "      border-right-color: var(--fill-color);\n",
       "    }\n",
       "    80% {\n",
       "      border-color: transparent;\n",
       "      border-right-color: var(--fill-color);\n",
       "      border-bottom-color: var(--fill-color);\n",
       "    }\n",
       "    90% {\n",
       "      border-color: transparent;\n",
       "      border-bottom-color: var(--fill-color);\n",
       "    }\n",
       "  }\n",
       "</style>\n",
       "\n",
       "  <script>\n",
       "    async function quickchart(key) {\n",
       "      const quickchartButtonEl =\n",
       "        document.querySelector('#' + key + ' button');\n",
       "      quickchartButtonEl.disabled = true;  // To prevent multiple clicks.\n",
       "      quickchartButtonEl.classList.add('colab-df-spinner');\n",
       "      try {\n",
       "        const charts = await google.colab.kernel.invokeFunction(\n",
       "            'suggestCharts', [key], {});\n",
       "      } catch (error) {\n",
       "        console.error('Error during call to suggestCharts:', error);\n",
       "      }\n",
       "      quickchartButtonEl.classList.remove('colab-df-spinner');\n",
       "      quickchartButtonEl.classList.add('colab-df-quickchart-complete');\n",
       "    }\n",
       "    (() => {\n",
       "      let quickchartButtonEl =\n",
       "        document.querySelector('#df-689d2208-182b-4d9d-85b4-54ab49a1144b button');\n",
       "      quickchartButtonEl.style.display =\n",
       "        google.colab.kernel.accessAllowed ? 'block' : 'none';\n",
       "    })();\n",
       "  </script>\n",
       "</div>\n",
       "\n",
       "    </div>\n",
       "  </div>\n"
      ],
      "text/plain": [
       "     NCT Number Study Status Study Results  Sex                        Age  \\\n",
       "16  NCT00304083    COMPLETED           YES  ALL  CHILD, ADULT, OLDER_ADULT   \n",
       "17  NCT00304083    COMPLETED           YES  ALL  CHILD, ADULT, OLDER_ADULT   \n",
       "\n",
       "    Enrollment Funder Type      Study Type       nct_id  count  \n",
       "16        48.0       OTHER  INTERVENTIONAL  NCT00304083    4.0  \n",
       "17        48.0       OTHER  INTERVENTIONAL  NCT00304083    2.0  "
      ]
     },
     "execution_count": 69,
     "metadata": {},
     "output_type": "execute_result"
    }
   ],
   "source": [
    "df_merged1.head(2)"
   ]
  },
  {
   "cell_type": "code",
   "execution_count": 70,
   "id": "749b0726-5d30-4f4d-8c4d-ab7ffa4fdd0c",
   "metadata": {
    "executionInfo": {
     "elapsed": 4,
     "status": "ok",
     "timestamp": 1737737486705,
     "user": {
      "displayName": "Medhansh Jain",
      "userId": "15789660724571206766"
     },
     "user_tz": -330
    },
    "id": "749b0726-5d30-4f4d-8c4d-ab7ffa4fdd0c"
   },
   "outputs": [],
   "source": [
    "# Drop irrelevant columns to streamline the dataset\n",
    "df_merged1.drop(['nct_id'],axis=1,inplace=True)"
   ]
  },
  {
   "cell_type": "code",
   "execution_count": 71,
   "id": "9a7048a8-e937-463a-8ca0-22f0b41222a1",
   "metadata": {
    "colab": {
     "base_uri": "https://localhost:8080/"
    },
    "executionInfo": {
     "elapsed": 4,
     "status": "ok",
     "timestamp": 1737737486705,
     "user": {
      "displayName": "Medhansh Jain",
      "userId": "15789660724571206766"
     },
     "user_tz": -330
    },
    "id": "9a7048a8-e937-463a-8ca0-22f0b41222a1",
    "outputId": "ec70ebc4-d048-4ad2-edc8-915d02cabf5e"
   },
   "outputs": [
    {
     "data": {
      "text/plain": [
       "(381439, 9)"
      ]
     },
     "execution_count": 71,
     "metadata": {},
     "output_type": "execute_result"
    }
   ],
   "source": [
    "# Display the shape of the dataset to track changes\n",
    "df_merged1.shape"
   ]
  },
  {
   "cell_type": "code",
   "execution_count": 72,
   "id": "45e3bee1-eeb1-42eb-a9d4-e558939d626b",
   "metadata": {
    "colab": {
     "base_uri": "https://localhost:8080/"
    },
    "executionInfo": {
     "elapsed": 447,
     "status": "ok",
     "timestamp": 1737737487150,
     "user": {
      "displayName": "Medhansh Jain",
      "userId": "15789660724571206766"
     },
     "user_tz": -330
    },
    "id": "45e3bee1-eeb1-42eb-a9d4-e558939d626b",
    "outputId": "53890fb3-1cd3-491e-e2a6-45576a6827f4"
   },
   "outputs": [
    {
     "data": {
      "text/plain": [
       "(241813, 9)"
      ]
     },
     "execution_count": 72,
     "metadata": {},
     "output_type": "execute_result"
    }
   ],
   "source": [
    "# Identify and handle duplicate rows\n",
    "df_merged1[df_merged1.duplicated].shape"
   ]
  },
  {
   "cell_type": "code",
   "execution_count": 73,
   "id": "f674e2b7-8d23-4622-95d3-473e6f5d001b",
   "metadata": {
    "executionInfo": {
     "elapsed": 5,
     "status": "ok",
     "timestamp": 1737737487150,
     "user": {
      "displayName": "Medhansh Jain",
      "userId": "15789660724571206766"
     },
     "user_tz": -330
    },
    "id": "f674e2b7-8d23-4622-95d3-473e6f5d001b"
   },
   "outputs": [],
   "source": [
    "# Drop duplicate rows\n",
    "df_merged1.drop_duplicates(subset=None, keep='first', inplace=True)"
   ]
  },
  {
   "cell_type": "code",
   "execution_count": 74,
   "id": "d39b9247-2b77-4fba-af3a-c2a52179867b",
   "metadata": {
    "colab": {
     "base_uri": "https://localhost:8080/"
    },
    "executionInfo": {
     "elapsed": 4,
     "status": "ok",
     "timestamp": 1737737487150,
     "user": {
      "displayName": "Medhansh Jain",
      "userId": "15789660724571206766"
     },
     "user_tz": -330
    },
    "id": "d39b9247-2b77-4fba-af3a-c2a52179867b",
    "outputId": "de12869d-b6d3-444f-9d2b-a57a11652a3d"
   },
   "outputs": [
    {
     "data": {
      "text/plain": [
       "(0, 9)"
      ]
     },
     "execution_count": 74,
     "metadata": {},
     "output_type": "execute_result"
    }
   ],
   "source": [
    "# Identify and handle duplicate rows\n",
    "df_merged1[df_merged1.duplicated].shape"
   ]
  },
  {
   "cell_type": "code",
   "execution_count": 75,
   "id": "60a73ad6-8536-45cd-9ee7-c1ca73e1e204",
   "metadata": {
    "colab": {
     "base_uri": "https://localhost:8080/"
    },
    "executionInfo": {
     "elapsed": 3,
     "status": "ok",
     "timestamp": 1737737487150,
     "user": {
      "displayName": "Medhansh Jain",
      "userId": "15789660724571206766"
     },
     "user_tz": -330
    },
    "id": "60a73ad6-8536-45cd-9ee7-c1ca73e1e204",
    "outputId": "159998e0-10c1-424c-cfae-f2a388ee16d9"
   },
   "outputs": [
    {
     "data": {
      "text/plain": [
       "(139626, 9)"
      ]
     },
     "execution_count": 75,
     "metadata": {},
     "output_type": "execute_result"
    }
   ],
   "source": [
    "# Display the shape of the dataset to track changes\n",
    "df_merged1.shape"
   ]
  },
  {
   "cell_type": "code",
   "execution_count": 76,
   "id": "uCPl40hOKkiE",
   "metadata": {
    "colab": {
     "base_uri": "https://localhost:8080/",
     "height": 210
    },
    "executionInfo": {
     "elapsed": 2,
     "status": "ok",
     "timestamp": 1737737487150,
     "user": {
      "displayName": "Medhansh Jain",
      "userId": "15789660724571206766"
     },
     "user_tz": -330
    },
    "id": "uCPl40hOKkiE",
    "outputId": "0b0e0c75-a27d-4ecd-b27a-6ff1462cb602"
   },
   "outputs": [
    {
     "data": {
      "text/html": [
       "<div>\n",
       "<style scoped>\n",
       "    .dataframe tbody tr th:only-of-type {\n",
       "        vertical-align: middle;\n",
       "    }\n",
       "\n",
       "    .dataframe tbody tr th {\n",
       "        vertical-align: top;\n",
       "    }\n",
       "\n",
       "    .dataframe thead th {\n",
       "        text-align: right;\n",
       "    }\n",
       "</style>\n",
       "<table border=\"1\" class=\"dataframe\">\n",
       "  <thead>\n",
       "    <tr style=\"text-align: right;\">\n",
       "      <th></th>\n",
       "      <th>count</th>\n",
       "    </tr>\n",
       "    <tr>\n",
       "      <th>Study Status</th>\n",
       "      <th></th>\n",
       "    </tr>\n",
       "  </thead>\n",
       "  <tbody>\n",
       "    <tr>\n",
       "      <th>COMPLETED</th>\n",
       "      <td>121262</td>\n",
       "    </tr>\n",
       "    <tr>\n",
       "      <th>TERMINATED</th>\n",
       "      <td>18359</td>\n",
       "    </tr>\n",
       "    <tr>\n",
       "      <th>SUSPENDED</th>\n",
       "      <td>5</td>\n",
       "    </tr>\n",
       "  </tbody>\n",
       "</table>\n",
       "</div><br><label><b>dtype:</b> int64</label>"
      ],
      "text/plain": [
       "Study Status\n",
       "COMPLETED     121262\n",
       "TERMINATED     18359\n",
       "SUSPENDED          5\n",
       "Name: count, dtype: int64"
      ]
     },
     "execution_count": 76,
     "metadata": {},
     "output_type": "execute_result"
    }
   ],
   "source": [
    "df_merged1['Study Status'].value_counts()"
   ]
  },
  {
   "cell_type": "code",
   "execution_count": 77,
   "id": "dc21fdc9-4ed3-4dba-b9e0-e1b4564959a0",
   "metadata": {
    "executionInfo": {
     "elapsed": 408,
     "status": "ok",
     "timestamp": 1737737487556,
     "user": {
      "displayName": "Medhansh Jain",
      "userId": "15789660724571206766"
     },
     "user_tz": -330
    },
    "id": "dc21fdc9-4ed3-4dba-b9e0-e1b4564959a0"
   },
   "outputs": [],
   "source": [
    "# Merge datasets to combine relevant information\n",
    "df_merged2 = df_merged1.merge(eligibilities, how='left', left_on='NCT Number', right_on='nct_id')"
   ]
  },
  {
   "cell_type": "code",
   "execution_count": 78,
   "id": "8c792893-d49c-4112-ad85-bae23e189458",
   "metadata": {
    "colab": {
     "base_uri": "https://localhost:8080/"
    },
    "executionInfo": {
     "elapsed": 4,
     "status": "ok",
     "timestamp": 1737737487556,
     "user": {
      "displayName": "Medhansh Jain",
      "userId": "15789660724571206766"
     },
     "user_tz": -330
    },
    "id": "8c792893-d49c-4112-ad85-bae23e189458",
    "outputId": "06474fde-3ede-49dc-dce7-ab2271d593d9"
   },
   "outputs": [
    {
     "data": {
      "text/plain": [
       "(139626, 15)"
      ]
     },
     "execution_count": 78,
     "metadata": {},
     "output_type": "execute_result"
    }
   ],
   "source": [
    "# Display the shape of the dataset to track changes\n",
    "df_merged2.shape"
   ]
  },
  {
   "cell_type": "code",
   "execution_count": 79,
   "id": "ff44e616-44d6-4b17-912a-a0d56878f12f",
   "metadata": {
    "colab": {
     "base_uri": "https://localhost:8080/"
    },
    "executionInfo": {
     "elapsed": 4,
     "status": "ok",
     "timestamp": 1737737487556,
     "user": {
      "displayName": "Medhansh Jain",
      "userId": "15789660724571206766"
     },
     "user_tz": -330
    },
    "id": "ff44e616-44d6-4b17-912a-a0d56878f12f",
    "outputId": "5ae26275-8cd9-40b8-c278-23362fe82d59"
   },
   "outputs": [
    {
     "name": "stdout",
     "output_type": "stream",
     "text": [
      "<class 'pandas.core.frame.DataFrame'>\n",
      "RangeIndex: 139626 entries, 0 to 139625\n",
      "Data columns (total 15 columns):\n",
      " #   Column              Non-Null Count   Dtype  \n",
      "---  ------              --------------   -----  \n",
      " 0   NCT Number          139626 non-null  object \n",
      " 1   Study Status        139626 non-null  object \n",
      " 2   Study Results       139626 non-null  object \n",
      " 3   Sex                 139626 non-null  object \n",
      " 4   Age                 139626 non-null  object \n",
      " 5   Enrollment          139626 non-null  float64\n",
      " 6   Funder Type         139626 non-null  object \n",
      " 7   Study Type          139626 non-null  object \n",
      " 8   count               139626 non-null  float64\n",
      " 9   nct_id              139501 non-null  object \n",
      " 10  gender              139501 non-null  object \n",
      " 11  healthy_volunteers  139501 non-null  object \n",
      " 12  adult               139501 non-null  object \n",
      " 13  child               139501 non-null  object \n",
      " 14  older_adult         139501 non-null  object \n",
      "dtypes: float64(2), object(13)\n",
      "memory usage: 16.0+ MB\n"
     ]
    }
   ],
   "source": [
    "df_merged2.info()"
   ]
  },
  {
   "cell_type": "code",
   "execution_count": 80,
   "id": "9d9cd066-f909-4383-a546-8d556a03180d",
   "metadata": {
    "colab": {
     "base_uri": "https://localhost:8080/",
     "height": 554
    },
    "executionInfo": {
     "elapsed": 2,
     "status": "ok",
     "timestamp": 1737737487556,
     "user": {
      "displayName": "Medhansh Jain",
      "userId": "15789660724571206766"
     },
     "user_tz": -330
    },
    "id": "9d9cd066-f909-4383-a546-8d556a03180d",
    "outputId": "18e50777-73c8-4327-d2da-1224fefa400d"
   },
   "outputs": [
    {
     "data": {
      "text/html": [
       "<div>\n",
       "<style scoped>\n",
       "    .dataframe tbody tr th:only-of-type {\n",
       "        vertical-align: middle;\n",
       "    }\n",
       "\n",
       "    .dataframe tbody tr th {\n",
       "        vertical-align: top;\n",
       "    }\n",
       "\n",
       "    .dataframe thead th {\n",
       "        text-align: right;\n",
       "    }\n",
       "</style>\n",
       "<table border=\"1\" class=\"dataframe\">\n",
       "  <thead>\n",
       "    <tr style=\"text-align: right;\">\n",
       "      <th></th>\n",
       "      <th>0</th>\n",
       "    </tr>\n",
       "  </thead>\n",
       "  <tbody>\n",
       "    <tr>\n",
       "      <th>NCT Number</th>\n",
       "      <td>0</td>\n",
       "    </tr>\n",
       "    <tr>\n",
       "      <th>Study Status</th>\n",
       "      <td>0</td>\n",
       "    </tr>\n",
       "    <tr>\n",
       "      <th>Study Results</th>\n",
       "      <td>0</td>\n",
       "    </tr>\n",
       "    <tr>\n",
       "      <th>Sex</th>\n",
       "      <td>0</td>\n",
       "    </tr>\n",
       "    <tr>\n",
       "      <th>Age</th>\n",
       "      <td>0</td>\n",
       "    </tr>\n",
       "    <tr>\n",
       "      <th>Enrollment</th>\n",
       "      <td>0</td>\n",
       "    </tr>\n",
       "    <tr>\n",
       "      <th>Funder Type</th>\n",
       "      <td>0</td>\n",
       "    </tr>\n",
       "    <tr>\n",
       "      <th>Study Type</th>\n",
       "      <td>0</td>\n",
       "    </tr>\n",
       "    <tr>\n",
       "      <th>count</th>\n",
       "      <td>0</td>\n",
       "    </tr>\n",
       "    <tr>\n",
       "      <th>nct_id</th>\n",
       "      <td>125</td>\n",
       "    </tr>\n",
       "    <tr>\n",
       "      <th>gender</th>\n",
       "      <td>125</td>\n",
       "    </tr>\n",
       "    <tr>\n",
       "      <th>healthy_volunteers</th>\n",
       "      <td>125</td>\n",
       "    </tr>\n",
       "    <tr>\n",
       "      <th>adult</th>\n",
       "      <td>125</td>\n",
       "    </tr>\n",
       "    <tr>\n",
       "      <th>child</th>\n",
       "      <td>125</td>\n",
       "    </tr>\n",
       "    <tr>\n",
       "      <th>older_adult</th>\n",
       "      <td>125</td>\n",
       "    </tr>\n",
       "  </tbody>\n",
       "</table>\n",
       "</div><br><label><b>dtype:</b> int64</label>"
      ],
      "text/plain": [
       "NCT Number              0\n",
       "Study Status            0\n",
       "Study Results           0\n",
       "Sex                     0\n",
       "Age                     0\n",
       "Enrollment              0\n",
       "Funder Type             0\n",
       "Study Type              0\n",
       "count                   0\n",
       "nct_id                125\n",
       "gender                125\n",
       "healthy_volunteers    125\n",
       "adult                 125\n",
       "child                 125\n",
       "older_adult           125\n",
       "dtype: int64"
      ]
     },
     "execution_count": 80,
     "metadata": {},
     "output_type": "execute_result"
    }
   ],
   "source": [
    "# Check for missing values in the dataset\n",
    "df_merged2.isnull().sum()"
   ]
  },
  {
   "cell_type": "code",
   "execution_count": 81,
   "id": "923320f1-e929-4149-a1cc-04b2394f20a6",
   "metadata": {
    "executionInfo": {
     "elapsed": 2,
     "status": "ok",
     "timestamp": 1737737487556,
     "user": {
      "displayName": "Medhansh Jain",
      "userId": "15789660724571206766"
     },
     "user_tz": -330
    },
    "id": "923320f1-e929-4149-a1cc-04b2394f20a6"
   },
   "outputs": [],
   "source": [
    "# Drop irrelevant columns to streamline the dataset\n",
    "df_merged2.drop(['nct_id'],axis=1,inplace=True)"
   ]
  },
  {
   "cell_type": "code",
   "execution_count": 82,
   "id": "4a2db265-e682-43bc-af0b-46ff711b6521",
   "metadata": {
    "executionInfo": {
     "elapsed": 870,
     "status": "ok",
     "timestamp": 1737737488424,
     "user": {
      "displayName": "Medhansh Jain",
      "userId": "15789660724571206766"
     },
     "user_tz": -330
    },
    "id": "4a2db265-e682-43bc-af0b-46ff711b6521"
   },
   "outputs": [],
   "source": [
    "# Drop Rows with missing values\n",
    "df_merged2.dropna(inplace=True)"
   ]
  },
  {
   "cell_type": "code",
   "execution_count": 83,
   "id": "4b91c87c-b089-4d81-85ab-7e7a33e593ab",
   "metadata": {
    "colab": {
     "base_uri": "https://localhost:8080/"
    },
    "executionInfo": {
     "elapsed": 7,
     "status": "ok",
     "timestamp": 1737737488424,
     "user": {
      "displayName": "Medhansh Jain",
      "userId": "15789660724571206766"
     },
     "user_tz": -330
    },
    "id": "4b91c87c-b089-4d81-85ab-7e7a33e593ab",
    "outputId": "9e47508b-21e7-4720-8658-6420ffb98b9c"
   },
   "outputs": [
    {
     "data": {
      "text/plain": [
       "(139501, 14)"
      ]
     },
     "execution_count": 83,
     "metadata": {},
     "output_type": "execute_result"
    }
   ],
   "source": [
    "# Display the shape of the dataset to track changes\n",
    "df_merged2.shape"
   ]
  },
  {
   "cell_type": "code",
   "execution_count": 84,
   "id": "fe1194a4-2f3b-4ede-9dd6-33ef6639f729",
   "metadata": {
    "colab": {
     "base_uri": "https://localhost:8080/"
    },
    "executionInfo": {
     "elapsed": 6,
     "status": "ok",
     "timestamp": 1737737488424,
     "user": {
      "displayName": "Medhansh Jain",
      "userId": "15789660724571206766"
     },
     "user_tz": -330
    },
    "id": "fe1194a4-2f3b-4ede-9dd6-33ef6639f729",
    "outputId": "c8613ecb-78c2-42d7-e8f3-2a46d7492d55"
   },
   "outputs": [
    {
     "data": {
      "text/plain": [
       "(0, 14)"
      ]
     },
     "execution_count": 84,
     "metadata": {},
     "output_type": "execute_result"
    }
   ],
   "source": [
    "# Identify and handle duplicate rows\n",
    "df_merged2[df_merged2.duplicated].shape"
   ]
  },
  {
   "cell_type": "code",
   "execution_count": 85,
   "id": "MGoGVr7XLB9g",
   "metadata": {
    "colab": {
     "base_uri": "https://localhost:8080/",
     "height": 210
    },
    "executionInfo": {
     "elapsed": 5,
     "status": "ok",
     "timestamp": 1737737488424,
     "user": {
      "displayName": "Medhansh Jain",
      "userId": "15789660724571206766"
     },
     "user_tz": -330
    },
    "id": "MGoGVr7XLB9g",
    "outputId": "1deb1cfa-4e18-418b-859f-eeccd0334665"
   },
   "outputs": [
    {
     "data": {
      "text/html": [
       "<div>\n",
       "<style scoped>\n",
       "    .dataframe tbody tr th:only-of-type {\n",
       "        vertical-align: middle;\n",
       "    }\n",
       "\n",
       "    .dataframe tbody tr th {\n",
       "        vertical-align: top;\n",
       "    }\n",
       "\n",
       "    .dataframe thead th {\n",
       "        text-align: right;\n",
       "    }\n",
       "</style>\n",
       "<table border=\"1\" class=\"dataframe\">\n",
       "  <thead>\n",
       "    <tr style=\"text-align: right;\">\n",
       "      <th></th>\n",
       "      <th>count</th>\n",
       "    </tr>\n",
       "    <tr>\n",
       "      <th>Study Status</th>\n",
       "      <th></th>\n",
       "    </tr>\n",
       "  </thead>\n",
       "  <tbody>\n",
       "    <tr>\n",
       "      <th>COMPLETED</th>\n",
       "      <td>121138</td>\n",
       "    </tr>\n",
       "    <tr>\n",
       "      <th>TERMINATED</th>\n",
       "      <td>18358</td>\n",
       "    </tr>\n",
       "    <tr>\n",
       "      <th>SUSPENDED</th>\n",
       "      <td>5</td>\n",
       "    </tr>\n",
       "  </tbody>\n",
       "</table>\n",
       "</div><br><label><b>dtype:</b> int64</label>"
      ],
      "text/plain": [
       "Study Status\n",
       "COMPLETED     121138\n",
       "TERMINATED     18358\n",
       "SUSPENDED          5\n",
       "Name: count, dtype: int64"
      ]
     },
     "execution_count": 85,
     "metadata": {},
     "output_type": "execute_result"
    }
   ],
   "source": [
    "df_merged2['Study Status'].value_counts()"
   ]
  },
  {
   "cell_type": "code",
   "execution_count": 86,
   "id": "42e14105-9688-4853-afe6-b6c8264f6316",
   "metadata": {
    "executionInfo": {
     "elapsed": 4,
     "status": "ok",
     "timestamp": 1737737488424,
     "user": {
      "displayName": "Medhansh Jain",
      "userId": "15789660724571206766"
     },
     "user_tz": -330
    },
    "id": "42e14105-9688-4853-afe6-b6c8264f6316"
   },
   "outputs": [],
   "source": [
    "# Merge datasets to combine relevant information\n",
    "df_merged3 = df_merged2.merge(facilities, how='left', left_on='NCT Number', right_on='nct_id')"
   ]
  },
  {
   "cell_type": "code",
   "execution_count": 87,
   "id": "2de81c9f-b342-4b35-b407-e11d0b4a5e80",
   "metadata": {
    "colab": {
     "base_uri": "https://localhost:8080/"
    },
    "executionInfo": {
     "elapsed": 4,
     "status": "ok",
     "timestamp": 1737737488424,
     "user": {
      "displayName": "Medhansh Jain",
      "userId": "15789660724571206766"
     },
     "user_tz": -330
    },
    "id": "2de81c9f-b342-4b35-b407-e11d0b4a5e80",
    "outputId": "376f1a6c-7a5f-4f85-dd09-3dc6c6183703"
   },
   "outputs": [
    {
     "data": {
      "text/plain": [
       "(139501, 16)"
      ]
     },
     "execution_count": 87,
     "metadata": {},
     "output_type": "execute_result"
    }
   ],
   "source": [
    "# Display the shape of the dataset to track changes\n",
    "df_merged3.shape"
   ]
  },
  {
   "cell_type": "code",
   "execution_count": 88,
   "id": "f507be2a-61d9-4b02-928c-68d772eae0a4",
   "metadata": {
    "colab": {
     "base_uri": "https://localhost:8080/"
    },
    "executionInfo": {
     "elapsed": 3,
     "status": "ok",
     "timestamp": 1737737488424,
     "user": {
      "displayName": "Medhansh Jain",
      "userId": "15789660724571206766"
     },
     "user_tz": -330
    },
    "id": "f507be2a-61d9-4b02-928c-68d772eae0a4",
    "outputId": "ee416a86-b395-4770-90e4-2385a840f7bb"
   },
   "outputs": [
    {
     "name": "stdout",
     "output_type": "stream",
     "text": [
      "<class 'pandas.core.frame.DataFrame'>\n",
      "RangeIndex: 139501 entries, 0 to 139500\n",
      "Data columns (total 16 columns):\n",
      " #   Column              Non-Null Count   Dtype  \n",
      "---  ------              --------------   -----  \n",
      " 0   NCT Number          139501 non-null  object \n",
      " 1   Study Status        139501 non-null  object \n",
      " 2   Study Results       139501 non-null  object \n",
      " 3   Sex                 139501 non-null  object \n",
      " 4   Age                 139501 non-null  object \n",
      " 5   Enrollment          139501 non-null  float64\n",
      " 6   Funder Type         139501 non-null  object \n",
      " 7   Study Type          139501 non-null  object \n",
      " 8   count               139501 non-null  float64\n",
      " 9   gender              139501 non-null  object \n",
      " 10  healthy_volunteers  139501 non-null  object \n",
      " 11  adult               139501 non-null  object \n",
      " 12  child               139501 non-null  object \n",
      " 13  older_adult         139501 non-null  object \n",
      " 14  nct_id              0 non-null       object \n",
      " 15  status              0 non-null       object \n",
      "dtypes: float64(2), object(14)\n",
      "memory usage: 17.0+ MB\n"
     ]
    }
   ],
   "source": [
    "df_merged3.info()"
   ]
  },
  {
   "cell_type": "code",
   "execution_count": 89,
   "id": "774c6316-c772-4367-8a4d-0d4ae0e11393",
   "metadata": {
    "colab": {
     "base_uri": "https://localhost:8080/",
     "height": 586
    },
    "executionInfo": {
     "elapsed": 505,
     "status": "ok",
     "timestamp": 1737737488927,
     "user": {
      "displayName": "Medhansh Jain",
      "userId": "15789660724571206766"
     },
     "user_tz": -330
    },
    "id": "774c6316-c772-4367-8a4d-0d4ae0e11393",
    "outputId": "95d37308-04c6-482b-8b79-1348af94a164"
   },
   "outputs": [
    {
     "data": {
      "text/html": [
       "<div>\n",
       "<style scoped>\n",
       "    .dataframe tbody tr th:only-of-type {\n",
       "        vertical-align: middle;\n",
       "    }\n",
       "\n",
       "    .dataframe tbody tr th {\n",
       "        vertical-align: top;\n",
       "    }\n",
       "\n",
       "    .dataframe thead th {\n",
       "        text-align: right;\n",
       "    }\n",
       "</style>\n",
       "<table border=\"1\" class=\"dataframe\">\n",
       "  <thead>\n",
       "    <tr style=\"text-align: right;\">\n",
       "      <th></th>\n",
       "      <th>0</th>\n",
       "    </tr>\n",
       "  </thead>\n",
       "  <tbody>\n",
       "    <tr>\n",
       "      <th>NCT Number</th>\n",
       "      <td>0</td>\n",
       "    </tr>\n",
       "    <tr>\n",
       "      <th>Study Status</th>\n",
       "      <td>0</td>\n",
       "    </tr>\n",
       "    <tr>\n",
       "      <th>Study Results</th>\n",
       "      <td>0</td>\n",
       "    </tr>\n",
       "    <tr>\n",
       "      <th>Sex</th>\n",
       "      <td>0</td>\n",
       "    </tr>\n",
       "    <tr>\n",
       "      <th>Age</th>\n",
       "      <td>0</td>\n",
       "    </tr>\n",
       "    <tr>\n",
       "      <th>Enrollment</th>\n",
       "      <td>0</td>\n",
       "    </tr>\n",
       "    <tr>\n",
       "      <th>Funder Type</th>\n",
       "      <td>0</td>\n",
       "    </tr>\n",
       "    <tr>\n",
       "      <th>Study Type</th>\n",
       "      <td>0</td>\n",
       "    </tr>\n",
       "    <tr>\n",
       "      <th>count</th>\n",
       "      <td>0</td>\n",
       "    </tr>\n",
       "    <tr>\n",
       "      <th>gender</th>\n",
       "      <td>0</td>\n",
       "    </tr>\n",
       "    <tr>\n",
       "      <th>healthy_volunteers</th>\n",
       "      <td>0</td>\n",
       "    </tr>\n",
       "    <tr>\n",
       "      <th>adult</th>\n",
       "      <td>0</td>\n",
       "    </tr>\n",
       "    <tr>\n",
       "      <th>child</th>\n",
       "      <td>0</td>\n",
       "    </tr>\n",
       "    <tr>\n",
       "      <th>older_adult</th>\n",
       "      <td>0</td>\n",
       "    </tr>\n",
       "    <tr>\n",
       "      <th>nct_id</th>\n",
       "      <td>139501</td>\n",
       "    </tr>\n",
       "    <tr>\n",
       "      <th>status</th>\n",
       "      <td>139501</td>\n",
       "    </tr>\n",
       "  </tbody>\n",
       "</table>\n",
       "</div><br><label><b>dtype:</b> int64</label>"
      ],
      "text/plain": [
       "NCT Number                 0\n",
       "Study Status               0\n",
       "Study Results              0\n",
       "Sex                        0\n",
       "Age                        0\n",
       "Enrollment                 0\n",
       "Funder Type                0\n",
       "Study Type                 0\n",
       "count                      0\n",
       "gender                     0\n",
       "healthy_volunteers         0\n",
       "adult                      0\n",
       "child                      0\n",
       "older_adult                0\n",
       "nct_id                139501\n",
       "status                139501\n",
       "dtype: int64"
      ]
     },
     "execution_count": 89,
     "metadata": {},
     "output_type": "execute_result"
    }
   ],
   "source": [
    "# Check for missing values in the dataset\n",
    "df_merged3.isnull().sum()"
   ]
  },
  {
   "cell_type": "code",
   "execution_count": 90,
   "id": "0857f200-8863-485a-9f68-6c2bd06c1fcb",
   "metadata": {
    "executionInfo": {
     "elapsed": 7,
     "status": "ok",
     "timestamp": 1737737488927,
     "user": {
      "displayName": "Medhansh Jain",
      "userId": "15789660724571206766"
     },
     "user_tz": -330
    },
    "id": "0857f200-8863-485a-9f68-6c2bd06c1fcb"
   },
   "outputs": [],
   "source": [
    "# Drop irrelevant columns to streamline the dataset\n",
    "df_merged3.drop(['status','nct_id'],axis=1,inplace=True)"
   ]
  },
  {
   "cell_type": "code",
   "execution_count": 91,
   "id": "b59becd5-ab4e-491d-aaac-3da84d7caa35",
   "metadata": {
    "colab": {
     "base_uri": "https://localhost:8080/"
    },
    "executionInfo": {
     "elapsed": 6,
     "status": "ok",
     "timestamp": 1737737488927,
     "user": {
      "displayName": "Medhansh Jain",
      "userId": "15789660724571206766"
     },
     "user_tz": -330
    },
    "id": "b59becd5-ab4e-491d-aaac-3da84d7caa35",
    "outputId": "9f77a52f-bb69-4944-933e-e9111cb8fe54"
   },
   "outputs": [
    {
     "data": {
      "text/plain": [
       "(139501, 14)"
      ]
     },
     "execution_count": 91,
     "metadata": {},
     "output_type": "execute_result"
    }
   ],
   "source": [
    "# Display the shape of the dataset to track changes\n",
    "df_merged3.shape"
   ]
  },
  {
   "cell_type": "code",
   "execution_count": 92,
   "id": "c18e3b96-ad1f-4460-8e35-71b5e4dee72d",
   "metadata": {
    "colab": {
     "base_uri": "https://localhost:8080/"
    },
    "executionInfo": {
     "elapsed": 5,
     "status": "ok",
     "timestamp": 1737737488927,
     "user": {
      "displayName": "Medhansh Jain",
      "userId": "15789660724571206766"
     },
     "user_tz": -330
    },
    "id": "c18e3b96-ad1f-4460-8e35-71b5e4dee72d",
    "outputId": "e09088e6-8f9d-4750-8331-69134517e24b"
   },
   "outputs": [
    {
     "data": {
      "text/plain": [
       "(0, 14)"
      ]
     },
     "execution_count": 92,
     "metadata": {},
     "output_type": "execute_result"
    }
   ],
   "source": [
    "# Identify and handle duplicate rows\n",
    "df_merged3[df_merged3.duplicated].shape"
   ]
  },
  {
   "cell_type": "code",
   "execution_count": 93,
   "id": "0JvccX54Lmns",
   "metadata": {
    "colab": {
     "base_uri": "https://localhost:8080/",
     "height": 210
    },
    "executionInfo": {
     "elapsed": 4,
     "status": "ok",
     "timestamp": 1737737488927,
     "user": {
      "displayName": "Medhansh Jain",
      "userId": "15789660724571206766"
     },
     "user_tz": -330
    },
    "id": "0JvccX54Lmns",
    "outputId": "92ef12da-35b9-4515-8f0a-f60821ce0f4d"
   },
   "outputs": [
    {
     "data": {
      "text/html": [
       "<div>\n",
       "<style scoped>\n",
       "    .dataframe tbody tr th:only-of-type {\n",
       "        vertical-align: middle;\n",
       "    }\n",
       "\n",
       "    .dataframe tbody tr th {\n",
       "        vertical-align: top;\n",
       "    }\n",
       "\n",
       "    .dataframe thead th {\n",
       "        text-align: right;\n",
       "    }\n",
       "</style>\n",
       "<table border=\"1\" class=\"dataframe\">\n",
       "  <thead>\n",
       "    <tr style=\"text-align: right;\">\n",
       "      <th></th>\n",
       "      <th>count</th>\n",
       "    </tr>\n",
       "    <tr>\n",
       "      <th>Study Status</th>\n",
       "      <th></th>\n",
       "    </tr>\n",
       "  </thead>\n",
       "  <tbody>\n",
       "    <tr>\n",
       "      <th>COMPLETED</th>\n",
       "      <td>121138</td>\n",
       "    </tr>\n",
       "    <tr>\n",
       "      <th>TERMINATED</th>\n",
       "      <td>18358</td>\n",
       "    </tr>\n",
       "    <tr>\n",
       "      <th>SUSPENDED</th>\n",
       "      <td>5</td>\n",
       "    </tr>\n",
       "  </tbody>\n",
       "</table>\n",
       "</div><br><label><b>dtype:</b> int64</label>"
      ],
      "text/plain": [
       "Study Status\n",
       "COMPLETED     121138\n",
       "TERMINATED     18358\n",
       "SUSPENDED          5\n",
       "Name: count, dtype: int64"
      ]
     },
     "execution_count": 93,
     "metadata": {},
     "output_type": "execute_result"
    }
   ],
   "source": [
    "df_merged3['Study Status'].value_counts()"
   ]
  },
  {
   "cell_type": "markdown",
   "id": "f8bc7134-b137-4d6c-a223-cc7099a7cabd",
   "metadata": {
    "id": "f8bc7134-b137-4d6c-a223-cc7099a7cabd"
   },
   "source": [
    "## **Splitting Reported_Events Dataset**\n",
    "---\n",
    "- The reported_events dataset contains a large number of rows, making it challenging to process all rows and merging them at once.\n",
    "- To address this, the dataset is split into three approximately equal parts for easier handling and analysis.\n",
    "- The steps involve calculating the number of rows per part, slicing the dataset accordingly, and appending each part to a list for further use.\n",
    "- Each part's size is displayed to verify the distribution."
   ]
  },
  {
   "cell_type": "code",
   "execution_count": 94,
   "id": "9524b334-45a2-45b7-a451-4f3ec8183d4b",
   "metadata": {
    "colab": {
     "base_uri": "https://localhost:8080/"
    },
    "executionInfo": {
     "elapsed": 4,
     "status": "ok",
     "timestamp": 1737737488927,
     "user": {
      "displayName": "Medhansh Jain",
      "userId": "15789660724571206766"
     },
     "user_tz": -330
    },
    "id": "9524b334-45a2-45b7-a451-4f3ec8183d4b",
    "outputId": "a142af5d-2731-44b4-ac39-895bc1976f9e"
   },
   "outputs": [
    {
     "name": "stdout",
     "output_type": "stream",
     "text": [
      "Part 1 has 1256682 rows\n",
      "Part 2 has 1256682 rows\n",
      "Part 3 has 1256682 rows\n"
     ]
    }
   ],
   "source": [
    "n = len(reported_events)  # Total number of rows\n",
    "parts = 3  # Number of parts\n",
    "rows_per_part = n // parts  # Number of rows per part\n",
    "\n",
    "# Split the DataFrame into 3 parts\n",
    "dfs = []  # List to store each part\n",
    "for i in range(parts):\n",
    "    start = i * rows_per_part\n",
    "    end = (i + 1) * rows_per_part if i != parts - 1 else n  # Include remaining rows in the last part\n",
    "    dfs.append(reported_events.iloc[start:end])  # Use 'reported_events' here\n",
    "\n",
    "# Access the parts\n",
    "for i, part in enumerate(dfs):\n",
    "    print(f\"Part {i+1} has {len(part)} rows\")"
   ]
  },
  {
   "cell_type": "code",
   "execution_count": 95,
   "id": "98e4e0dd-21ab-43de-a832-4d0156d3a78b",
   "metadata": {
    "executionInfo": {
     "elapsed": 3,
     "status": "ok",
     "timestamp": 1737737488927,
     "user": {
      "displayName": "Medhansh Jain",
      "userId": "15789660724571206766"
     },
     "user_tz": -330
    },
    "id": "98e4e0dd-21ab-43de-a832-4d0156d3a78b"
   },
   "outputs": [],
   "source": [
    "part_1 = dfs[0]"
   ]
  },
  {
   "cell_type": "code",
   "execution_count": 96,
   "id": "5797c12d-e414-4942-ba6f-bb4f807c24e6",
   "metadata": {
    "executionInfo": {
     "elapsed": 3137,
     "status": "ok",
     "timestamp": 1737737492061,
     "user": {
      "displayName": "Medhansh Jain",
      "userId": "15789660724571206766"
     },
     "user_tz": -330
    },
    "id": "5797c12d-e414-4942-ba6f-bb4f807c24e6"
   },
   "outputs": [],
   "source": [
    "# Merge datasets to combine relevant information\n",
    "df_merged4_1 = df_merged3.merge(part_1, how='left', left_on='NCT Number', right_on='nct_id')"
   ]
  },
  {
   "cell_type": "code",
   "execution_count": 97,
   "id": "11698b1a-b90c-4234-b7a7-18f845fc9faa",
   "metadata": {
    "colab": {
     "base_uri": "https://localhost:8080/"
    },
    "executionInfo": {
     "elapsed": 5,
     "status": "ok",
     "timestamp": 1737737492061,
     "user": {
      "displayName": "Medhansh Jain",
      "userId": "15789660724571206766"
     },
     "user_tz": -330
    },
    "id": "11698b1a-b90c-4234-b7a7-18f845fc9faa",
    "outputId": "5616dfa8-82b4-4e9e-d2e8-2d0ce70648df"
   },
   "outputs": [
    {
     "data": {
      "text/plain": [
       "(7434673, 22)"
      ]
     },
     "execution_count": 97,
     "metadata": {},
     "output_type": "execute_result"
    }
   ],
   "source": [
    "# Display the shape of the dataset to track changes\n",
    "df_merged4_1.shape"
   ]
  },
  {
   "cell_type": "code",
   "execution_count": 98,
   "id": "0ff62a7c-0ef7-4732-9b45-20896bedc154",
   "metadata": {
    "colab": {
     "base_uri": "https://localhost:8080/"
    },
    "executionInfo": {
     "elapsed": 3,
     "status": "ok",
     "timestamp": 1737737492061,
     "user": {
      "displayName": "Medhansh Jain",
      "userId": "15789660724571206766"
     },
     "user_tz": -330
    },
    "id": "0ff62a7c-0ef7-4732-9b45-20896bedc154",
    "outputId": "16683420-d1cb-4024-84e5-9bd67d4ba4a1"
   },
   "outputs": [
    {
     "name": "stdout",
     "output_type": "stream",
     "text": [
      "<class 'pandas.core.frame.DataFrame'>\n",
      "RangeIndex: 7434673 entries, 0 to 7434672\n",
      "Data columns (total 22 columns):\n",
      " #   Column               Dtype  \n",
      "---  ------               -----  \n",
      " 0   NCT Number           object \n",
      " 1   Study Status         object \n",
      " 2   Study Results        object \n",
      " 3   Sex                  object \n",
      " 4   Age                  object \n",
      " 5   Enrollment           float64\n",
      " 6   Funder Type          object \n",
      " 7   Study Type           object \n",
      " 8   count                float64\n",
      " 9   gender               object \n",
      " 10  healthy_volunteers   object \n",
      " 11  adult                object \n",
      " 12  child                object \n",
      " 13  older_adult          object \n",
      " 14  nct_id               object \n",
      " 15  event_type           object \n",
      " 16  subjects_affected    float64\n",
      " 17  subjects_at_risk     float64\n",
      " 18  event_count          float64\n",
      " 19  organ_system         object \n",
      " 20  frequency_threshold  float64\n",
      " 21  assessment           object \n",
      "dtypes: float64(6), object(16)\n",
      "memory usage: 1.2+ GB\n"
     ]
    }
   ],
   "source": [
    "df_merged4_1.info()"
   ]
  },
  {
   "cell_type": "code",
   "execution_count": 99,
   "id": "96b7d282-0355-4f60-b7e3-ab89df7bf0ad",
   "metadata": {
    "colab": {
     "base_uri": "https://localhost:8080/",
     "height": 774
    },
    "executionInfo": {
     "elapsed": 2796,
     "status": "ok",
     "timestamp": 1737737498909,
     "user": {
      "displayName": "Medhansh Jain",
      "userId": "15789660724571206766"
     },
     "user_tz": -330
    },
    "id": "96b7d282-0355-4f60-b7e3-ab89df7bf0ad",
    "outputId": "6d7633b9-53e0-4208-d42e-483563202a20"
   },
   "outputs": [
    {
     "data": {
      "text/html": [
       "<div>\n",
       "<style scoped>\n",
       "    .dataframe tbody tr th:only-of-type {\n",
       "        vertical-align: middle;\n",
       "    }\n",
       "\n",
       "    .dataframe tbody tr th {\n",
       "        vertical-align: top;\n",
       "    }\n",
       "\n",
       "    .dataframe thead th {\n",
       "        text-align: right;\n",
       "    }\n",
       "</style>\n",
       "<table border=\"1\" class=\"dataframe\">\n",
       "  <thead>\n",
       "    <tr style=\"text-align: right;\">\n",
       "      <th></th>\n",
       "      <th>0</th>\n",
       "    </tr>\n",
       "  </thead>\n",
       "  <tbody>\n",
       "    <tr>\n",
       "      <th>NCT Number</th>\n",
       "      <td>0</td>\n",
       "    </tr>\n",
       "    <tr>\n",
       "      <th>Study Status</th>\n",
       "      <td>0</td>\n",
       "    </tr>\n",
       "    <tr>\n",
       "      <th>Study Results</th>\n",
       "      <td>0</td>\n",
       "    </tr>\n",
       "    <tr>\n",
       "      <th>Sex</th>\n",
       "      <td>0</td>\n",
       "    </tr>\n",
       "    <tr>\n",
       "      <th>Age</th>\n",
       "      <td>0</td>\n",
       "    </tr>\n",
       "    <tr>\n",
       "      <th>Enrollment</th>\n",
       "      <td>0</td>\n",
       "    </tr>\n",
       "    <tr>\n",
       "      <th>Funder Type</th>\n",
       "      <td>0</td>\n",
       "    </tr>\n",
       "    <tr>\n",
       "      <th>Study Type</th>\n",
       "      <td>0</td>\n",
       "    </tr>\n",
       "    <tr>\n",
       "      <th>count</th>\n",
       "      <td>0</td>\n",
       "    </tr>\n",
       "    <tr>\n",
       "      <th>gender</th>\n",
       "      <td>0</td>\n",
       "    </tr>\n",
       "    <tr>\n",
       "      <th>healthy_volunteers</th>\n",
       "      <td>0</td>\n",
       "    </tr>\n",
       "    <tr>\n",
       "      <th>adult</th>\n",
       "      <td>0</td>\n",
       "    </tr>\n",
       "    <tr>\n",
       "      <th>child</th>\n",
       "      <td>0</td>\n",
       "    </tr>\n",
       "    <tr>\n",
       "      <th>older_adult</th>\n",
       "      <td>0</td>\n",
       "    </tr>\n",
       "    <tr>\n",
       "      <th>nct_id</th>\n",
       "      <td>120390</td>\n",
       "    </tr>\n",
       "    <tr>\n",
       "      <th>event_type</th>\n",
       "      <td>120390</td>\n",
       "    </tr>\n",
       "    <tr>\n",
       "      <th>subjects_affected</th>\n",
       "      <td>120390</td>\n",
       "    </tr>\n",
       "    <tr>\n",
       "      <th>subjects_at_risk</th>\n",
       "      <td>120390</td>\n",
       "    </tr>\n",
       "    <tr>\n",
       "      <th>event_count</th>\n",
       "      <td>120390</td>\n",
       "    </tr>\n",
       "    <tr>\n",
       "      <th>organ_system</th>\n",
       "      <td>120390</td>\n",
       "    </tr>\n",
       "    <tr>\n",
       "      <th>frequency_threshold</th>\n",
       "      <td>120390</td>\n",
       "    </tr>\n",
       "    <tr>\n",
       "      <th>assessment</th>\n",
       "      <td>120390</td>\n",
       "    </tr>\n",
       "  </tbody>\n",
       "</table>\n",
       "</div><br><label><b>dtype:</b> int64</label>"
      ],
      "text/plain": [
       "NCT Number                  0\n",
       "Study Status                0\n",
       "Study Results               0\n",
       "Sex                         0\n",
       "Age                         0\n",
       "Enrollment                  0\n",
       "Funder Type                 0\n",
       "Study Type                  0\n",
       "count                       0\n",
       "gender                      0\n",
       "healthy_volunteers          0\n",
       "adult                       0\n",
       "child                       0\n",
       "older_adult                 0\n",
       "nct_id                 120390\n",
       "event_type             120390\n",
       "subjects_affected      120390\n",
       "subjects_at_risk       120390\n",
       "event_count            120390\n",
       "organ_system           120390\n",
       "frequency_threshold    120390\n",
       "assessment             120390\n",
       "dtype: int64"
      ]
     },
     "execution_count": 99,
     "metadata": {},
     "output_type": "execute_result"
    }
   ],
   "source": [
    "# Identify and handle duplicate rows\n",
    "df_merged4_1.isnull().sum()"
   ]
  },
  {
   "cell_type": "code",
   "execution_count": 100,
   "id": "8b9e6b16-a250-4b6d-b8a7-f4c8f8ed4416",
   "metadata": {
    "executionInfo": {
     "elapsed": 12744,
     "status": "ok",
     "timestamp": 1737737511651,
     "user": {
      "displayName": "Medhansh Jain",
      "userId": "15789660724571206766"
     },
     "user_tz": -330
    },
    "id": "8b9e6b16-a250-4b6d-b8a7-f4c8f8ed4416"
   },
   "outputs": [],
   "source": [
    "# Drop duplicate rows\n",
    "df_merged4_1.drop_duplicates(subset=None, keep='first', inplace=True)"
   ]
  },
  {
   "cell_type": "code",
   "execution_count": 101,
   "id": "465cd1b6-e69f-43e6-bdfa-1ca0c647bceb",
   "metadata": {
    "colab": {
     "base_uri": "https://localhost:8080/"
    },
    "executionInfo": {
     "elapsed": 3,
     "status": "ok",
     "timestamp": 1737737511652,
     "user": {
      "displayName": "Medhansh Jain",
      "userId": "15789660724571206766"
     },
     "user_tz": -330
    },
    "id": "465cd1b6-e69f-43e6-bdfa-1ca0c647bceb",
    "outputId": "fde9baf1-43a0-46bc-f228-a4b0534c8fa8"
   },
   "outputs": [
    {
     "data": {
      "text/plain": [
       "(2431247, 22)"
      ]
     },
     "execution_count": 101,
     "metadata": {},
     "output_type": "execute_result"
    }
   ],
   "source": [
    "# Display the shape of the dataset to track changes\n",
    "df_merged4_1.shape"
   ]
  },
  {
   "cell_type": "code",
   "execution_count": 102,
   "id": "13244734-4d81-4a11-9162-a8482af975f5",
   "metadata": {
    "executionInfo": {
     "elapsed": 1717,
     "status": "ok",
     "timestamp": 1737737515766,
     "user": {
      "displayName": "Medhansh Jain",
      "userId": "15789660724571206766"
     },
     "user_tz": -330
    },
    "id": "13244734-4d81-4a11-9162-a8482af975f5"
   },
   "outputs": [],
   "source": [
    "df_merged4_1.dropna(inplace=True)"
   ]
  },
  {
   "cell_type": "code",
   "execution_count": 103,
   "id": "aa4ce5cb-0def-4228-a2be-35fa3c06fa84",
   "metadata": {
    "executionInfo": {
     "elapsed": 717,
     "status": "ok",
     "timestamp": 1737737516482,
     "user": {
      "displayName": "Medhansh Jain",
      "userId": "15789660724571206766"
     },
     "user_tz": -330
    },
    "id": "aa4ce5cb-0def-4228-a2be-35fa3c06fa84"
   },
   "outputs": [],
   "source": [
    "# Drop irrelevant columns to streamline the dataset\n",
    "df_merged4_1.drop(['nct_id'],axis=1,inplace=True)"
   ]
  },
  {
   "cell_type": "code",
   "execution_count": 104,
   "id": "657b9428-88cb-45fa-bfa1-d4c4d667aa65",
   "metadata": {
    "colab": {
     "base_uri": "https://localhost:8080/"
    },
    "executionInfo": {
     "elapsed": 2139,
     "status": "ok",
     "timestamp": 1737737518620,
     "user": {
      "displayName": "Medhansh Jain",
      "userId": "15789660724571206766"
     },
     "user_tz": -330
    },
    "id": "657b9428-88cb-45fa-bfa1-d4c4d667aa65",
    "outputId": "a1b552cb-b984-44ef-d0dd-f0392199585c"
   },
   "outputs": [
    {
     "data": {
      "text/plain": [
       "(0, 21)"
      ]
     },
     "execution_count": 104,
     "metadata": {},
     "output_type": "execute_result"
    }
   ],
   "source": [
    "# Identify and handle duplicate rows\n",
    "df_merged4_1[df_merged4_1.duplicated].shape"
   ]
  },
  {
   "cell_type": "code",
   "execution_count": 105,
   "id": "bgZSVK7fNQ9E",
   "metadata": {
    "colab": {
     "base_uri": "https://localhost:8080/",
     "height": 210
    },
    "executionInfo": {
     "elapsed": 5,
     "status": "ok",
     "timestamp": 1737737518620,
     "user": {
      "displayName": "Medhansh Jain",
      "userId": "15789660724571206766"
     },
     "user_tz": -330
    },
    "id": "bgZSVK7fNQ9E",
    "outputId": "a7fd7bd2-7455-4cd3-ad64-09f4bdb46fac"
   },
   "outputs": [
    {
     "data": {
      "text/html": [
       "<div>\n",
       "<style scoped>\n",
       "    .dataframe tbody tr th:only-of-type {\n",
       "        vertical-align: middle;\n",
       "    }\n",
       "\n",
       "    .dataframe tbody tr th {\n",
       "        vertical-align: top;\n",
       "    }\n",
       "\n",
       "    .dataframe thead th {\n",
       "        text-align: right;\n",
       "    }\n",
       "</style>\n",
       "<table border=\"1\" class=\"dataframe\">\n",
       "  <thead>\n",
       "    <tr style=\"text-align: right;\">\n",
       "      <th></th>\n",
       "      <th>count</th>\n",
       "    </tr>\n",
       "    <tr>\n",
       "      <th>Study Status</th>\n",
       "      <th></th>\n",
       "    </tr>\n",
       "  </thead>\n",
       "  <tbody>\n",
       "    <tr>\n",
       "      <th>COMPLETED</th>\n",
       "      <td>1957866</td>\n",
       "    </tr>\n",
       "    <tr>\n",
       "      <th>TERMINATED</th>\n",
       "      <td>352950</td>\n",
       "    </tr>\n",
       "    <tr>\n",
       "      <th>SUSPENDED</th>\n",
       "      <td>41</td>\n",
       "    </tr>\n",
       "  </tbody>\n",
       "</table>\n",
       "</div><br><label><b>dtype:</b> int64</label>"
      ],
      "text/plain": [
       "Study Status\n",
       "COMPLETED     1957866\n",
       "TERMINATED     352950\n",
       "SUSPENDED          41\n",
       "Name: count, dtype: int64"
      ]
     },
     "execution_count": 105,
     "metadata": {},
     "output_type": "execute_result"
    }
   ],
   "source": [
    "df_merged4_1['Study Status'].value_counts()"
   ]
  },
  {
   "cell_type": "markdown",
   "id": "67bd81be-6439-44ae-9aab-39ca7cd66fc0",
   "metadata": {
    "id": "67bd81be-6439-44ae-9aab-39ca7cd66fc0"
   },
   "source": [
    "## **Export Merged Datasets**\n",
    "---\n",
    "- After cleaning and merging, the processed dataset is exported in a suitable format (e.g., CSV or Excel) for downstream tasks such as visualization or model training.\n",
    "- This ensures the prepared data is ready for further use in the project."
   ]
  },
  {
   "cell_type": "code",
   "execution_count": 107,
   "id": "1403ecf6-6c1e-4455-8732-aff7961ab2e2",
   "metadata": {
    "executionInfo": {
     "elapsed": 41974,
     "status": "ok",
     "timestamp": 1737737692360,
     "user": {
      "displayName": "Medhansh Jain",
      "userId": "15789660724571206766"
     },
     "user_tz": -330
    },
    "id": "1403ecf6-6c1e-4455-8732-aff7961ab2e2"
   },
   "outputs": [],
   "source": [
    "# Save the merged dataset\n",
    "df_merged4_1.to_csv('train.csv')"
   ]
  },
  {
   "cell_type": "code",
   "execution_count": 109,
   "id": "d3ddefc0-51c2-49df-baa6-ab3760cce47d",
   "metadata": {
    "colab": {
     "base_uri": "https://localhost:8080/",
     "height": 412
    },
    "executionInfo": {
     "elapsed": 10933,
     "status": "ok",
     "timestamp": 1737737714573,
     "user": {
      "displayName": "Medhansh Jain",
      "userId": "15789660724571206766"
     },
     "user_tz": -330
    },
    "id": "d3ddefc0-51c2-49df-baa6-ab3760cce47d",
    "outputId": "2c08278c-c91a-47f4-ece4-8fedddcd428b",
    "scrolled": true
   },
   "outputs": [
    {
     "data": {
      "application/vnd.google.colaboratory.intrinsic+json": {
       "type": "dataframe"
      },
      "text/html": [
       "\n",
       "  <div id=\"df-96525a1c-4d7d-4b4f-80d3-9820a4efd782\" class=\"colab-df-container\">\n",
       "    <div>\n",
       "<style scoped>\n",
       "    .dataframe tbody tr th:only-of-type {\n",
       "        vertical-align: middle;\n",
       "    }\n",
       "\n",
       "    .dataframe tbody tr th {\n",
       "        vertical-align: top;\n",
       "    }\n",
       "\n",
       "    .dataframe thead th {\n",
       "        text-align: right;\n",
       "    }\n",
       "</style>\n",
       "<table border=\"1\" class=\"dataframe\">\n",
       "  <thead>\n",
       "    <tr style=\"text-align: right;\">\n",
       "      <th></th>\n",
       "      <th>Unnamed: 0</th>\n",
       "      <th>NCT Number</th>\n",
       "      <th>Study Status</th>\n",
       "      <th>Study Results</th>\n",
       "      <th>Sex</th>\n",
       "      <th>Age</th>\n",
       "      <th>Enrollment</th>\n",
       "      <th>Funder Type</th>\n",
       "      <th>Study Type</th>\n",
       "      <th>count</th>\n",
       "      <th>...</th>\n",
       "      <th>adult</th>\n",
       "      <th>child</th>\n",
       "      <th>older_adult</th>\n",
       "      <th>event_type</th>\n",
       "      <th>subjects_affected</th>\n",
       "      <th>subjects_at_risk</th>\n",
       "      <th>event_count</th>\n",
       "      <th>organ_system</th>\n",
       "      <th>frequency_threshold</th>\n",
       "      <th>assessment</th>\n",
       "    </tr>\n",
       "  </thead>\n",
       "  <tbody>\n",
       "    <tr>\n",
       "      <th>0</th>\n",
       "      <td>27</td>\n",
       "      <td>NCT02572570</td>\n",
       "      <td>TERMINATED</td>\n",
       "      <td>YES</td>\n",
       "      <td>ALL</td>\n",
       "      <td>ADULT, OLDER_ADULT</td>\n",
       "      <td>27.0</td>\n",
       "      <td>OTHER</td>\n",
       "      <td>INTERVENTIONAL</td>\n",
       "      <td>27.0</td>\n",
       "      <td>...</td>\n",
       "      <td>t</td>\n",
       "      <td>f</td>\n",
       "      <td>t</td>\n",
       "      <td>other</td>\n",
       "      <td>1.0</td>\n",
       "      <td>27.0</td>\n",
       "      <td>1.0</td>\n",
       "      <td>Injury, poisoning and procedural complications</td>\n",
       "      <td>0.0</td>\n",
       "      <td>SYSTEMATIC_ASSESSMENT</td>\n",
       "    </tr>\n",
       "    <tr>\n",
       "      <th>1</th>\n",
       "      <td>30</td>\n",
       "      <td>NCT02572570</td>\n",
       "      <td>TERMINATED</td>\n",
       "      <td>YES</td>\n",
       "      <td>ALL</td>\n",
       "      <td>ADULT, OLDER_ADULT</td>\n",
       "      <td>27.0</td>\n",
       "      <td>OTHER</td>\n",
       "      <td>INTERVENTIONAL</td>\n",
       "      <td>27.0</td>\n",
       "      <td>...</td>\n",
       "      <td>t</td>\n",
       "      <td>f</td>\n",
       "      <td>t</td>\n",
       "      <td>other</td>\n",
       "      <td>2.0</td>\n",
       "      <td>27.0</td>\n",
       "      <td>2.0</td>\n",
       "      <td>Injury, poisoning and procedural complications</td>\n",
       "      <td>0.0</td>\n",
       "      <td>SYSTEMATIC_ASSESSMENT</td>\n",
       "    </tr>\n",
       "    <tr>\n",
       "      <th>2</th>\n",
       "      <td>36</td>\n",
       "      <td>NCT02572570</td>\n",
       "      <td>TERMINATED</td>\n",
       "      <td>YES</td>\n",
       "      <td>ALL</td>\n",
       "      <td>ADULT, OLDER_ADULT</td>\n",
       "      <td>27.0</td>\n",
       "      <td>OTHER</td>\n",
       "      <td>INTERVENTIONAL</td>\n",
       "      <td>27.0</td>\n",
       "      <td>...</td>\n",
       "      <td>t</td>\n",
       "      <td>f</td>\n",
       "      <td>t</td>\n",
       "      <td>other</td>\n",
       "      <td>1.0</td>\n",
       "      <td>27.0</td>\n",
       "      <td>1.0</td>\n",
       "      <td>Gastrointestinal disorders</td>\n",
       "      <td>0.0</td>\n",
       "      <td>SYSTEMATIC_ASSESSMENT</td>\n",
       "    </tr>\n",
       "    <tr>\n",
       "      <th>3</th>\n",
       "      <td>39</td>\n",
       "      <td>NCT02572570</td>\n",
       "      <td>TERMINATED</td>\n",
       "      <td>YES</td>\n",
       "      <td>ALL</td>\n",
       "      <td>ADULT, OLDER_ADULT</td>\n",
       "      <td>27.0</td>\n",
       "      <td>OTHER</td>\n",
       "      <td>INTERVENTIONAL</td>\n",
       "      <td>27.0</td>\n",
       "      <td>...</td>\n",
       "      <td>t</td>\n",
       "      <td>f</td>\n",
       "      <td>t</td>\n",
       "      <td>other</td>\n",
       "      <td>1.0</td>\n",
       "      <td>27.0</td>\n",
       "      <td>1.0</td>\n",
       "      <td>Infections and infestations</td>\n",
       "      <td>0.0</td>\n",
       "      <td>SYSTEMATIC_ASSESSMENT</td>\n",
       "    </tr>\n",
       "    <tr>\n",
       "      <th>4</th>\n",
       "      <td>42</td>\n",
       "      <td>NCT02572570</td>\n",
       "      <td>TERMINATED</td>\n",
       "      <td>YES</td>\n",
       "      <td>ALL</td>\n",
       "      <td>ADULT, OLDER_ADULT</td>\n",
       "      <td>27.0</td>\n",
       "      <td>OTHER</td>\n",
       "      <td>INTERVENTIONAL</td>\n",
       "      <td>27.0</td>\n",
       "      <td>...</td>\n",
       "      <td>t</td>\n",
       "      <td>f</td>\n",
       "      <td>t</td>\n",
       "      <td>other</td>\n",
       "      <td>1.0</td>\n",
       "      <td>27.0</td>\n",
       "      <td>1.0</td>\n",
       "      <td>Musculoskeletal and connective tissue disorders</td>\n",
       "      <td>0.0</td>\n",
       "      <td>SYSTEMATIC_ASSESSMENT</td>\n",
       "    </tr>\n",
       "  </tbody>\n",
       "</table>\n",
       "<p>5 rows × 22 columns</p>\n",
       "</div>\n",
       "    <div class=\"colab-df-buttons\">\n",
       "\n",
       "  <div class=\"colab-df-container\">\n",
       "    <button class=\"colab-df-convert\" onclick=\"convertToInteractive('df-96525a1c-4d7d-4b4f-80d3-9820a4efd782')\"\n",
       "            title=\"Convert this dataframe to an interactive table.\"\n",
       "            style=\"display:none;\">\n",
       "\n",
       "  <svg xmlns=\"http://www.w3.org/2000/svg\" height=\"24px\" viewBox=\"0 -960 960 960\">\n",
       "    <path d=\"M120-120v-720h720v720H120Zm60-500h600v-160H180v160Zm220 220h160v-160H400v160Zm0 220h160v-160H400v160ZM180-400h160v-160H180v160Zm440 0h160v-160H620v160ZM180-180h160v-160H180v160Zm440 0h160v-160H620v160Z\"/>\n",
       "  </svg>\n",
       "    </button>\n",
       "\n",
       "  <style>\n",
       "    .colab-df-container {\n",
       "      display:flex;\n",
       "      gap: 12px;\n",
       "    }\n",
       "\n",
       "    .colab-df-convert {\n",
       "      background-color: #E8F0FE;\n",
       "      border: none;\n",
       "      border-radius: 50%;\n",
       "      cursor: pointer;\n",
       "      display: none;\n",
       "      fill: #1967D2;\n",
       "      height: 32px;\n",
       "      padding: 0 0 0 0;\n",
       "      width: 32px;\n",
       "    }\n",
       "\n",
       "    .colab-df-convert:hover {\n",
       "      background-color: #E2EBFA;\n",
       "      box-shadow: 0px 1px 2px rgba(60, 64, 67, 0.3), 0px 1px 3px 1px rgba(60, 64, 67, 0.15);\n",
       "      fill: #174EA6;\n",
       "    }\n",
       "\n",
       "    .colab-df-buttons div {\n",
       "      margin-bottom: 4px;\n",
       "    }\n",
       "\n",
       "    [theme=dark] .colab-df-convert {\n",
       "      background-color: #3B4455;\n",
       "      fill: #D2E3FC;\n",
       "    }\n",
       "\n",
       "    [theme=dark] .colab-df-convert:hover {\n",
       "      background-color: #434B5C;\n",
       "      box-shadow: 0px 1px 3px 1px rgba(0, 0, 0, 0.15);\n",
       "      filter: drop-shadow(0px 1px 2px rgba(0, 0, 0, 0.3));\n",
       "      fill: #FFFFFF;\n",
       "    }\n",
       "  </style>\n",
       "\n",
       "    <script>\n",
       "      const buttonEl =\n",
       "        document.querySelector('#df-96525a1c-4d7d-4b4f-80d3-9820a4efd782 button.colab-df-convert');\n",
       "      buttonEl.style.display =\n",
       "        google.colab.kernel.accessAllowed ? 'block' : 'none';\n",
       "\n",
       "      async function convertToInteractive(key) {\n",
       "        const element = document.querySelector('#df-96525a1c-4d7d-4b4f-80d3-9820a4efd782');\n",
       "        const dataTable =\n",
       "          await google.colab.kernel.invokeFunction('convertToInteractive',\n",
       "                                                    [key], {});\n",
       "        if (!dataTable) return;\n",
       "\n",
       "        const docLinkHtml = 'Like what you see? Visit the ' +\n",
       "          '<a target=\"_blank\" href=https://colab.research.google.com/notebooks/data_table.ipynb>data table notebook</a>'\n",
       "          + ' to learn more about interactive tables.';\n",
       "        element.innerHTML = '';\n",
       "        dataTable['output_type'] = 'display_data';\n",
       "        await google.colab.output.renderOutput(dataTable, element);\n",
       "        const docLink = document.createElement('div');\n",
       "        docLink.innerHTML = docLinkHtml;\n",
       "        element.appendChild(docLink);\n",
       "      }\n",
       "    </script>\n",
       "  </div>\n",
       "\n",
       "\n",
       "<div id=\"df-767284c1-287b-468e-a5e7-784df13eb94a\">\n",
       "  <button class=\"colab-df-quickchart\" onclick=\"quickchart('df-767284c1-287b-468e-a5e7-784df13eb94a')\"\n",
       "            title=\"Suggest charts\"\n",
       "            style=\"display:none;\">\n",
       "\n",
       "<svg xmlns=\"http://www.w3.org/2000/svg\" height=\"24px\"viewBox=\"0 0 24 24\"\n",
       "     width=\"24px\">\n",
       "    <g>\n",
       "        <path d=\"M19 3H5c-1.1 0-2 .9-2 2v14c0 1.1.9 2 2 2h14c1.1 0 2-.9 2-2V5c0-1.1-.9-2-2-2zM9 17H7v-7h2v7zm4 0h-2V7h2v10zm4 0h-2v-4h2v4z\"/>\n",
       "    </g>\n",
       "</svg>\n",
       "  </button>\n",
       "\n",
       "<style>\n",
       "  .colab-df-quickchart {\n",
       "      --bg-color: #E8F0FE;\n",
       "      --fill-color: #1967D2;\n",
       "      --hover-bg-color: #E2EBFA;\n",
       "      --hover-fill-color: #174EA6;\n",
       "      --disabled-fill-color: #AAA;\n",
       "      --disabled-bg-color: #DDD;\n",
       "  }\n",
       "\n",
       "  [theme=dark] .colab-df-quickchart {\n",
       "      --bg-color: #3B4455;\n",
       "      --fill-color: #D2E3FC;\n",
       "      --hover-bg-color: #434B5C;\n",
       "      --hover-fill-color: #FFFFFF;\n",
       "      --disabled-bg-color: #3B4455;\n",
       "      --disabled-fill-color: #666;\n",
       "  }\n",
       "\n",
       "  .colab-df-quickchart {\n",
       "    background-color: var(--bg-color);\n",
       "    border: none;\n",
       "    border-radius: 50%;\n",
       "    cursor: pointer;\n",
       "    display: none;\n",
       "    fill: var(--fill-color);\n",
       "    height: 32px;\n",
       "    padding: 0;\n",
       "    width: 32px;\n",
       "  }\n",
       "\n",
       "  .colab-df-quickchart:hover {\n",
       "    background-color: var(--hover-bg-color);\n",
       "    box-shadow: 0 1px 2px rgba(60, 64, 67, 0.3), 0 1px 3px 1px rgba(60, 64, 67, 0.15);\n",
       "    fill: var(--button-hover-fill-color);\n",
       "  }\n",
       "\n",
       "  .colab-df-quickchart-complete:disabled,\n",
       "  .colab-df-quickchart-complete:disabled:hover {\n",
       "    background-color: var(--disabled-bg-color);\n",
       "    fill: var(--disabled-fill-color);\n",
       "    box-shadow: none;\n",
       "  }\n",
       "\n",
       "  .colab-df-spinner {\n",
       "    border: 2px solid var(--fill-color);\n",
       "    border-color: transparent;\n",
       "    border-bottom-color: var(--fill-color);\n",
       "    animation:\n",
       "      spin 1s steps(1) infinite;\n",
       "  }\n",
       "\n",
       "  @keyframes spin {\n",
       "    0% {\n",
       "      border-color: transparent;\n",
       "      border-bottom-color: var(--fill-color);\n",
       "      border-left-color: var(--fill-color);\n",
       "    }\n",
       "    20% {\n",
       "      border-color: transparent;\n",
       "      border-left-color: var(--fill-color);\n",
       "      border-top-color: var(--fill-color);\n",
       "    }\n",
       "    30% {\n",
       "      border-color: transparent;\n",
       "      border-left-color: var(--fill-color);\n",
       "      border-top-color: var(--fill-color);\n",
       "      border-right-color: var(--fill-color);\n",
       "    }\n",
       "    40% {\n",
       "      border-color: transparent;\n",
       "      border-right-color: var(--fill-color);\n",
       "      border-top-color: var(--fill-color);\n",
       "    }\n",
       "    60% {\n",
       "      border-color: transparent;\n",
       "      border-right-color: var(--fill-color);\n",
       "    }\n",
       "    80% {\n",
       "      border-color: transparent;\n",
       "      border-right-color: var(--fill-color);\n",
       "      border-bottom-color: var(--fill-color);\n",
       "    }\n",
       "    90% {\n",
       "      border-color: transparent;\n",
       "      border-bottom-color: var(--fill-color);\n",
       "    }\n",
       "  }\n",
       "</style>\n",
       "\n",
       "  <script>\n",
       "    async function quickchart(key) {\n",
       "      const quickchartButtonEl =\n",
       "        document.querySelector('#' + key + ' button');\n",
       "      quickchartButtonEl.disabled = true;  // To prevent multiple clicks.\n",
       "      quickchartButtonEl.classList.add('colab-df-spinner');\n",
       "      try {\n",
       "        const charts = await google.colab.kernel.invokeFunction(\n",
       "            'suggestCharts', [key], {});\n",
       "      } catch (error) {\n",
       "        console.error('Error during call to suggestCharts:', error);\n",
       "      }\n",
       "      quickchartButtonEl.classList.remove('colab-df-spinner');\n",
       "      quickchartButtonEl.classList.add('colab-df-quickchart-complete');\n",
       "    }\n",
       "    (() => {\n",
       "      let quickchartButtonEl =\n",
       "        document.querySelector('#df-767284c1-287b-468e-a5e7-784df13eb94a button');\n",
       "      quickchartButtonEl.style.display =\n",
       "        google.colab.kernel.accessAllowed ? 'block' : 'none';\n",
       "    })();\n",
       "  </script>\n",
       "</div>\n",
       "\n",
       "    </div>\n",
       "  </div>\n"
      ],
      "text/plain": [
       "   Unnamed: 0   NCT Number Study Status Study Results  Sex  \\\n",
       "0          27  NCT02572570   TERMINATED           YES  ALL   \n",
       "1          30  NCT02572570   TERMINATED           YES  ALL   \n",
       "2          36  NCT02572570   TERMINATED           YES  ALL   \n",
       "3          39  NCT02572570   TERMINATED           YES  ALL   \n",
       "4          42  NCT02572570   TERMINATED           YES  ALL   \n",
       "\n",
       "                  Age  Enrollment Funder Type      Study Type  count  ...  \\\n",
       "0  ADULT, OLDER_ADULT        27.0       OTHER  INTERVENTIONAL   27.0  ...   \n",
       "1  ADULT, OLDER_ADULT        27.0       OTHER  INTERVENTIONAL   27.0  ...   \n",
       "2  ADULT, OLDER_ADULT        27.0       OTHER  INTERVENTIONAL   27.0  ...   \n",
       "3  ADULT, OLDER_ADULT        27.0       OTHER  INTERVENTIONAL   27.0  ...   \n",
       "4  ADULT, OLDER_ADULT        27.0       OTHER  INTERVENTIONAL   27.0  ...   \n",
       "\n",
       "  adult child older_adult event_type subjects_affected subjects_at_risk  \\\n",
       "0     t     f           t      other               1.0             27.0   \n",
       "1     t     f           t      other               2.0             27.0   \n",
       "2     t     f           t      other               1.0             27.0   \n",
       "3     t     f           t      other               1.0             27.0   \n",
       "4     t     f           t      other               1.0             27.0   \n",
       "\n",
       "   event_count                                     organ_system  \\\n",
       "0          1.0   Injury, poisoning and procedural complications   \n",
       "1          2.0   Injury, poisoning and procedural complications   \n",
       "2          1.0                       Gastrointestinal disorders   \n",
       "3          1.0                      Infections and infestations   \n",
       "4          1.0  Musculoskeletal and connective tissue disorders   \n",
       "\n",
       "   frequency_threshold             assessment  \n",
       "0                  0.0  SYSTEMATIC_ASSESSMENT  \n",
       "1                  0.0  SYSTEMATIC_ASSESSMENT  \n",
       "2                  0.0  SYSTEMATIC_ASSESSMENT  \n",
       "3                  0.0  SYSTEMATIC_ASSESSMENT  \n",
       "4                  0.0  SYSTEMATIC_ASSESSMENT  \n",
       "\n",
       "[5 rows x 22 columns]"
      ]
     },
     "execution_count": 109,
     "metadata": {},
     "output_type": "execute_result"
    }
   ],
   "source": [
    "# Load dataset\n",
    "pd.read_csv('train.csv').head()"
   ]
  },
  {
   "cell_type": "markdown",
   "id": "1b65afae-f3e9-4096-9a98-26a723b57465",
   "metadata": {
    "id": "1b65afae-f3e9-4096-9a98-26a723b57465"
   },
   "source": [
    "## **Results and Observations**\n",
    "---\n",
    "After preprocessing, the following key metrics were observed:\n",
    "- Number of rows before and after cleaning\n",
    "- Total missing values handled\n",
    "- Summary of merged datasets"
   ]
  },
  {
   "cell_type": "markdown",
   "id": "22b7acbe-75d1-441a-ae0d-805fb3c26afb",
   "metadata": {
    "id": "22b7acbe-75d1-441a-ae0d-805fb3c26afb"
   },
   "source": [
    "## **Limitations**\n",
    "---\n",
    "- Potential issues with incomplete merging due to missing IDs.\n",
    "- Further analysis required to validate data integrity."
   ]
  },
  {
   "cell_type": "markdown",
   "id": "cc8f8d86-db51-46d8-9200-2c0b330cf753",
   "metadata": {
    "id": "cc8f8d86-db51-46d8-9200-2c0b330cf753"
   },
   "source": [
    "# **Conclusion**\n",
    "---\n",
    "This notebook demonstrates the importance of data preprocessing as a foundational step in ensuring the dataset is clean, consistent, and ready for analysis. By effectively handling duplicates, missing values, and integrating multiple datasets, the data has been transformed into a high-quality, structured format. The cleaned and merged dataset is now well-prepared for modeling, enabling accurate analysis and meaningful insights to drive data-driven decision-making.\n",
    "\n",
    "---"
   ]
  },
  {
   "cell_type": "code",
   "execution_count": null,
   "id": "be28ac72-49ac-4a29-9930-e87d9c0b0aea",
   "metadata": {},
   "outputs": [],
   "source": []
  }
 ],
 "metadata": {
  "accelerator": "GPU",
  "colab": {
   "gpuType": "T4",
   "provenance": []
  },
  "kernelspec": {
   "display_name": "Python 3 (ipykernel)",
   "language": "python",
   "name": "python3"
  },
  "language_info": {
   "codemirror_mode": {
    "name": "ipython",
    "version": 3
   },
   "file_extension": ".py",
   "mimetype": "text/x-python",
   "name": "python",
   "nbconvert_exporter": "python",
   "pygments_lexer": "ipython3",
   "version": "3.11.9"
  }
 },
 "nbformat": 4,
 "nbformat_minor": 5
}
